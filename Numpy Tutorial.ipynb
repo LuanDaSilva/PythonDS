{
 "cells": [
  {
   "cell_type": "markdown",
   "metadata": {},
   "source": [
    "# Capítulo 2: Introdução ao Numpy / Introduction to Numpy"
   ]
  },
  {
   "cell_type": "code",
   "execution_count": 5,
   "metadata": {},
   "outputs": [
    {
     "output_type": "execute_result",
     "data": {
      "text/plain": [
       "<IPython.core.display.HTML object>"
      ],
      "text/html": "\n<style>\n.output_png {\n    display: table-cell;\n    text-align: center;\n    vertical-align: middle;\n}\n</style>\n"
     },
     "metadata": {},
     "execution_count": 5
    }
   ],
   "source": [
    "from IPython.core.display import HTML\n",
    "HTML(\"\"\"\n",
    "<style>\n",
    ".output_png {\n",
    "    display: table-cell;\n",
    "    text-align: center;\n",
    "    vertical-align: middle;\n",
    "}\n",
    "</style>\n",
    "\"\"\")\n"
   ]
  },
  {
   "cell_type": "code",
   "execution_count": 7,
   "metadata": {},
   "outputs": [],
   "source": [
    "import numpy as np # importing numpy with alias np"
   ]
  },
  {
   "cell_type": "code",
   "execution_count": 9,
   "metadata": {},
   "outputs": [
    {
     "output_type": "execute_result",
     "data": {
      "text/plain": [
       "'1.19.2'"
      ]
     },
     "metadata": {},
     "execution_count": 9
    }
   ],
   "source": [
    "#checando a versão do numpy\n",
    "#checking numpy version\n",
    "np.__version__"
   ]
  },
  {
   "cell_type": "code",
   "execution_count": 11,
   "metadata": {},
   "outputs": [
    {
     "output_type": "execute_result",
     "data": {
      "text/plain": [
       "array([1, 2, 3, 4, 5])"
      ]
     },
     "metadata": {},
     "execution_count": 11
    }
   ],
   "source": [
    "# criando um array de inteiros\n",
    "# creating an integer array\n",
    "np.array([1,2,3,4,5])"
   ]
  },
  {
   "cell_type": "code",
   "execution_count": 13,
   "metadata": {},
   "outputs": [
    {
     "output_type": "execute_result",
     "data": {
      "text/plain": [
       "array([3.14159265, 1.        , 2.        , 3.        , 4.        ])"
      ]
     },
     "metadata": {},
     "execution_count": 13
    }
   ],
   "source": [
    "# o numpy uniformiza os tipos presentes num array\n",
    "# numpy sets the types according with the most complex type\n",
    "np.array([np.pi,1,2,3,4])"
   ]
  },
  {
   "cell_type": "code",
   "execution_count": 15,
   "metadata": {},
   "outputs": [
    {
     "output_type": "execute_result",
     "data": {
      "text/plain": [
       "3"
      ]
     },
     "metadata": {},
     "execution_count": 15
    }
   ],
   "source": [
    "# Acessando items do array\n",
    "# Acessing array items\n",
    "A = np.array([range(i,i+3) for i in [2,4,6]])\n",
    "A[0,1]"
   ]
  },
  {
   "cell_type": "code",
   "execution_count": 17,
   "metadata": {},
   "outputs": [
    {
     "output_type": "execute_result",
     "data": {
      "text/plain": [
       "array([0, 0, 0, 0, 0, 0, 0, 0, 0, 0])"
      ]
     },
     "metadata": {},
     "execution_count": 17
    }
   ],
   "source": [
    "# Creating a zero array pre-allocating memory\n",
    "# Criando array do 0 alocando memória\n",
    "np.zeros(10,dtype = int)"
   ]
  },
  {
   "cell_type": "code",
   "execution_count": 19,
   "metadata": {},
   "outputs": [
    {
     "output_type": "execute_result",
     "data": {
      "text/plain": [
       "array([[1., 1., 1.],\n",
       "       [1., 1., 1.],\n",
       "       [1., 1., 1.]])"
      ]
     },
     "metadata": {},
     "execution_count": 19
    }
   ],
   "source": [
    "# Creating matrices\n",
    "# Criando matrizes \n",
    "np.ones((3,3),dtype = float)"
   ]
  },
  {
   "cell_type": "code",
   "execution_count": 21,
   "metadata": {},
   "outputs": [
    {
     "output_type": "execute_result",
     "data": {
      "text/plain": [
       "array([[3.14159265, 3.14159265, 3.14159265, 3.14159265, 3.14159265],\n",
       "       [3.14159265, 3.14159265, 3.14159265, 3.14159265, 3.14159265],\n",
       "       [3.14159265, 3.14159265, 3.14159265, 3.14159265, 3.14159265]])"
      ]
     },
     "metadata": {},
     "execution_count": 21
    }
   ],
   "source": [
    "# Creating arrays filled with just one value\n",
    "# Criando arrays repletos de um único valor\n",
    "np.full((3,5),np.pi)"
   ]
  },
  {
   "cell_type": "code",
   "execution_count": 23,
   "metadata": {},
   "outputs": [
    {
     "output_type": "execute_result",
     "data": {
      "text/plain": [
       "array([ 0,  2,  4,  6,  8, 10, 12, 14, 16, 18])"
      ]
     },
     "metadata": {},
     "execution_count": 23
    }
   ],
   "source": [
    "# Creating an array filled with a linear sequence begining from 0, ending in 20, with a step 2\n",
    "# Criando um array preenchido por uma sequência linear\n",
    "# começando em 0, terminando em 20, de 2 em 2\n",
    "np.arange(0,20,2)"
   ]
  },
  {
   "cell_type": "code",
   "execution_count": 25,
   "metadata": {},
   "outputs": [
    {
     "output_type": "execute_result",
     "data": {
      "text/plain": [
       "array([0.  , 0.25, 0.5 , 0.75, 1.  ])"
      ]
     },
     "metadata": {},
     "execution_count": 25
    }
   ],
   "source": [
    "# Creating an array from 0 to 1 with equal step\n",
    "# Criando um array de 0 a 1 com passos igualmente espaçados\n",
    "np.linspace(0,1,5)"
   ]
  },
  {
   "cell_type": "code",
   "execution_count": 27,
   "metadata": {},
   "outputs": [
    {
     "output_type": "execute_result",
     "data": {
      "text/plain": [
       "array([[0.65279032, 0.63505887, 0.99529957],\n",
       "       [0.58185033, 0.41436859, 0.4746975 ],\n",
       "       [0.6235101 , 0.33800761, 0.67475232]])"
      ]
     },
     "metadata": {},
     "execution_count": 27
    }
   ],
   "source": [
    "# Generating an array of random numbers, uniformely distributed\n",
    "# Gerando um array de números aleatórios uniformemente distribuídos\n",
    "np.random.random((3,3))"
   ]
  },
  {
   "cell_type": "code",
   "execution_count": 29,
   "metadata": {},
   "outputs": [
    {
     "output_type": "execute_result",
     "data": {
      "text/plain": [
       "array([[1., 0., 0.],\n",
       "       [0., 1., 0.],\n",
       "       [0., 0., 1.]])"
      ]
     },
     "metadata": {},
     "execution_count": 29
    }
   ],
   "source": [
    "# Generating the Identity Matrix\n",
    "# Gerando a matriz identidade\n",
    "np.eye(3)"
   ]
  },
  {
   "cell_type": "markdown",
   "metadata": {},
   "source": [
    "# Atributos do Numpy Array / Numpy Array Attributes"
   ]
  },
  {
   "cell_type": "code",
   "execution_count": 31,
   "metadata": {},
   "outputs": [],
   "source": [
    "# Setting a seed for reproducibility\n",
    "# Definindo um seed para manter a reproducibilidade\n",
    "np.random.seed(0)"
   ]
  },
  {
   "cell_type": "code",
   "execution_count": 33,
   "metadata": {},
   "outputs": [],
   "source": [
    "x1 = np.random.randint(10,size = 6)\n",
    "x2 = np.random.randint(10,size = (3,4))\n",
    "x3 = np.random.randint(10,size = (3,4,5))"
   ]
  },
  {
   "cell_type": "code",
   "execution_count": 35,
   "metadata": {},
   "outputs": [
    {
     "output_type": "stream",
     "name": "stdout",
     "text": [
      "x3 ndim:  3\nx3 shape:  (3, 4, 5)\nx3 size:  60\ndtype int64\n"
     ]
    }
   ],
   "source": [
    "# Obtaining array properties\n",
    "# Obtendo as propriedades do array\n",
    "\n",
    "print(\"x3 ndim: \",x3.ndim)\n",
    "print(\"x3 shape: \",x3.shape)\n",
    "print(\"x3 size: \",x3.size)\n",
    "print(\"dtype\",x3.dtype)"
   ]
  },
  {
   "cell_type": "code",
   "execution_count": 37,
   "metadata": {},
   "outputs": [
    {
     "output_type": "stream",
     "name": "stdout",
     "text": [
      "itemsize: 8 bytes\n"
     ]
    }
   ],
   "source": [
    "print(\"itemsize:\",x3.itemsize,\"bytes\")"
   ]
  },
  {
   "cell_type": "code",
   "execution_count": 39,
   "metadata": {},
   "outputs": [
    {
     "output_type": "stream",
     "name": "stdout",
     "text": [
      "itemsize: 8 bytes\nnbytes: 480 bytes\n"
     ]
    }
   ],
   "source": [
    "print(\"itemsize:\",x3.itemsize,\"bytes\")\n",
    "print(\"nbytes:\",x3.nbytes,\"bytes\")"
   ]
  },
  {
   "cell_type": "markdown",
   "metadata": {},
   "source": [
    "# Acessando os elementos de um array / Acessing array elements"
   ]
  },
  {
   "cell_type": "code",
   "execution_count": 41,
   "metadata": {},
   "outputs": [],
   "source": [
    "x1 = np.random.randint(0,10,50)"
   ]
  },
  {
   "cell_type": "code",
   "execution_count": 43,
   "metadata": {},
   "outputs": [
    {
     "output_type": "execute_result",
     "data": {
      "text/plain": [
       "0"
      ]
     },
     "metadata": {},
     "execution_count": 43
    }
   ],
   "source": [
    "# acessando o terceiro termo do array\n",
    "# accessing the array third term \n",
    "x1[2]\n",
    "# acessando um dos termos finais do array\n",
    "# accessing one of the last term from an array\n",
    "x1[-2]"
   ]
  },
  {
   "cell_type": "code",
   "execution_count": 45,
   "metadata": {},
   "outputs": [
    {
     "output_type": "execute_result",
     "data": {
      "text/plain": [
       "5"
      ]
     },
     "metadata": {},
     "execution_count": 45
    }
   ],
   "source": [
    "# Acessando os elementos de um array multidimensional\n",
    "# Acessing the elements from a multidimensional array\n",
    "\n",
    "x2 = np.random.randint(0,10,size = (4,4))\n",
    "x2[0,-2]"
   ]
  },
  {
   "cell_type": "markdown",
   "metadata": {},
   "source": [
    "# Recortando Arrays / Slicing Arrays"
   ]
  },
  {
   "cell_type": "code",
   "execution_count": 47,
   "metadata": {},
   "outputs": [],
   "source": [
    "x = np.arange(10)"
   ]
  },
  {
   "cell_type": "code",
   "execution_count": 49,
   "metadata": {},
   "outputs": [
    {
     "output_type": "stream",
     "name": "stdout",
     "text": [
      "[0 1 2 3 4]\n[5 6 7 8 9]\n[4 5 6]\n"
     ]
    }
   ],
   "source": [
    "print(x[:5]) # pegando os primeiros 5 elementos / picking the first 5 elements\n",
    "print(x[5:]) # pegando os elementos após o índice 5 / picking the elements from 5 and on\n",
    "print(x[4:7]) # pegando um subarray / picking a subarray"
   ]
  },
  {
   "cell_type": "code",
   "execution_count": 51,
   "metadata": {},
   "outputs": [
    {
     "output_type": "stream",
     "name": "stdout",
     "text": [
      "[0 2 4 6 8]\n[1 3 5 7 9]\n[9 8 7 6 5 4 3 2 1 0]\n[5 3 1]\n"
     ]
    }
   ],
   "source": [
    "# o formato básico para um recorte é início:fim:passo / the slice basic format is start:end:step\n",
    "print(x[::2]) # pegando os elementos de 2 em 2 / picking elements 2 by 2\n",
    "print(x[1::2])# pegando os elementos de 2 em 2, começando do 2º / picking elements 2 by 2, begining from the 2nd\n",
    "print(x[::-1]) # invertendo os elementos/inverting elements\n",
    "print(x[5::-2]) # invertendo os elementos a partir do índice 5/inverting the elements from index 5, 2 by 2"
   ]
  },
  {
   "cell_type": "code",
   "execution_count": 53,
   "metadata": {},
   "outputs": [
    {
     "output_type": "stream",
     "name": "stdout",
     "text": [
      "[[4 6 5]\n [2 3 9]]\n"
     ]
    }
   ],
   "source": [
    "# subarrays multidimensionais/multidimensional subarrays\n",
    "print(x2[:2,:3]) #duas primeiras linhas, 3 primeiras colunas/first two rows, first 3 columns"
   ]
  },
  {
   "cell_type": "code",
   "execution_count": 55,
   "metadata": {},
   "outputs": [
    {
     "output_type": "execute_result",
     "data": {
      "text/plain": [
       "array([[1, 5],\n",
       "       [2, 9],\n",
       "       [5, 4]])"
      ]
     },
     "metadata": {},
     "execution_count": 55
    }
   ],
   "source": [
    "x2[:3,::2] # todas as linhas, colunas pulando de duas em 2/all rows, columns jumping 2 by 2"
   ]
  },
  {
   "cell_type": "code",
   "execution_count": 57,
   "metadata": {},
   "outputs": [
    {
     "output_type": "execute_result",
     "data": {
      "text/plain": [
       "array([[9, 7, 3, 3],\n",
       "       [5, 4, 3, 5],\n",
       "       [7, 9, 3, 2],\n",
       "       [8, 5, 6, 1]])"
      ]
     },
     "metadata": {},
     "execution_count": 57
    }
   ],
   "source": [
    "x2[::-1,::-1] #invertendo o array por completo/ fully inverting an array"
   ]
  },
  {
   "cell_type": "code",
   "execution_count": 59,
   "metadata": {},
   "outputs": [
    {
     "output_type": "stream",
     "name": "stdout",
     "text": [
      "[1 6 5 8]\n[1 2 5 3]\n[1 6 5 8]\n"
     ]
    }
   ],
   "source": [
    "# Acessando linhas e colunas/Accessing rows and columns\n",
    "\n",
    "print(x2[0,:]) # acessando a primeira linha/ accessing the first row\n",
    "\n",
    "print(x2[:,0]) # acessando a primeira coluna/ accessing the first column\n",
    "\n",
    "print(x2[0]) # acessando a primeira linha / accessing the first row, alternative form"
   ]
  },
  {
   "cell_type": "code",
   "execution_count": 61,
   "metadata": {},
   "outputs": [
    {
     "output_type": "stream",
     "name": "stdout",
     "text": [
      "[[1 6]\n [2 3]]\n[[1 6]\n [2 3]]\n[[1 6]\n [2 3]]\n[[1 6 5 8]\n [2 3 9 7]\n [5 3 4 5]\n [3 3 7 9]]\n"
     ]
    }
   ],
   "source": [
    "# Sub-arrays sem cópias/ subarray without copy\n",
    "print(x2[:2,:2])\n",
    "x2sub = x2[:2,:2]\n",
    "print(x2sub)\n",
    "x2sub[0,0]=1\n",
    "print(x2sub)\n",
    "print(x2)\n",
    "# o array original se modificou!/ the original array has been modified!"
   ]
  },
  {
   "cell_type": "markdown",
   "metadata": {},
   "source": [
    "## criando cópias de arrays"
   ]
  },
  {
   "cell_type": "code",
   "execution_count": 63,
   "metadata": {},
   "outputs": [
    {
     "output_type": "stream",
     "name": "stdout",
     "text": [
      "array novo:\n [[57  6]\n [ 2  3]]\narray antigo:\n [[1 6 5 8]\n [2 3 9 7]\n [5 3 4 5]\n [3 3 7 9]]\n"
     ]
    }
   ],
   "source": [
    "#Criando cópias de arrays/ Creating array copies\n",
    "x2_sub_copy = x2[:2,:2].copy()\n",
    "x2_sub_copy[0,0] = 57\n",
    "print('array novo:\\n',x2_sub_copy)\n",
    "print('array antigo:\\n', x2)\n",
    "# o array pai permaneceu inalterado/ the father-array remained untouched"
   ]
  },
  {
   "cell_type": "markdown",
   "metadata": {},
   "source": [
    "# Remodelando arrays / Reshaping arrays"
   ]
  },
  {
   "cell_type": "code",
   "execution_count": 65,
   "metadata": {},
   "outputs": [
    {
     "output_type": "execute_result",
     "data": {
      "text/plain": [
       "array([[1, 2, 3],\n",
       "       [4, 5, 6],\n",
       "       [7, 8, 9]])"
      ]
     },
     "metadata": {},
     "execution_count": 65
    }
   ],
   "source": [
    "grid = np.arange(1,10).reshape(3,3)\n",
    "grid"
   ]
  },
  {
   "cell_type": "code",
   "execution_count": 67,
   "metadata": {},
   "outputs": [
    {
     "output_type": "execute_result",
     "data": {
      "text/plain": [
       "array([[1, 2, 3]])"
      ]
     },
     "metadata": {},
     "execution_count": 67
    }
   ],
   "source": [
    "x = np.array([1,2,3])\n",
    "# vetor-linha via reshape/ line vecetor via reshape\n",
    "x.reshape((1,3))"
   ]
  },
  {
   "cell_type": "code",
   "execution_count": 69,
   "metadata": {},
   "outputs": [
    {
     "output_type": "execute_result",
     "data": {
      "text/plain": [
       "array([[1, 2, 3]])"
      ]
     },
     "metadata": {},
     "execution_count": 69
    }
   ],
   "source": [
    "# vetor linha via método newaxis/ line vector via newaxis\n",
    "x[np.newaxis,:]"
   ]
  },
  {
   "cell_type": "code",
   "execution_count": 71,
   "metadata": {},
   "outputs": [
    {
     "output_type": "execute_result",
     "data": {
      "text/plain": [
       "array([[1],\n",
       "       [2],\n",
       "       [3]])"
      ]
     },
     "metadata": {},
     "execution_count": 71
    }
   ],
   "source": [
    "# vetor coluna via reshape / column vector via reshape\n",
    "x.reshape((3,1))"
   ]
  },
  {
   "cell_type": "code",
   "execution_count": 73,
   "metadata": {},
   "outputs": [
    {
     "output_type": "execute_result",
     "data": {
      "text/plain": [
       "array([[1],\n",
       "       [2],\n",
       "       [3]])"
      ]
     },
     "metadata": {},
     "execution_count": 73
    }
   ],
   "source": [
    "#vetor coluna via newaxis:/ column vector via newaxis\n",
    "x[:,np.newaxis]"
   ]
  },
  {
   "cell_type": "markdown",
   "metadata": {},
   "source": [
    "# Concatenando Arrays/Concatenating Arrays"
   ]
  },
  {
   "cell_type": "code",
   "execution_count": 75,
   "metadata": {},
   "outputs": [
    {
     "output_type": "stream",
     "name": "stdout",
     "text": [
      "[1 2 3 3 2 1]\n[ 1  2  3  3  2  1 99 99 99]\n"
     ]
    }
   ],
   "source": [
    "x = np.array([1,2,3])\n",
    "y = x[::-1]\n",
    "z = np.array([99,99,99])\n",
    "print(np.concatenate([x,y])) # concatenando apenas 2 arrays/concatenating just 2 arrays\n",
    "print(np.concatenate([x,y,z])) # concatenando 3 ou mais arrays/ concatenating 3 or more arrays"
   ]
  },
  {
   "cell_type": "code",
   "execution_count": 77,
   "metadata": {},
   "outputs": [
    {
     "output_type": "stream",
     "name": "stdout",
     "text": [
      "[[1 2 3]\n",
      " [4 5 6]\n",
      " [1 2 3]\n",
      " [4 5 6]]\n",
      "[[1 2 3 1 2 3]\n",
      " [4 5 6 4 5 6]]\n"
     ]
    }
   ],
   "source": [
    "# np.concatenate também tem validade para arrays bidimensionais/np.concatenate also works with bidimensional arrays\n",
    "grid = np.array([[1,2,3],[4,5,6]])\n",
    "print(np.concatenate([grid,grid],axis = 0)) # concatenação nas linhas\n",
    "print(np.concatenate([grid,grid],axis = 1)) # concatenação nas colunas\n"
   ]
  },
  {
   "cell_type": "code",
   "execution_count": 79,
   "metadata": {},
   "outputs": [
    {
     "output_type": "stream",
     "name": "stdout",
     "text": [
      "[[1 2 3]\n [9 8 7]\n [6 5 4]]\n[[ 9  8  7 99]\n [ 6  5  4 99]]\n"
     ]
    }
   ],
   "source": [
    "'''Para arrays de dimensão distinta, recomenda-se o uso \n",
    "de vstack e hstack/ For arrays with different dimensions, it is recomended the use \n",
    "of vstack and hstack'''\n",
    "x = np.array([1, 2, 3])\n",
    "y = np.array([[99],\n",
    "               [99]])\n",
    "grid = np.array([[9, 8, 7],\n",
    "[6, 5, 4]])\n",
    "print(np.vstack([x,grid]))\n",
    "print(np.hstack([grid,y]))"
   ]
  },
  {
   "cell_type": "markdown",
   "metadata": {},
   "source": [
    "# Dividindo arrays/Spliting arrays"
   ]
  },
  {
   "cell_type": "code",
   "execution_count": 81,
   "metadata": {},
   "outputs": [
    {
     "output_type": "stream",
     "name": "stdout",
     "text": [
      "[1 2 3] [99 99] [3 2 1]\n"
     ]
    }
   ],
   "source": [
    "x = [1,2,3,99,99,3,2,1]\n",
    "x1,x2,x3 = np.split(x,[3,5])\n",
    "print(x1,x2,x3)\n",
    "# Perceba que o split gera N+1 subarrays"
   ]
  },
  {
   "cell_type": "code",
   "execution_count": 83,
   "metadata": {},
   "outputs": [
    {
     "output_type": "stream",
     "name": "stdout",
     "text": [
      "[[0 1 2 3]\n [4 5 6 7]] \n [[ 8  9 10 11]\n [12 13 14 15]]\n"
     ]
    }
   ],
   "source": [
    "# vsplit\n",
    "grid = np.arange(16).reshape((4,4))\n",
    "upper,lower = np.vsplit(grid,2)\n",
    "print(upper,'\\n',lower)"
   ]
  },
  {
   "cell_type": "code",
   "execution_count": 85,
   "metadata": {},
   "outputs": [
    {
     "output_type": "stream",
     "name": "stdout",
     "text": [
      "[[ 0  1]\n [ 4  5]\n [ 8  9]\n [12 13]]\n[[ 2  3]\n [ 6  7]\n [10 11]\n [14 15]]\n"
     ]
    }
   ],
   "source": [
    "# hsplit\n",
    "\n",
    "left,right = np.hsplit(grid,[2])\n",
    "print(left)\n",
    "print(right)"
   ]
  },
  {
   "cell_type": "markdown",
   "metadata": {},
   "source": [
    "# Funções Universais/Universal Functions"
   ]
  },
  {
   "cell_type": "code",
   "execution_count": 87,
   "metadata": {},
   "outputs": [
    {
     "output_type": "execute_result",
     "data": {
      "text/plain": [
       "array([0.16666667, 1.        , 0.25      , 0.25      , 0.125     ])"
      ]
     },
     "metadata": {},
     "execution_count": 87
    }
   ],
   "source": [
    "# exemplo sem ufunc/example without ufunc\n",
    "\n",
    "np.random.seed(0)\n",
    "def compute_reciprocals(values):\n",
    "    output = np.empty(len(values))\n",
    "    for i in range(len(values)):\n",
    "        output[i] = 1/values[i]\n",
    "    return output\n",
    "values = np.random.randint(1,10,size = 5)\n",
    "compute_reciprocals(values)"
   ]
  },
  {
   "cell_type": "code",
   "execution_count": 89,
   "metadata": {},
   "outputs": [
    {
     "output_type": "stream",
     "name": "stdout",
     "text": [
      "681 ms ± 148 ms per loop (mean ± std. dev. of 7 runs, 1 loop each)\n"
     ]
    }
   ],
   "source": [
    "big_array = np.random.randint(1,100,size = 1000000)\n",
    "%timeit compute_reciprocals(big_array)"
   ]
  },
  {
   "cell_type": "code",
   "execution_count": 91,
   "metadata": {},
   "outputs": [
    {
     "output_type": "stream",
     "name": "stdout",
     "text": [
      "2.18 ms ± 125 µs per loop (mean ± std. dev. of 7 runs, 100 loops each)\n"
     ]
    }
   ],
   "source": [
    "# com ufunc/with ufunc\n",
    "%timeit 1/big_array"
   ]
  },
  {
   "cell_type": "markdown",
   "metadata": {},
   "source": [
    "# Exploring the Ufuncs/Explorando as Ufuncs"
   ]
  },
  {
   "cell_type": "code",
   "execution_count": 93,
   "metadata": {},
   "outputs": [
    {
     "output_type": "stream",
     "name": "stdout",
     "text": [
      "x+5 =  [5 6 7 8]\nx-5 =  [-5 -4 -3 -2]\nx*2 =  [0 2 4 6]\nx/2 =  [0.  0.5 1.  1.5]\nx//2 =  [0 0 1 1]\nx%2 =  [0 1 0 1]\n"
     ]
    }
   ],
   "source": [
    "x = np.arange(4)\n",
    "print(\"x+5 = \",x+5)\n",
    "print(\"x-5 = \",x-5)\n",
    "print(\"x*2 = \",x*2)\n",
    "print(\"x/2 = \",x/2)\n",
    "print(\"x//2 = \",x//2)\n",
    "print(\"x%2 = \",x%2)"
   ]
  },
  {
   "cell_type": "code",
   "execution_count": 95,
   "metadata": {},
   "outputs": [
    {
     "output_type": "stream",
     "name": "stdout",
     "text": [
      "theta =  [0.         1.57079633 3.14159265]\nsin(theta) =  [0.0000000e+00 1.0000000e+00 1.2246468e-16]\ncos(theta) =  [ 1.000000e+00  6.123234e-17 -1.000000e+00]\ntan(theta) =  [ 0.00000000e+00  1.63312394e+16 -1.22464680e-16]\nx =  [-1, 0, 1]\narcsin(x) =  [-1.57079633  0.          1.57079633]\narccos(x) =  [3.14159265 1.57079633 0.        ]\narctan(x) =  [-0.78539816  0.          0.78539816]\n"
     ]
    }
   ],
   "source": [
    "# funções trigonométricas/trigonometrics functions\n",
    "theta = np.linspace(0,np.pi,3)\n",
    "print(\"theta = \",theta)\n",
    "print(\"sin(theta) = \",np.sin(theta))\n",
    "print(\"cos(theta) = \",np.cos(theta))\n",
    "print(\"tan(theta) = \",np.tan(theta))\n",
    "# funções trigonométricas inversas/inverse trigonometrics functions\n",
    "x = [-1,0,1]\n",
    "print(\"x = \",x)\n",
    "print(\"arcsin(x) = \",np.arcsin(x))\n",
    "print(\"arccos(x) = \",np.arccos(x))\n",
    "print(\"arctan(x) = \",np.arctan(x))"
   ]
  },
  {
   "cell_type": "code",
   "execution_count": 97,
   "metadata": {},
   "outputs": [
    {
     "output_type": "stream",
     "name": "stdout",
     "text": [
      "x = [1, 2, 3]\ne^x = [ 2.71828183  7.3890561  20.08553692]\n2^x = [2. 4. 8.]\n3^x = [ 3  9 27]\n"
     ]
    }
   ],
   "source": [
    "# funções exponenciais/exponential functions\n",
    "x = [1,2,3]\n",
    "print(\"x =\", x)\n",
    "print(\"e^x =\", np.exp(x))\n",
    "print(\"2^x =\", np.exp2(x))\n",
    "print(\"3^x =\", np.power(3, x))"
   ]
  },
  {
   "cell_type": "code",
   "execution_count": 99,
   "metadata": {},
   "outputs": [
    {
     "output_type": "stream",
     "name": "stdout",
     "text": [
      "x = [1, 2, 4, 10]\nlog(x) = [0.         0.69314718 1.38629436 2.30258509]\nlog2(x) = [0.         1.         2.         3.32192809]\nlog10(x) = [0.         0.30103    0.60205999 1.        ]\n"
     ]
    }
   ],
   "source": [
    "# funções logarítmicas/logarithm functions\n",
    "x = [1, 2, 4, 10]\n",
    "print(\"x =\", x)\n",
    "print(\"log(x) =\", np.log(x))\n",
    "print(\"log2(x) =\", np.log2(x))\n",
    "print(\"log10(x) =\", np.log10(x))"
   ]
  },
  {
   "cell_type": "code",
   "execution_count": 101,
   "metadata": {},
   "outputs": [
    {
     "output_type": "stream",
     "name": "stdout",
     "text": [
      "exp(x)-1 [0.         0.0010005  0.01005017 0.10517092]\nlog(1+x) =  [0.         0.0009995  0.00995033 0.09531018]\n"
     ]
    }
   ],
   "source": [
    "x = [0,0.001,0.01,0.1]\n",
    "print(\"exp(x)-1\",np.expm1(x))\n",
    "print(\"log(1+x) = \",np.log1p(x))"
   ]
  },
  {
   "cell_type": "code",
   "execution_count": null,
   "metadata": {},
   "outputs": [],
   "source": [
    "# funções especiais/special functions\n",
    "from scipy import special\n",
    "x = [1,5,10]\n",
    "print(\"gamma(x) = \",special.gamma(x))\n",
    "print(\"ln|gamma(x)| = \", special.gammaln(x))\n",
    "print(\"beta(x,2) = \",special.beta(x,2))"
   ]
  },
  {
   "cell_type": "code",
   "execution_count": 98,
   "metadata": {},
   "outputs": [
    {
     "output_type": "stream",
     "name": "stdout",
     "text": [
      "erf(x) = [0.         0.32862676 0.67780119 0.84270079]\nerfc(x) = [1.         0.67137324 0.32219881 0.15729921]\nerfinv(x) = [0.         0.27246271 0.73286908        inf]\n"
     ]
    }
   ],
   "source": [
    "x = np.array([0, 0.3, 0.7, 1.0])\n",
    "print(\"erf(x) =\", special.erf(x))\n",
    "print(\"erfc(x) =\", special.erfc(x))\n",
    "print(\"erfinv(x) =\", special.erfinv(x))"
   ]
  },
  {
   "cell_type": "markdown",
   "metadata": {},
   "source": [
    "# ufuncs avançadas/advanced ufuncs"
   ]
  },
  {
   "cell_type": "code",
   "execution_count": 100,
   "metadata": {},
   "outputs": [
    {
     "output_type": "stream",
     "name": "stdout",
     "text": [
      "[ 0. 10. 20. 30. 40.]\n"
     ]
    }
   ],
   "source": [
    "# especificando a saida para ganho de desempenho/specifying the output to gain speed\n",
    "x = np.arange(5)\n",
    "y = np.empty(5)\n",
    "np.multiply(x,10,out = y)\n",
    "print(y)"
   ]
  },
  {
   "cell_type": "code",
   "execution_count": 102,
   "metadata": {},
   "outputs": [
    {
     "output_type": "error",
     "ename": "ValueError",
     "evalue": "operands could not be broadcast together with shapes () (4,) (5,) ",
     "traceback": [
      "\u001b[0;31m---------------------------------------------------------------------------\u001b[0m",
      "\u001b[0;31mValueError\u001b[0m                                Traceback (most recent call last)",
      "\u001b[0;32m<ipython-input-102-742210952585>\u001b[0m in \u001b[0;36m<module>\u001b[0;34m\u001b[0m\n\u001b[1;32m      1\u001b[0m \u001b[0my\u001b[0m \u001b[0;34m=\u001b[0m \u001b[0mnp\u001b[0m\u001b[0;34m.\u001b[0m\u001b[0mzeros\u001b[0m\u001b[0;34m(\u001b[0m\u001b[0;36m10\u001b[0m\u001b[0;34m)\u001b[0m\u001b[0;34m\u001b[0m\u001b[0;34m\u001b[0m\u001b[0m\n\u001b[0;32m----> 2\u001b[0;31m \u001b[0mnp\u001b[0m\u001b[0;34m.\u001b[0m\u001b[0mpower\u001b[0m\u001b[0;34m(\u001b[0m\u001b[0;36m2\u001b[0m\u001b[0;34m,\u001b[0m\u001b[0mx\u001b[0m\u001b[0;34m,\u001b[0m\u001b[0mout\u001b[0m \u001b[0;34m=\u001b[0m \u001b[0my\u001b[0m\u001b[0;34m[\u001b[0m\u001b[0;34m:\u001b[0m\u001b[0;34m:\u001b[0m\u001b[0;36m2\u001b[0m\u001b[0;34m]\u001b[0m\u001b[0;34m)\u001b[0m\u001b[0;34m\u001b[0m\u001b[0;34m\u001b[0m\u001b[0m\n\u001b[0m\u001b[1;32m      3\u001b[0m \u001b[0mprint\u001b[0m\u001b[0;34m(\u001b[0m\u001b[0my\u001b[0m\u001b[0;34m)\u001b[0m\u001b[0;34m\u001b[0m\u001b[0;34m\u001b[0m\u001b[0m\n",
      "\u001b[0;31mValueError\u001b[0m: operands could not be broadcast together with shapes () (4,) (5,) "
     ]
    }
   ],
   "source": [
    "y = np.zeros(10)\n",
    "np.power(2,x,out = y[::2])\n",
    "print(y)"
   ]
  },
  {
   "cell_type": "code",
   "execution_count": 104,
   "metadata": {},
   "outputs": [
    {
     "output_type": "execute_result",
     "data": {
      "text/plain": [
       "15"
      ]
     },
     "metadata": {},
     "execution_count": 104
    }
   ],
   "source": [
    "# agregados/aggregates\n",
    "x = np.arange(1,6)\n",
    "np.add.reduce(x)"
   ]
  },
  {
   "cell_type": "code",
   "execution_count": 105,
   "metadata": {},
   "outputs": [
    {
     "output_type": "execute_result",
     "data": {
      "text/plain": [
       "120"
      ]
     },
     "metadata": {},
     "execution_count": 105
    }
   ],
   "source": [
    "np.multiply.reduce(x)"
   ]
  },
  {
   "cell_type": "code",
   "execution_count": 106,
   "metadata": {},
   "outputs": [
    {
     "output_type": "stream",
     "name": "stdout",
     "text": [
      "[ 1  3  6 10 15]\n[ 1  3  6 10 15]\n"
     ]
    }
   ],
   "source": [
    "print(np.add.accumulate(x))\n",
    "# idêntico a/identic to\n",
    "print(np.cumsum(x))"
   ]
  },
  {
   "cell_type": "code",
   "execution_count": 107,
   "metadata": {},
   "outputs": [
    {
     "output_type": "execute_result",
     "data": {
      "text/plain": [
       "array([  1,   2,   6,  24, 120])"
      ]
     },
     "metadata": {},
     "execution_count": 107
    }
   ],
   "source": [
    "np.multiply.accumulate(x)"
   ]
  },
  {
   "cell_type": "code",
   "execution_count": 108,
   "metadata": {},
   "outputs": [
    {
     "output_type": "execute_result",
     "data": {
      "text/plain": [
       "array([[ 1,  2,  3,  4,  5],\n",
       "       [ 2,  4,  6,  8, 10],\n",
       "       [ 3,  6,  9, 12, 15],\n",
       "       [ 4,  8, 12, 16, 20],\n",
       "       [ 5, 10, 15, 20, 25]])"
      ]
     },
     "metadata": {},
     "execution_count": 108
    }
   ],
   "source": [
    "# produto externo/outter product\n",
    "x = np.arange(1,6)\n",
    "np.multiply.outer(x,x)"
   ]
  },
  {
   "cell_type": "markdown",
   "metadata": {},
   "source": [
    "# Agregados: Máximo, mínimo e o meio disso/Aggregates: Maximum, Minimum and In Between"
   ]
  },
  {
   "cell_type": "code",
   "execution_count": 109,
   "metadata": {},
   "outputs": [
    {
     "output_type": "stream",
     "name": "stdout",
     "text": [
      "22.9 µs ± 3.65 µs per loop (mean ± std. dev. of 7 runs, 10000 loops each)\n"
     ]
    }
   ],
   "source": [
    "L = np.random.random(100)\n",
    "%timeit sum(L)"
   ]
  },
  {
   "cell_type": "code",
   "execution_count": 110,
   "metadata": {},
   "outputs": [
    {
     "output_type": "stream",
     "name": "stdout",
     "text": [
      "4.47 µs ± 351 ns per loop (mean ± std. dev. of 7 runs, 100000 loops each)\n"
     ]
    }
   ],
   "source": [
    "%timeit np.sum(L) #5* mais rápido que o sum!!!!!!!!!!!!!!!"
   ]
  },
  {
   "cell_type": "code",
   "execution_count": 111,
   "metadata": {},
   "outputs": [
    {
     "output_type": "stream",
     "name": "stdout",
     "text": [
      "237 ms ± 31.5 ms per loop (mean ± std. dev. of 7 runs, 1 loop each)\n",
      "733 µs ± 68 µs per loop (mean ± std. dev. of 7 runs, 1000 loops each)\n"
     ]
    }
   ],
   "source": [
    "big_array = np.random.rand(1000000)\n",
    "%timeit sum(big_array)\n",
    "%timeit np.sum(big_array)"
   ]
  },
  {
   "cell_type": "code",
   "execution_count": 112,
   "metadata": {},
   "outputs": [
    {
     "output_type": "execute_result",
     "data": {
      "text/plain": [
       "(7.071203171893359e-07, 0.9999997207656334)"
      ]
     },
     "metadata": {},
     "execution_count": 112
    }
   ],
   "source": [
    "min(big_array),max(big_array)"
   ]
  },
  {
   "cell_type": "code",
   "execution_count": 113,
   "metadata": {},
   "outputs": [
    {
     "output_type": "execute_result",
     "data": {
      "text/plain": [
       "(7.071203171893359e-07, 0.9999997207656334)"
      ]
     },
     "metadata": {},
     "execution_count": 113
    }
   ],
   "source": [
    "np.min(big_array),np.max(big_array)"
   ]
  },
  {
   "cell_type": "code",
   "execution_count": 114,
   "metadata": {},
   "outputs": [
    {
     "output_type": "stream",
     "name": "stdout",
     "text": [
      "312 ms ± 52.7 ms per loop (mean ± std. dev. of 7 runs, 1 loop each)\n"
     ]
    }
   ],
   "source": [
    "%timeit min(big_array),max(big_array)"
   ]
  },
  {
   "cell_type": "code",
   "execution_count": 115,
   "metadata": {},
   "outputs": [
    {
     "output_type": "stream",
     "name": "stdout",
     "text": [
      "1.61 ms ± 80.7 µs per loop (mean ± std. dev. of 7 runs, 1000 loops each)\n"
     ]
    }
   ],
   "source": [
    "%timeit np.min(big_array),np.max(big_array)"
   ]
  },
  {
   "cell_type": "code",
   "execution_count": 116,
   "metadata": {},
   "outputs": [
    {
     "output_type": "execute_result",
     "data": {
      "text/plain": [
       "(0.9999997207656334, 7.071203171893359e-07)"
      ]
     },
     "metadata": {},
     "execution_count": 116
    }
   ],
   "source": [
    "# sintaxe compacta/compact syntax\n",
    "big_array.max(),big_array.min()"
   ]
  },
  {
   "cell_type": "markdown",
   "metadata": {},
   "source": [
    "# Agregados Multidimensionais/Multidimensional Aggregates"
   ]
  },
  {
   "cell_type": "code",
   "execution_count": 117,
   "metadata": {},
   "outputs": [
    {
     "output_type": "stream",
     "name": "stdout",
     "text": [
      "[[0.79832448 0.44923861 0.95274259 0.03193135]\n [0.18441813 0.71417358 0.76371195 0.11957117]\n [0.37578601 0.11936151 0.37497044 0.22944653]]\n"
     ]
    }
   ],
   "source": [
    "M = np.random.random((3,4))\n",
    "print(M)"
   ]
  },
  {
   "cell_type": "code",
   "execution_count": 118,
   "metadata": {},
   "outputs": [
    {
     "output_type": "execute_result",
     "data": {
      "text/plain": [
       "5.1136763453287335"
      ]
     },
     "metadata": {},
     "execution_count": 118
    }
   ],
   "source": [
    "M.sum()"
   ]
  },
  {
   "cell_type": "code",
   "execution_count": 119,
   "metadata": {},
   "outputs": [
    {
     "output_type": "execute_result",
     "data": {
      "text/plain": [
       "array([0.18441813, 0.11936151, 0.37497044, 0.03193135])"
      ]
     },
     "metadata": {},
     "execution_count": 119
    }
   ],
   "source": [
    "M.min(axis = 0)"
   ]
  },
  {
   "cell_type": "code",
   "execution_count": 120,
   "metadata": {},
   "outputs": [
    {
     "output_type": "execute_result",
     "data": {
      "text/plain": [
       "array([0.95274259, 0.76371195, 0.37578601])"
      ]
     },
     "metadata": {},
     "execution_count": 120
    }
   ],
   "source": [
    "M.max(axis = 1)"
   ]
  },
  {
   "cell_type": "code",
   "execution_count": 121,
   "metadata": {},
   "outputs": [],
   "source": [
    "# outras versões agregadas/another aggregates versions\n",
    "Y = np.reshape(M,M.shape[0]*M.shape[1])"
   ]
  },
  {
   "cell_type": "code",
   "execution_count": 122,
   "metadata": {},
   "outputs": [
    {
     "output_type": "stream",
     "name": "stdout",
     "text": [
      "5.1136763453287335 5.1136763453287335\n5.064029584029998e-07 5.064029584029998e-07\n0.4261396954440611 0.4261396954440611\n0.11938247707433779 0.11938247707433779\n"
     ]
    }
   ],
   "source": [
    "# função e sua nan safe/functions and its nansafe versions\n",
    "print(np.sum(Y),np.nansum(Y))\n",
    "print(np.prod(Y),np.nanprod(Y))\n",
    "print(np.mean(Y),np.nanmean(Y))\n",
    "print(np.percentile(Y,10),np.nanpercentile(Y,10))"
   ]
  },
  {
   "cell_type": "markdown",
   "metadata": {},
   "source": []
  },
  {
   "source": [
    "# Exemplo com pandas/Example with pandas"
   ],
   "cell_type": "markdown",
   "metadata": {}
  },
  {
   "source": [
    "#"
   ],
   "cell_type": "markdown",
   "metadata": {}
  },
  {
   "cell_type": "code",
   "execution_count": 123,
   "metadata": {},
   "outputs": [],
   "source": [
    "import pandas as pd"
   ]
  },
  {
   "cell_type": "code",
   "execution_count": 124,
   "metadata": {},
   "outputs": [],
   "source": [
    "df = pd.read_csv('president_heights_new.csv')"
   ]
  },
  {
   "cell_type": "code",
   "execution_count": 125,
   "metadata": {},
   "outputs": [
    {
     "output_type": "stream",
     "name": "stdout",
     "text": [
      "order,name,height(cm)\n1,George Washington,189\n2,John Adams,170\n3,Thomas Jefferson,189\n"
     ]
    }
   ],
   "source": [
    "# Verifying the first 3 lines/Verificando as 3 primeiras linhas\n",
    "!head -4 president_heights_new.csv"
   ]
  },
  {
   "cell_type": "code",
   "execution_count": 126,
   "metadata": {},
   "outputs": [
    {
     "output_type": "execute_result",
     "data": {
      "text/plain": [
       "   order               name  height(cm)\n",
       "0      1  George Washington         189\n",
       "1      2         John Adams         170\n",
       "2      3   Thomas Jefferson         189"
      ],
      "text/html": "<div>\n<style scoped>\n    .dataframe tbody tr th:only-of-type {\n        vertical-align: middle;\n    }\n\n    .dataframe tbody tr th {\n        vertical-align: top;\n    }\n\n    .dataframe thead th {\n        text-align: right;\n    }\n</style>\n<table border=\"1\" class=\"dataframe\">\n  <thead>\n    <tr style=\"text-align: right;\">\n      <th></th>\n      <th>order</th>\n      <th>name</th>\n      <th>height(cm)</th>\n    </tr>\n  </thead>\n  <tbody>\n    <tr>\n      <th>0</th>\n      <td>1</td>\n      <td>George Washington</td>\n      <td>189</td>\n    </tr>\n    <tr>\n      <th>1</th>\n      <td>2</td>\n      <td>John Adams</td>\n      <td>170</td>\n    </tr>\n    <tr>\n      <th>2</th>\n      <td>3</td>\n      <td>Thomas Jefferson</td>\n      <td>189</td>\n    </tr>\n  </tbody>\n</table>\n</div>"
     },
     "metadata": {},
     "execution_count": 126
    }
   ],
   "source": [
    "# Alternative form/ Forma alternativa\n",
    "df.head(3)"
   ]
  },
  {
   "cell_type": "code",
   "execution_count": 127,
   "metadata": {},
   "outputs": [],
   "source": [
    "heights = np.array(df['height(cm)'])"
   ]
  },
  {
   "cell_type": "code",
   "execution_count": 128,
   "metadata": {},
   "outputs": [
    {
     "output_type": "stream",
     "name": "stdout",
     "text": [
      "[189 170 189 163 183 171 185 168 173 183 173 173 175 178 183 193 178 173\n 174 183 183 168 170 178 182 180 183 178 182 188 175 179 183 193 182 183\n 177 185 188 188 182 185 188]\n"
     ]
    }
   ],
   "source": [
    "#display all president heights/exibe todas as alturas\n",
    "print(heights)"
   ]
  },
  {
   "cell_type": "code",
   "execution_count": 129,
   "metadata": {},
   "outputs": [
    {
     "output_type": "stream",
     "name": "stdout",
     "text": [
      "Mean height:      179.93023255813952\nStandard Deviation:      6.963009736965726\nMinimum height:      163\nMaximum height:      193\n25th percentile:      174.5\n50th percentile:      174.5\n75th percentile:      174.5\n"
     ]
    }
   ],
   "source": [
    "# Obtain summary statistics/ Obtendo as estatísticas resumo\n",
    "\n",
    "print(\"Mean height:     \",heights.mean())\n",
    "print(\"Standard Deviation:     \",heights.std())\n",
    "print(\"Minimum height:     \",heights.min())\n",
    "print(\"Maximum height:     \",heights.max())\n",
    "print(\"25th percentile:     \",np.percentile(heights,25))\n",
    "print(\"50th percentile:     \",np.percentile(heights,25))\n",
    "print(\"75th percentile:     \",np.percentile(heights,25))"
   ]
  },
  {
   "cell_type": "code",
   "execution_count": 130,
   "metadata": {},
   "outputs": [
    {
     "output_type": "execute_result",
     "data": {
      "text/plain": [
       "          order  height(cm)\n",
       "count  43.00000   43.000000\n",
       "mean   23.00000  179.930233\n",
       "std    13.44123    7.045415\n",
       "min     1.00000  163.000000\n",
       "25%    11.50000  174.500000\n",
       "50%    23.00000  182.000000\n",
       "75%    34.50000  184.000000\n",
       "max    45.00000  193.000000"
      ],
      "text/html": "<div>\n<style scoped>\n    .dataframe tbody tr th:only-of-type {\n        vertical-align: middle;\n    }\n\n    .dataframe tbody tr th {\n        vertical-align: top;\n    }\n\n    .dataframe thead th {\n        text-align: right;\n    }\n</style>\n<table border=\"1\" class=\"dataframe\">\n  <thead>\n    <tr style=\"text-align: right;\">\n      <th></th>\n      <th>order</th>\n      <th>height(cm)</th>\n    </tr>\n  </thead>\n  <tbody>\n    <tr>\n      <th>count</th>\n      <td>43.00000</td>\n      <td>43.000000</td>\n    </tr>\n    <tr>\n      <th>mean</th>\n      <td>23.00000</td>\n      <td>179.930233</td>\n    </tr>\n    <tr>\n      <th>std</th>\n      <td>13.44123</td>\n      <td>7.045415</td>\n    </tr>\n    <tr>\n      <th>min</th>\n      <td>1.00000</td>\n      <td>163.000000</td>\n    </tr>\n    <tr>\n      <th>25%</th>\n      <td>11.50000</td>\n      <td>174.500000</td>\n    </tr>\n    <tr>\n      <th>50%</th>\n      <td>23.00000</td>\n      <td>182.000000</td>\n    </tr>\n    <tr>\n      <th>75%</th>\n      <td>34.50000</td>\n      <td>184.000000</td>\n    </tr>\n    <tr>\n      <th>max</th>\n      <td>45.00000</td>\n      <td>193.000000</td>\n    </tr>\n  </tbody>\n</table>\n</div>"
     },
     "metadata": {},
     "execution_count": 130
    }
   ],
   "source": [
    "#pandas offers natively this feature/ estatísticas resumo são uma opção nativa do pandas\n",
    "df.describe()"
   ]
  },
  {
   "cell_type": "code",
   "execution_count": 131,
   "metadata": {},
   "outputs": [],
   "source": [
    "import matplotlib.pyplot as plt \n",
    "import seaborn as sns; \n",
    "#sns.set()"
   ]
  },
  {
   "cell_type": "code",
   "execution_count": 132,
   "metadata": {},
   "outputs": [
    {
     "output_type": "execute_result",
     "data": {
      "text/plain": [
       "Text(0, 0.5, 'number')"
      ]
     },
     "metadata": {},
     "execution_count": 132
    },
    {
     "output_type": "display_data",
     "data": {
      "text/plain": "<Figure size 432x288 with 1 Axes>",
      "image/svg+xml": "<?xml version=\"1.0\" encoding=\"utf-8\" standalone=\"no\"?>\n<!DOCTYPE svg PUBLIC \"-//W3C//DTD SVG 1.1//EN\"\n  \"http://www.w3.org/Graphics/SVG/1.1/DTD/svg11.dtd\">\n<!-- Created with matplotlib (https://matplotlib.org/) -->\n<svg height=\"277.314375pt\" version=\"1.1\" viewBox=\"0 0 382.603125 277.314375\" width=\"382.603125pt\" xmlns=\"http://www.w3.org/2000/svg\" xmlns:xlink=\"http://www.w3.org/1999/xlink\">\n <metadata>\n  <rdf:RDF xmlns:cc=\"http://creativecommons.org/ns#\" xmlns:dc=\"http://purl.org/dc/elements/1.1/\" xmlns:rdf=\"http://www.w3.org/1999/02/22-rdf-syntax-ns#\">\n   <cc:Work>\n    <dc:type rdf:resource=\"http://purl.org/dc/dcmitype/StillImage\"/>\n    <dc:date>2021-06-29T13:54:24.557971</dc:date>\n    <dc:format>image/svg+xml</dc:format>\n    <dc:creator>\n     <cc:Agent>\n      <dc:title>Matplotlib v3.3.2, https://matplotlib.org/</dc:title>\n     </cc:Agent>\n    </dc:creator>\n   </cc:Work>\n  </rdf:RDF>\n </metadata>\n <defs>\n  <style type=\"text/css\">*{stroke-linecap:butt;stroke-linejoin:round;}</style>\n </defs>\n <g id=\"figure_1\">\n  <g id=\"patch_1\">\n   <path d=\"M 0 277.314375 \nL 382.603125 277.314375 \nL 382.603125 0 \nL 0 0 \nz\n\" style=\"fill:none;\"/>\n  </g>\n  <g id=\"axes_1\">\n   <g id=\"patch_2\">\n    <path d=\"M 40.603125 239.758125 \nL 375.403125 239.758125 \nL 375.403125 22.318125 \nL 40.603125 22.318125 \nz\n\" style=\"fill:#ffffff;\"/>\n   </g>\n   <g id=\"patch_3\">\n    <path clip-path=\"url(#p8c4c098d5b)\" d=\"M 55.821307 239.758125 \nL 86.25767 239.758125 \nL 86.25767 222.500982 \nL 55.821307 222.500982 \nz\n\" style=\"fill:#1f77b4;\"/>\n   </g>\n   <g id=\"patch_4\">\n    <path clip-path=\"url(#p8c4c098d5b)\" d=\"M 86.25767 239.758125 \nL 116.694034 239.758125 \nL 116.694034 205.243839 \nL 86.25767 205.243839 \nz\n\" style=\"fill:#1f77b4;\"/>\n   </g>\n   <g id=\"patch_5\">\n    <path clip-path=\"url(#p8c4c098d5b)\" d=\"M 116.694034 239.758125 \nL 147.130398 239.758125 \nL 147.130398 187.986696 \nL 116.694034 187.986696 \nz\n\" style=\"fill:#1f77b4;\"/>\n   </g>\n   <g id=\"patch_6\">\n    <path clip-path=\"url(#p8c4c098d5b)\" d=\"M 147.130398 239.758125 \nL 177.566761 239.758125 \nL 177.566761 153.472411 \nL 147.130398 153.472411 \nz\n\" style=\"fill:#1f77b4;\"/>\n   </g>\n   <g id=\"patch_7\">\n    <path clip-path=\"url(#p8c4c098d5b)\" d=\"M 177.566761 239.758125 \nL 208.003125 239.758125 \nL 208.003125 187.986696 \nL 177.566761 187.986696 \nz\n\" style=\"fill:#1f77b4;\"/>\n   </g>\n   <g id=\"patch_8\">\n    <path clip-path=\"url(#p8c4c098d5b)\" d=\"M 208.003125 239.758125 \nL 238.439489 239.758125 \nL 238.439489 136.215268 \nL 208.003125 136.215268 \nz\n\" style=\"fill:#1f77b4;\"/>\n   </g>\n   <g id=\"patch_9\">\n    <path clip-path=\"url(#p8c4c098d5b)\" d=\"M 238.439489 239.758125 \nL 268.875852 239.758125 \nL 268.875852 32.672411 \nL 238.439489 32.672411 \nz\n\" style=\"fill:#1f77b4;\"/>\n   </g>\n   <g id=\"patch_10\">\n    <path clip-path=\"url(#p8c4c098d5b)\" d=\"M 268.875852 239.758125 \nL 299.312216 239.758125 \nL 299.312216 187.986696 \nL 268.875852 187.986696 \nz\n\" style=\"fill:#1f77b4;\"/>\n   </g>\n   <g id=\"patch_11\">\n    <path clip-path=\"url(#p8c4c098d5b)\" d=\"M 299.312216 239.758125 \nL 329.74858 239.758125 \nL 329.74858 136.215268 \nL 299.312216 136.215268 \nz\n\" style=\"fill:#1f77b4;\"/>\n   </g>\n   <g id=\"patch_12\">\n    <path clip-path=\"url(#p8c4c098d5b)\" d=\"M 329.74858 239.758125 \nL 360.184943 239.758125 \nL 360.184943 205.243839 \nL 329.74858 205.243839 \nz\n\" style=\"fill:#1f77b4;\"/>\n   </g>\n   <g id=\"matplotlib.axis_1\">\n    <g id=\"xtick_1\">\n     <g id=\"line2d_1\">\n      <defs>\n       <path d=\"M 0 0 \nL 0 3.5 \n\" id=\"mfe3145d0de\" style=\"stroke:#000000;stroke-width:0.8;\"/>\n      </defs>\n      <g>\n       <use style=\"stroke:#000000;stroke-width:0.8;\" x=\"76.112216\" xlink:href=\"#mfe3145d0de\" y=\"239.758125\"/>\n      </g>\n     </g>\n     <g id=\"text_1\">\n      <!-- 165 -->\n      <g transform=\"translate(66.568466 254.356562)scale(0.1 -0.1)\">\n       <defs>\n        <path d=\"M 12.40625 8.296875 \nL 28.515625 8.296875 \nL 28.515625 63.921875 \nL 10.984375 60.40625 \nL 10.984375 69.390625 \nL 28.421875 72.90625 \nL 38.28125 72.90625 \nL 38.28125 8.296875 \nL 54.390625 8.296875 \nL 54.390625 0 \nL 12.40625 0 \nz\n\" id=\"DejaVuSans-49\"/>\n        <path d=\"M 33.015625 40.375 \nQ 26.375 40.375 22.484375 35.828125 \nQ 18.609375 31.296875 18.609375 23.390625 \nQ 18.609375 15.53125 22.484375 10.953125 \nQ 26.375 6.390625 33.015625 6.390625 \nQ 39.65625 6.390625 43.53125 10.953125 \nQ 47.40625 15.53125 47.40625 23.390625 \nQ 47.40625 31.296875 43.53125 35.828125 \nQ 39.65625 40.375 33.015625 40.375 \nz\nM 52.59375 71.296875 \nL 52.59375 62.3125 \nQ 48.875 64.0625 45.09375 64.984375 \nQ 41.3125 65.921875 37.59375 65.921875 \nQ 27.828125 65.921875 22.671875 59.328125 \nQ 17.53125 52.734375 16.796875 39.40625 \nQ 19.671875 43.65625 24.015625 45.921875 \nQ 28.375 48.1875 33.59375 48.1875 \nQ 44.578125 48.1875 50.953125 41.515625 \nQ 57.328125 34.859375 57.328125 23.390625 \nQ 57.328125 12.15625 50.6875 5.359375 \nQ 44.046875 -1.421875 33.015625 -1.421875 \nQ 20.359375 -1.421875 13.671875 8.265625 \nQ 6.984375 17.96875 6.984375 36.375 \nQ 6.984375 53.65625 15.1875 63.9375 \nQ 23.390625 74.21875 37.203125 74.21875 \nQ 40.921875 74.21875 44.703125 73.484375 \nQ 48.484375 72.75 52.59375 71.296875 \nz\n\" id=\"DejaVuSans-54\"/>\n        <path d=\"M 10.796875 72.90625 \nL 49.515625 72.90625 \nL 49.515625 64.59375 \nL 19.828125 64.59375 \nL 19.828125 46.734375 \nQ 21.96875 47.46875 24.109375 47.828125 \nQ 26.265625 48.1875 28.421875 48.1875 \nQ 40.625 48.1875 47.75 41.5 \nQ 54.890625 34.8125 54.890625 23.390625 \nQ 54.890625 11.625 47.5625 5.09375 \nQ 40.234375 -1.421875 26.90625 -1.421875 \nQ 22.3125 -1.421875 17.546875 -0.640625 \nQ 12.796875 0.140625 7.71875 1.703125 \nL 7.71875 11.625 \nQ 12.109375 9.234375 16.796875 8.0625 \nQ 21.484375 6.890625 26.703125 6.890625 \nQ 35.15625 6.890625 40.078125 11.328125 \nQ 45.015625 15.765625 45.015625 23.390625 \nQ 45.015625 31 40.078125 35.4375 \nQ 35.15625 39.890625 26.703125 39.890625 \nQ 22.75 39.890625 18.8125 39.015625 \nQ 14.890625 38.140625 10.796875 36.28125 \nz\n\" id=\"DejaVuSans-53\"/>\n       </defs>\n       <use xlink:href=\"#DejaVuSans-49\"/>\n       <use x=\"63.623047\" xlink:href=\"#DejaVuSans-54\"/>\n       <use x=\"127.246094\" xlink:href=\"#DejaVuSans-53\"/>\n      </g>\n     </g>\n    </g>\n    <g id=\"xtick_2\">\n     <g id=\"line2d_2\">\n      <g>\n       <use style=\"stroke:#000000;stroke-width:0.8;\" x=\"126.839489\" xlink:href=\"#mfe3145d0de\" y=\"239.758125\"/>\n      </g>\n     </g>\n     <g id=\"text_2\">\n      <!-- 170 -->\n      <g transform=\"translate(117.295739 254.356562)scale(0.1 -0.1)\">\n       <defs>\n        <path d=\"M 8.203125 72.90625 \nL 55.078125 72.90625 \nL 55.078125 68.703125 \nL 28.609375 0 \nL 18.3125 0 \nL 43.21875 64.59375 \nL 8.203125 64.59375 \nz\n\" id=\"DejaVuSans-55\"/>\n        <path d=\"M 31.78125 66.40625 \nQ 24.171875 66.40625 20.328125 58.90625 \nQ 16.5 51.421875 16.5 36.375 \nQ 16.5 21.390625 20.328125 13.890625 \nQ 24.171875 6.390625 31.78125 6.390625 \nQ 39.453125 6.390625 43.28125 13.890625 \nQ 47.125 21.390625 47.125 36.375 \nQ 47.125 51.421875 43.28125 58.90625 \nQ 39.453125 66.40625 31.78125 66.40625 \nz\nM 31.78125 74.21875 \nQ 44.046875 74.21875 50.515625 64.515625 \nQ 56.984375 54.828125 56.984375 36.375 \nQ 56.984375 17.96875 50.515625 8.265625 \nQ 44.046875 -1.421875 31.78125 -1.421875 \nQ 19.53125 -1.421875 13.0625 8.265625 \nQ 6.59375 17.96875 6.59375 36.375 \nQ 6.59375 54.828125 13.0625 64.515625 \nQ 19.53125 74.21875 31.78125 74.21875 \nz\n\" id=\"DejaVuSans-48\"/>\n       </defs>\n       <use xlink:href=\"#DejaVuSans-49\"/>\n       <use x=\"63.623047\" xlink:href=\"#DejaVuSans-55\"/>\n       <use x=\"127.246094\" xlink:href=\"#DejaVuSans-48\"/>\n      </g>\n     </g>\n    </g>\n    <g id=\"xtick_3\">\n     <g id=\"line2d_3\">\n      <g>\n       <use style=\"stroke:#000000;stroke-width:0.8;\" x=\"177.566761\" xlink:href=\"#mfe3145d0de\" y=\"239.758125\"/>\n      </g>\n     </g>\n     <g id=\"text_3\">\n      <!-- 175 -->\n      <g transform=\"translate(168.023011 254.356562)scale(0.1 -0.1)\">\n       <use xlink:href=\"#DejaVuSans-49\"/>\n       <use x=\"63.623047\" xlink:href=\"#DejaVuSans-55\"/>\n       <use x=\"127.246094\" xlink:href=\"#DejaVuSans-53\"/>\n      </g>\n     </g>\n    </g>\n    <g id=\"xtick_4\">\n     <g id=\"line2d_4\">\n      <g>\n       <use style=\"stroke:#000000;stroke-width:0.8;\" x=\"228.294034\" xlink:href=\"#mfe3145d0de\" y=\"239.758125\"/>\n      </g>\n     </g>\n     <g id=\"text_4\">\n      <!-- 180 -->\n      <g transform=\"translate(218.750284 254.356562)scale(0.1 -0.1)\">\n       <defs>\n        <path d=\"M 31.78125 34.625 \nQ 24.75 34.625 20.71875 30.859375 \nQ 16.703125 27.09375 16.703125 20.515625 \nQ 16.703125 13.921875 20.71875 10.15625 \nQ 24.75 6.390625 31.78125 6.390625 \nQ 38.8125 6.390625 42.859375 10.171875 \nQ 46.921875 13.96875 46.921875 20.515625 \nQ 46.921875 27.09375 42.890625 30.859375 \nQ 38.875 34.625 31.78125 34.625 \nz\nM 21.921875 38.8125 \nQ 15.578125 40.375 12.03125 44.71875 \nQ 8.5 49.078125 8.5 55.328125 \nQ 8.5 64.0625 14.71875 69.140625 \nQ 20.953125 74.21875 31.78125 74.21875 \nQ 42.671875 74.21875 48.875 69.140625 \nQ 55.078125 64.0625 55.078125 55.328125 \nQ 55.078125 49.078125 51.53125 44.71875 \nQ 48 40.375 41.703125 38.8125 \nQ 48.828125 37.15625 52.796875 32.3125 \nQ 56.78125 27.484375 56.78125 20.515625 \nQ 56.78125 9.90625 50.3125 4.234375 \nQ 43.84375 -1.421875 31.78125 -1.421875 \nQ 19.734375 -1.421875 13.25 4.234375 \nQ 6.78125 9.90625 6.78125 20.515625 \nQ 6.78125 27.484375 10.78125 32.3125 \nQ 14.796875 37.15625 21.921875 38.8125 \nz\nM 18.3125 54.390625 \nQ 18.3125 48.734375 21.84375 45.5625 \nQ 25.390625 42.390625 31.78125 42.390625 \nQ 38.140625 42.390625 41.71875 45.5625 \nQ 45.3125 48.734375 45.3125 54.390625 \nQ 45.3125 60.0625 41.71875 63.234375 \nQ 38.140625 66.40625 31.78125 66.40625 \nQ 25.390625 66.40625 21.84375 63.234375 \nQ 18.3125 60.0625 18.3125 54.390625 \nz\n\" id=\"DejaVuSans-56\"/>\n       </defs>\n       <use xlink:href=\"#DejaVuSans-49\"/>\n       <use x=\"63.623047\" xlink:href=\"#DejaVuSans-56\"/>\n       <use x=\"127.246094\" xlink:href=\"#DejaVuSans-48\"/>\n      </g>\n     </g>\n    </g>\n    <g id=\"xtick_5\">\n     <g id=\"line2d_5\">\n      <g>\n       <use style=\"stroke:#000000;stroke-width:0.8;\" x=\"279.021307\" xlink:href=\"#mfe3145d0de\" y=\"239.758125\"/>\n      </g>\n     </g>\n     <g id=\"text_5\">\n      <!-- 185 -->\n      <g transform=\"translate(269.477557 254.356562)scale(0.1 -0.1)\">\n       <use xlink:href=\"#DejaVuSans-49\"/>\n       <use x=\"63.623047\" xlink:href=\"#DejaVuSans-56\"/>\n       <use x=\"127.246094\" xlink:href=\"#DejaVuSans-53\"/>\n      </g>\n     </g>\n    </g>\n    <g id=\"xtick_6\">\n     <g id=\"line2d_6\">\n      <g>\n       <use style=\"stroke:#000000;stroke-width:0.8;\" x=\"329.74858\" xlink:href=\"#mfe3145d0de\" y=\"239.758125\"/>\n      </g>\n     </g>\n     <g id=\"text_6\">\n      <!-- 190 -->\n      <g transform=\"translate(320.20483 254.356562)scale(0.1 -0.1)\">\n       <defs>\n        <path d=\"M 10.984375 1.515625 \nL 10.984375 10.5 \nQ 14.703125 8.734375 18.5 7.8125 \nQ 22.3125 6.890625 25.984375 6.890625 \nQ 35.75 6.890625 40.890625 13.453125 \nQ 46.046875 20.015625 46.78125 33.40625 \nQ 43.953125 29.203125 39.59375 26.953125 \nQ 35.25 24.703125 29.984375 24.703125 \nQ 19.046875 24.703125 12.671875 31.3125 \nQ 6.296875 37.9375 6.296875 49.421875 \nQ 6.296875 60.640625 12.9375 67.421875 \nQ 19.578125 74.21875 30.609375 74.21875 \nQ 43.265625 74.21875 49.921875 64.515625 \nQ 56.59375 54.828125 56.59375 36.375 \nQ 56.59375 19.140625 48.40625 8.859375 \nQ 40.234375 -1.421875 26.421875 -1.421875 \nQ 22.703125 -1.421875 18.890625 -0.6875 \nQ 15.09375 0.046875 10.984375 1.515625 \nz\nM 30.609375 32.421875 \nQ 37.25 32.421875 41.125 36.953125 \nQ 45.015625 41.5 45.015625 49.421875 \nQ 45.015625 57.28125 41.125 61.84375 \nQ 37.25 66.40625 30.609375 66.40625 \nQ 23.96875 66.40625 20.09375 61.84375 \nQ 16.21875 57.28125 16.21875 49.421875 \nQ 16.21875 41.5 20.09375 36.953125 \nQ 23.96875 32.421875 30.609375 32.421875 \nz\n\" id=\"DejaVuSans-57\"/>\n       </defs>\n       <use xlink:href=\"#DejaVuSans-49\"/>\n       <use x=\"63.623047\" xlink:href=\"#DejaVuSans-57\"/>\n       <use x=\"127.246094\" xlink:href=\"#DejaVuSans-48\"/>\n      </g>\n     </g>\n    </g>\n    <g id=\"text_7\">\n     <!-- height (cm) -->\n     <g transform=\"translate(178.955469 268.034687)scale(0.1 -0.1)\">\n      <defs>\n       <path d=\"M 54.890625 33.015625 \nL 54.890625 0 \nL 45.90625 0 \nL 45.90625 32.71875 \nQ 45.90625 40.484375 42.875 44.328125 \nQ 39.84375 48.1875 33.796875 48.1875 \nQ 26.515625 48.1875 22.3125 43.546875 \nQ 18.109375 38.921875 18.109375 30.90625 \nL 18.109375 0 \nL 9.078125 0 \nL 9.078125 75.984375 \nL 18.109375 75.984375 \nL 18.109375 46.1875 \nQ 21.34375 51.125 25.703125 53.5625 \nQ 30.078125 56 35.796875 56 \nQ 45.21875 56 50.046875 50.171875 \nQ 54.890625 44.34375 54.890625 33.015625 \nz\n\" id=\"DejaVuSans-104\"/>\n       <path d=\"M 56.203125 29.59375 \nL 56.203125 25.203125 \nL 14.890625 25.203125 \nQ 15.484375 15.921875 20.484375 11.0625 \nQ 25.484375 6.203125 34.421875 6.203125 \nQ 39.59375 6.203125 44.453125 7.46875 \nQ 49.3125 8.734375 54.109375 11.28125 \nL 54.109375 2.78125 \nQ 49.265625 0.734375 44.1875 -0.34375 \nQ 39.109375 -1.421875 33.890625 -1.421875 \nQ 20.796875 -1.421875 13.15625 6.1875 \nQ 5.515625 13.8125 5.515625 26.8125 \nQ 5.515625 40.234375 12.765625 48.109375 \nQ 20.015625 56 32.328125 56 \nQ 43.359375 56 49.78125 48.890625 \nQ 56.203125 41.796875 56.203125 29.59375 \nz\nM 47.21875 32.234375 \nQ 47.125 39.59375 43.09375 43.984375 \nQ 39.0625 48.390625 32.421875 48.390625 \nQ 24.90625 48.390625 20.390625 44.140625 \nQ 15.875 39.890625 15.1875 32.171875 \nz\n\" id=\"DejaVuSans-101\"/>\n       <path d=\"M 9.421875 54.6875 \nL 18.40625 54.6875 \nL 18.40625 0 \nL 9.421875 0 \nz\nM 9.421875 75.984375 \nL 18.40625 75.984375 \nL 18.40625 64.59375 \nL 9.421875 64.59375 \nz\n\" id=\"DejaVuSans-105\"/>\n       <path d=\"M 45.40625 27.984375 \nQ 45.40625 37.75 41.375 43.109375 \nQ 37.359375 48.484375 30.078125 48.484375 \nQ 22.859375 48.484375 18.828125 43.109375 \nQ 14.796875 37.75 14.796875 27.984375 \nQ 14.796875 18.265625 18.828125 12.890625 \nQ 22.859375 7.515625 30.078125 7.515625 \nQ 37.359375 7.515625 41.375 12.890625 \nQ 45.40625 18.265625 45.40625 27.984375 \nz\nM 54.390625 6.78125 \nQ 54.390625 -7.171875 48.1875 -13.984375 \nQ 42 -20.796875 29.203125 -20.796875 \nQ 24.46875 -20.796875 20.265625 -20.09375 \nQ 16.0625 -19.390625 12.109375 -17.921875 \nL 12.109375 -9.1875 \nQ 16.0625 -11.328125 19.921875 -12.34375 \nQ 23.78125 -13.375 27.78125 -13.375 \nQ 36.625 -13.375 41.015625 -8.765625 \nQ 45.40625 -4.15625 45.40625 5.171875 \nL 45.40625 9.625 \nQ 42.625 4.78125 38.28125 2.390625 \nQ 33.9375 0 27.875 0 \nQ 17.828125 0 11.671875 7.65625 \nQ 5.515625 15.328125 5.515625 27.984375 \nQ 5.515625 40.671875 11.671875 48.328125 \nQ 17.828125 56 27.875 56 \nQ 33.9375 56 38.28125 53.609375 \nQ 42.625 51.21875 45.40625 46.390625 \nL 45.40625 54.6875 \nL 54.390625 54.6875 \nz\n\" id=\"DejaVuSans-103\"/>\n       <path d=\"M 18.3125 70.21875 \nL 18.3125 54.6875 \nL 36.8125 54.6875 \nL 36.8125 47.703125 \nL 18.3125 47.703125 \nL 18.3125 18.015625 \nQ 18.3125 11.328125 20.140625 9.421875 \nQ 21.96875 7.515625 27.59375 7.515625 \nL 36.8125 7.515625 \nL 36.8125 0 \nL 27.59375 0 \nQ 17.1875 0 13.234375 3.875 \nQ 9.28125 7.765625 9.28125 18.015625 \nL 9.28125 47.703125 \nL 2.6875 47.703125 \nL 2.6875 54.6875 \nL 9.28125 54.6875 \nL 9.28125 70.21875 \nz\n\" id=\"DejaVuSans-116\"/>\n       <path id=\"DejaVuSans-32\"/>\n       <path d=\"M 31 75.875 \nQ 24.46875 64.65625 21.28125 53.65625 \nQ 18.109375 42.671875 18.109375 31.390625 \nQ 18.109375 20.125 21.3125 9.0625 \nQ 24.515625 -2 31 -13.1875 \nL 23.1875 -13.1875 \nQ 15.875 -1.703125 12.234375 9.375 \nQ 8.59375 20.453125 8.59375 31.390625 \nQ 8.59375 42.28125 12.203125 53.3125 \nQ 15.828125 64.359375 23.1875 75.875 \nz\n\" id=\"DejaVuSans-40\"/>\n       <path d=\"M 48.78125 52.59375 \nL 48.78125 44.1875 \nQ 44.96875 46.296875 41.140625 47.34375 \nQ 37.3125 48.390625 33.40625 48.390625 \nQ 24.65625 48.390625 19.8125 42.84375 \nQ 14.984375 37.3125 14.984375 27.296875 \nQ 14.984375 17.28125 19.8125 11.734375 \nQ 24.65625 6.203125 33.40625 6.203125 \nQ 37.3125 6.203125 41.140625 7.25 \nQ 44.96875 8.296875 48.78125 10.40625 \nL 48.78125 2.09375 \nQ 45.015625 0.34375 40.984375 -0.53125 \nQ 36.96875 -1.421875 32.421875 -1.421875 \nQ 20.0625 -1.421875 12.78125 6.34375 \nQ 5.515625 14.109375 5.515625 27.296875 \nQ 5.515625 40.671875 12.859375 48.328125 \nQ 20.21875 56 33.015625 56 \nQ 37.15625 56 41.109375 55.140625 \nQ 45.0625 54.296875 48.78125 52.59375 \nz\n\" id=\"DejaVuSans-99\"/>\n       <path d=\"M 52 44.1875 \nQ 55.375 50.25 60.0625 53.125 \nQ 64.75 56 71.09375 56 \nQ 79.640625 56 84.28125 50.015625 \nQ 88.921875 44.046875 88.921875 33.015625 \nL 88.921875 0 \nL 79.890625 0 \nL 79.890625 32.71875 \nQ 79.890625 40.578125 77.09375 44.375 \nQ 74.3125 48.1875 68.609375 48.1875 \nQ 61.625 48.1875 57.5625 43.546875 \nQ 53.515625 38.921875 53.515625 30.90625 \nL 53.515625 0 \nL 44.484375 0 \nL 44.484375 32.71875 \nQ 44.484375 40.625 41.703125 44.40625 \nQ 38.921875 48.1875 33.109375 48.1875 \nQ 26.21875 48.1875 22.15625 43.53125 \nQ 18.109375 38.875 18.109375 30.90625 \nL 18.109375 0 \nL 9.078125 0 \nL 9.078125 54.6875 \nL 18.109375 54.6875 \nL 18.109375 46.1875 \nQ 21.1875 51.21875 25.484375 53.609375 \nQ 29.78125 56 35.6875 56 \nQ 41.65625 56 45.828125 52.96875 \nQ 50 49.953125 52 44.1875 \nz\n\" id=\"DejaVuSans-109\"/>\n       <path d=\"M 8.015625 75.875 \nL 15.828125 75.875 \nQ 23.140625 64.359375 26.78125 53.3125 \nQ 30.421875 42.28125 30.421875 31.390625 \nQ 30.421875 20.453125 26.78125 9.375 \nQ 23.140625 -1.703125 15.828125 -13.1875 \nL 8.015625 -13.1875 \nQ 14.5 -2 17.703125 9.0625 \nQ 20.90625 20.125 20.90625 31.390625 \nQ 20.90625 42.671875 17.703125 53.65625 \nQ 14.5 64.65625 8.015625 75.875 \nz\n\" id=\"DejaVuSans-41\"/>\n      </defs>\n      <use xlink:href=\"#DejaVuSans-104\"/>\n      <use x=\"63.378906\" xlink:href=\"#DejaVuSans-101\"/>\n      <use x=\"124.902344\" xlink:href=\"#DejaVuSans-105\"/>\n      <use x=\"152.685547\" xlink:href=\"#DejaVuSans-103\"/>\n      <use x=\"216.162109\" xlink:href=\"#DejaVuSans-104\"/>\n      <use x=\"279.541016\" xlink:href=\"#DejaVuSans-116\"/>\n      <use x=\"318.75\" xlink:href=\"#DejaVuSans-32\"/>\n      <use x=\"350.537109\" xlink:href=\"#DejaVuSans-40\"/>\n      <use x=\"389.550781\" xlink:href=\"#DejaVuSans-99\"/>\n      <use x=\"444.53125\" xlink:href=\"#DejaVuSans-109\"/>\n      <use x=\"541.943359\" xlink:href=\"#DejaVuSans-41\"/>\n     </g>\n    </g>\n   </g>\n   <g id=\"matplotlib.axis_2\">\n    <g id=\"ytick_1\">\n     <g id=\"line2d_7\">\n      <defs>\n       <path d=\"M 0 0 \nL -3.5 0 \n\" id=\"me0bfacb757\" style=\"stroke:#000000;stroke-width:0.8;\"/>\n      </defs>\n      <g>\n       <use style=\"stroke:#000000;stroke-width:0.8;\" x=\"40.603125\" xlink:href=\"#me0bfacb757\" y=\"239.758125\"/>\n      </g>\n     </g>\n     <g id=\"text_8\">\n      <!-- 0 -->\n      <g transform=\"translate(27.240625 243.557344)scale(0.1 -0.1)\">\n       <use xlink:href=\"#DejaVuSans-48\"/>\n      </g>\n     </g>\n    </g>\n    <g id=\"ytick_2\">\n     <g id=\"line2d_8\">\n      <g>\n       <use style=\"stroke:#000000;stroke-width:0.8;\" x=\"40.603125\" xlink:href=\"#me0bfacb757\" y=\"205.243839\"/>\n      </g>\n     </g>\n     <g id=\"text_9\">\n      <!-- 2 -->\n      <g transform=\"translate(27.240625 209.043058)scale(0.1 -0.1)\">\n       <defs>\n        <path d=\"M 19.1875 8.296875 \nL 53.609375 8.296875 \nL 53.609375 0 \nL 7.328125 0 \nL 7.328125 8.296875 \nQ 12.9375 14.109375 22.625 23.890625 \nQ 32.328125 33.6875 34.8125 36.53125 \nQ 39.546875 41.84375 41.421875 45.53125 \nQ 43.3125 49.21875 43.3125 52.78125 \nQ 43.3125 58.59375 39.234375 62.25 \nQ 35.15625 65.921875 28.609375 65.921875 \nQ 23.96875 65.921875 18.8125 64.3125 \nQ 13.671875 62.703125 7.8125 59.421875 \nL 7.8125 69.390625 \nQ 13.765625 71.78125 18.9375 73 \nQ 24.125 74.21875 28.421875 74.21875 \nQ 39.75 74.21875 46.484375 68.546875 \nQ 53.21875 62.890625 53.21875 53.421875 \nQ 53.21875 48.921875 51.53125 44.890625 \nQ 49.859375 40.875 45.40625 35.40625 \nQ 44.1875 33.984375 37.640625 27.21875 \nQ 31.109375 20.453125 19.1875 8.296875 \nz\n\" id=\"DejaVuSans-50\"/>\n       </defs>\n       <use xlink:href=\"#DejaVuSans-50\"/>\n      </g>\n     </g>\n    </g>\n    <g id=\"ytick_3\">\n     <g id=\"line2d_9\">\n      <g>\n       <use style=\"stroke:#000000;stroke-width:0.8;\" x=\"40.603125\" xlink:href=\"#me0bfacb757\" y=\"170.729554\"/>\n      </g>\n     </g>\n     <g id=\"text_10\">\n      <!-- 4 -->\n      <g transform=\"translate(27.240625 174.528772)scale(0.1 -0.1)\">\n       <defs>\n        <path d=\"M 37.796875 64.3125 \nL 12.890625 25.390625 \nL 37.796875 25.390625 \nz\nM 35.203125 72.90625 \nL 47.609375 72.90625 \nL 47.609375 25.390625 \nL 58.015625 25.390625 \nL 58.015625 17.1875 \nL 47.609375 17.1875 \nL 47.609375 0 \nL 37.796875 0 \nL 37.796875 17.1875 \nL 4.890625 17.1875 \nL 4.890625 26.703125 \nz\n\" id=\"DejaVuSans-52\"/>\n       </defs>\n       <use xlink:href=\"#DejaVuSans-52\"/>\n      </g>\n     </g>\n    </g>\n    <g id=\"ytick_4\">\n     <g id=\"line2d_10\">\n      <g>\n       <use style=\"stroke:#000000;stroke-width:0.8;\" x=\"40.603125\" xlink:href=\"#me0bfacb757\" y=\"136.215268\"/>\n      </g>\n     </g>\n     <g id=\"text_11\">\n      <!-- 6 -->\n      <g transform=\"translate(27.240625 140.014487)scale(0.1 -0.1)\">\n       <use xlink:href=\"#DejaVuSans-54\"/>\n      </g>\n     </g>\n    </g>\n    <g id=\"ytick_5\">\n     <g id=\"line2d_11\">\n      <g>\n       <use style=\"stroke:#000000;stroke-width:0.8;\" x=\"40.603125\" xlink:href=\"#me0bfacb757\" y=\"101.700982\"/>\n      </g>\n     </g>\n     <g id=\"text_12\">\n      <!-- 8 -->\n      <g transform=\"translate(27.240625 105.500201)scale(0.1 -0.1)\">\n       <use xlink:href=\"#DejaVuSans-56\"/>\n      </g>\n     </g>\n    </g>\n    <g id=\"ytick_6\">\n     <g id=\"line2d_12\">\n      <g>\n       <use style=\"stroke:#000000;stroke-width:0.8;\" x=\"40.603125\" xlink:href=\"#me0bfacb757\" y=\"67.186696\"/>\n      </g>\n     </g>\n     <g id=\"text_13\">\n      <!-- 10 -->\n      <g transform=\"translate(20.878125 70.985915)scale(0.1 -0.1)\">\n       <use xlink:href=\"#DejaVuSans-49\"/>\n       <use x=\"63.623047\" xlink:href=\"#DejaVuSans-48\"/>\n      </g>\n     </g>\n    </g>\n    <g id=\"ytick_7\">\n     <g id=\"line2d_13\">\n      <g>\n       <use style=\"stroke:#000000;stroke-width:0.8;\" x=\"40.603125\" xlink:href=\"#me0bfacb757\" y=\"32.672411\"/>\n      </g>\n     </g>\n     <g id=\"text_14\">\n      <!-- 12 -->\n      <g transform=\"translate(20.878125 36.471629)scale(0.1 -0.1)\">\n       <use xlink:href=\"#DejaVuSans-49\"/>\n       <use x=\"63.623047\" xlink:href=\"#DejaVuSans-50\"/>\n      </g>\n     </g>\n    </g>\n    <g id=\"text_15\">\n     <!-- number -->\n     <g transform=\"translate(14.798438 150.552187)rotate(-90)scale(0.1 -0.1)\">\n      <defs>\n       <path d=\"M 54.890625 33.015625 \nL 54.890625 0 \nL 45.90625 0 \nL 45.90625 32.71875 \nQ 45.90625 40.484375 42.875 44.328125 \nQ 39.84375 48.1875 33.796875 48.1875 \nQ 26.515625 48.1875 22.3125 43.546875 \nQ 18.109375 38.921875 18.109375 30.90625 \nL 18.109375 0 \nL 9.078125 0 \nL 9.078125 54.6875 \nL 18.109375 54.6875 \nL 18.109375 46.1875 \nQ 21.34375 51.125 25.703125 53.5625 \nQ 30.078125 56 35.796875 56 \nQ 45.21875 56 50.046875 50.171875 \nQ 54.890625 44.34375 54.890625 33.015625 \nz\n\" id=\"DejaVuSans-110\"/>\n       <path d=\"M 8.5 21.578125 \nL 8.5 54.6875 \nL 17.484375 54.6875 \nL 17.484375 21.921875 \nQ 17.484375 14.15625 20.5 10.265625 \nQ 23.53125 6.390625 29.59375 6.390625 \nQ 36.859375 6.390625 41.078125 11.03125 \nQ 45.3125 15.671875 45.3125 23.6875 \nL 45.3125 54.6875 \nL 54.296875 54.6875 \nL 54.296875 0 \nL 45.3125 0 \nL 45.3125 8.40625 \nQ 42.046875 3.421875 37.71875 1 \nQ 33.40625 -1.421875 27.6875 -1.421875 \nQ 18.265625 -1.421875 13.375 4.4375 \nQ 8.5 10.296875 8.5 21.578125 \nz\nM 31.109375 56 \nz\n\" id=\"DejaVuSans-117\"/>\n       <path d=\"M 48.6875 27.296875 \nQ 48.6875 37.203125 44.609375 42.84375 \nQ 40.53125 48.484375 33.40625 48.484375 \nQ 26.265625 48.484375 22.1875 42.84375 \nQ 18.109375 37.203125 18.109375 27.296875 \nQ 18.109375 17.390625 22.1875 11.75 \nQ 26.265625 6.109375 33.40625 6.109375 \nQ 40.53125 6.109375 44.609375 11.75 \nQ 48.6875 17.390625 48.6875 27.296875 \nz\nM 18.109375 46.390625 \nQ 20.953125 51.265625 25.265625 53.625 \nQ 29.59375 56 35.59375 56 \nQ 45.5625 56 51.78125 48.09375 \nQ 58.015625 40.1875 58.015625 27.296875 \nQ 58.015625 14.40625 51.78125 6.484375 \nQ 45.5625 -1.421875 35.59375 -1.421875 \nQ 29.59375 -1.421875 25.265625 0.953125 \nQ 20.953125 3.328125 18.109375 8.203125 \nL 18.109375 0 \nL 9.078125 0 \nL 9.078125 75.984375 \nL 18.109375 75.984375 \nz\n\" id=\"DejaVuSans-98\"/>\n       <path d=\"M 41.109375 46.296875 \nQ 39.59375 47.171875 37.8125 47.578125 \nQ 36.03125 48 33.890625 48 \nQ 26.265625 48 22.1875 43.046875 \nQ 18.109375 38.09375 18.109375 28.8125 \nL 18.109375 0 \nL 9.078125 0 \nL 9.078125 54.6875 \nL 18.109375 54.6875 \nL 18.109375 46.1875 \nQ 20.953125 51.171875 25.484375 53.578125 \nQ 30.03125 56 36.53125 56 \nQ 37.453125 56 38.578125 55.875 \nQ 39.703125 55.765625 41.0625 55.515625 \nz\n\" id=\"DejaVuSans-114\"/>\n      </defs>\n      <use xlink:href=\"#DejaVuSans-110\"/>\n      <use x=\"63.378906\" xlink:href=\"#DejaVuSans-117\"/>\n      <use x=\"126.757812\" xlink:href=\"#DejaVuSans-109\"/>\n      <use x=\"224.169922\" xlink:href=\"#DejaVuSans-98\"/>\n      <use x=\"287.646484\" xlink:href=\"#DejaVuSans-101\"/>\n      <use x=\"349.169922\" xlink:href=\"#DejaVuSans-114\"/>\n     </g>\n    </g>\n   </g>\n   <g id=\"patch_13\">\n    <path d=\"M 40.603125 239.758125 \nL 40.603125 22.318125 \n\" style=\"fill:none;stroke:#000000;stroke-linecap:square;stroke-linejoin:miter;stroke-width:0.8;\"/>\n   </g>\n   <g id=\"patch_14\">\n    <path d=\"M 375.403125 239.758125 \nL 375.403125 22.318125 \n\" style=\"fill:none;stroke:#000000;stroke-linecap:square;stroke-linejoin:miter;stroke-width:0.8;\"/>\n   </g>\n   <g id=\"patch_15\">\n    <path d=\"M 40.603125 239.758125 \nL 375.403125 239.758125 \n\" style=\"fill:none;stroke:#000000;stroke-linecap:square;stroke-linejoin:miter;stroke-width:0.8;\"/>\n   </g>\n   <g id=\"patch_16\">\n    <path d=\"M 40.603125 22.318125 \nL 375.403125 22.318125 \n\" style=\"fill:none;stroke:#000000;stroke-linecap:square;stroke-linejoin:miter;stroke-width:0.8;\"/>\n   </g>\n   <g id=\"text_16\">\n    <!-- Height Distribution of US Presidents -->\n    <g transform=\"translate(100.444687 16.318125)scale(0.12 -0.12)\">\n     <defs>\n      <path d=\"M 9.8125 72.90625 \nL 19.671875 72.90625 \nL 19.671875 43.015625 \nL 55.515625 43.015625 \nL 55.515625 72.90625 \nL 65.375 72.90625 \nL 65.375 0 \nL 55.515625 0 \nL 55.515625 34.71875 \nL 19.671875 34.71875 \nL 19.671875 0 \nL 9.8125 0 \nz\n\" id=\"DejaVuSans-72\"/>\n      <path d=\"M 19.671875 64.796875 \nL 19.671875 8.109375 \nL 31.59375 8.109375 \nQ 46.6875 8.109375 53.6875 14.9375 \nQ 60.6875 21.78125 60.6875 36.53125 \nQ 60.6875 51.171875 53.6875 57.984375 \nQ 46.6875 64.796875 31.59375 64.796875 \nz\nM 9.8125 72.90625 \nL 30.078125 72.90625 \nQ 51.265625 72.90625 61.171875 64.09375 \nQ 71.09375 55.28125 71.09375 36.53125 \nQ 71.09375 17.671875 61.125 8.828125 \nQ 51.171875 0 30.078125 0 \nL 9.8125 0 \nz\n\" id=\"DejaVuSans-68\"/>\n      <path d=\"M 44.28125 53.078125 \nL 44.28125 44.578125 \nQ 40.484375 46.53125 36.375 47.5 \nQ 32.28125 48.484375 27.875 48.484375 \nQ 21.1875 48.484375 17.84375 46.4375 \nQ 14.5 44.390625 14.5 40.28125 \nQ 14.5 37.15625 16.890625 35.375 \nQ 19.28125 33.59375 26.515625 31.984375 \nL 29.59375 31.296875 \nQ 39.15625 29.25 43.1875 25.515625 \nQ 47.21875 21.78125 47.21875 15.09375 \nQ 47.21875 7.46875 41.1875 3.015625 \nQ 35.15625 -1.421875 24.609375 -1.421875 \nQ 20.21875 -1.421875 15.453125 -0.5625 \nQ 10.6875 0.296875 5.421875 2 \nL 5.421875 11.28125 \nQ 10.40625 8.6875 15.234375 7.390625 \nQ 20.0625 6.109375 24.8125 6.109375 \nQ 31.15625 6.109375 34.5625 8.28125 \nQ 37.984375 10.453125 37.984375 14.40625 \nQ 37.984375 18.0625 35.515625 20.015625 \nQ 33.0625 21.96875 24.703125 23.78125 \nL 21.578125 24.515625 \nQ 13.234375 26.265625 9.515625 29.90625 \nQ 5.8125 33.546875 5.8125 39.890625 \nQ 5.8125 47.609375 11.28125 51.796875 \nQ 16.75 56 26.8125 56 \nQ 31.78125 56 36.171875 55.265625 \nQ 40.578125 54.546875 44.28125 53.078125 \nz\n\" id=\"DejaVuSans-115\"/>\n      <path d=\"M 30.609375 48.390625 \nQ 23.390625 48.390625 19.1875 42.75 \nQ 14.984375 37.109375 14.984375 27.296875 \nQ 14.984375 17.484375 19.15625 11.84375 \nQ 23.34375 6.203125 30.609375 6.203125 \nQ 37.796875 6.203125 41.984375 11.859375 \nQ 46.1875 17.53125 46.1875 27.296875 \nQ 46.1875 37.015625 41.984375 42.703125 \nQ 37.796875 48.390625 30.609375 48.390625 \nz\nM 30.609375 56 \nQ 42.328125 56 49.015625 48.375 \nQ 55.71875 40.765625 55.71875 27.296875 \nQ 55.71875 13.875 49.015625 6.21875 \nQ 42.328125 -1.421875 30.609375 -1.421875 \nQ 18.84375 -1.421875 12.171875 6.21875 \nQ 5.515625 13.875 5.515625 27.296875 \nQ 5.515625 40.765625 12.171875 48.375 \nQ 18.84375 56 30.609375 56 \nz\n\" id=\"DejaVuSans-111\"/>\n      <path d=\"M 37.109375 75.984375 \nL 37.109375 68.5 \nL 28.515625 68.5 \nQ 23.6875 68.5 21.796875 66.546875 \nQ 19.921875 64.59375 19.921875 59.515625 \nL 19.921875 54.6875 \nL 34.71875 54.6875 \nL 34.71875 47.703125 \nL 19.921875 47.703125 \nL 19.921875 0 \nL 10.890625 0 \nL 10.890625 47.703125 \nL 2.296875 47.703125 \nL 2.296875 54.6875 \nL 10.890625 54.6875 \nL 10.890625 58.5 \nQ 10.890625 67.625 15.140625 71.796875 \nQ 19.390625 75.984375 28.609375 75.984375 \nz\n\" id=\"DejaVuSans-102\"/>\n      <path d=\"M 8.6875 72.90625 \nL 18.609375 72.90625 \nL 18.609375 28.609375 \nQ 18.609375 16.890625 22.84375 11.734375 \nQ 27.09375 6.59375 36.625 6.59375 \nQ 46.09375 6.59375 50.34375 11.734375 \nQ 54.59375 16.890625 54.59375 28.609375 \nL 54.59375 72.90625 \nL 64.5 72.90625 \nL 64.5 27.390625 \nQ 64.5 13.140625 57.4375 5.859375 \nQ 50.390625 -1.421875 36.625 -1.421875 \nQ 22.796875 -1.421875 15.734375 5.859375 \nQ 8.6875 13.140625 8.6875 27.390625 \nz\n\" id=\"DejaVuSans-85\"/>\n      <path d=\"M 53.515625 70.515625 \nL 53.515625 60.890625 \nQ 47.90625 63.578125 42.921875 64.890625 \nQ 37.9375 66.21875 33.296875 66.21875 \nQ 25.25 66.21875 20.875 63.09375 \nQ 16.5 59.96875 16.5 54.203125 \nQ 16.5 49.359375 19.40625 46.890625 \nQ 22.3125 44.4375 30.421875 42.921875 \nL 36.375 41.703125 \nQ 47.40625 39.59375 52.65625 34.296875 \nQ 57.90625 29 57.90625 20.125 \nQ 57.90625 9.515625 50.796875 4.046875 \nQ 43.703125 -1.421875 29.984375 -1.421875 \nQ 24.8125 -1.421875 18.96875 -0.25 \nQ 13.140625 0.921875 6.890625 3.21875 \nL 6.890625 13.375 \nQ 12.890625 10.015625 18.65625 8.296875 \nQ 24.421875 6.59375 29.984375 6.59375 \nQ 38.421875 6.59375 43.015625 9.90625 \nQ 47.609375 13.234375 47.609375 19.390625 \nQ 47.609375 24.75 44.3125 27.78125 \nQ 41.015625 30.8125 33.5 32.328125 \nL 27.484375 33.5 \nQ 16.453125 35.6875 11.515625 40.375 \nQ 6.59375 45.0625 6.59375 53.421875 \nQ 6.59375 63.09375 13.40625 68.65625 \nQ 20.21875 74.21875 32.171875 74.21875 \nQ 37.3125 74.21875 42.625 73.28125 \nQ 47.953125 72.359375 53.515625 70.515625 \nz\n\" id=\"DejaVuSans-83\"/>\n      <path d=\"M 19.671875 64.796875 \nL 19.671875 37.40625 \nL 32.078125 37.40625 \nQ 38.96875 37.40625 42.71875 40.96875 \nQ 46.484375 44.53125 46.484375 51.125 \nQ 46.484375 57.671875 42.71875 61.234375 \nQ 38.96875 64.796875 32.078125 64.796875 \nz\nM 9.8125 72.90625 \nL 32.078125 72.90625 \nQ 44.34375 72.90625 50.609375 67.359375 \nQ 56.890625 61.8125 56.890625 51.125 \nQ 56.890625 40.328125 50.609375 34.8125 \nQ 44.34375 29.296875 32.078125 29.296875 \nL 19.671875 29.296875 \nL 19.671875 0 \nL 9.8125 0 \nz\n\" id=\"DejaVuSans-80\"/>\n      <path d=\"M 45.40625 46.390625 \nL 45.40625 75.984375 \nL 54.390625 75.984375 \nL 54.390625 0 \nL 45.40625 0 \nL 45.40625 8.203125 \nQ 42.578125 3.328125 38.25 0.953125 \nQ 33.9375 -1.421875 27.875 -1.421875 \nQ 17.96875 -1.421875 11.734375 6.484375 \nQ 5.515625 14.40625 5.515625 27.296875 \nQ 5.515625 40.1875 11.734375 48.09375 \nQ 17.96875 56 27.875 56 \nQ 33.9375 56 38.25 53.625 \nQ 42.578125 51.265625 45.40625 46.390625 \nz\nM 14.796875 27.296875 \nQ 14.796875 17.390625 18.875 11.75 \nQ 22.953125 6.109375 30.078125 6.109375 \nQ 37.203125 6.109375 41.296875 11.75 \nQ 45.40625 17.390625 45.40625 27.296875 \nQ 45.40625 37.203125 41.296875 42.84375 \nQ 37.203125 48.484375 30.078125 48.484375 \nQ 22.953125 48.484375 18.875 42.84375 \nQ 14.796875 37.203125 14.796875 27.296875 \nz\n\" id=\"DejaVuSans-100\"/>\n     </defs>\n     <use xlink:href=\"#DejaVuSans-72\"/>\n     <use x=\"75.195312\" xlink:href=\"#DejaVuSans-101\"/>\n     <use x=\"136.71875\" xlink:href=\"#DejaVuSans-105\"/>\n     <use x=\"164.501953\" xlink:href=\"#DejaVuSans-103\"/>\n     <use x=\"227.978516\" xlink:href=\"#DejaVuSans-104\"/>\n     <use x=\"291.357422\" xlink:href=\"#DejaVuSans-116\"/>\n     <use x=\"330.566406\" xlink:href=\"#DejaVuSans-32\"/>\n     <use x=\"362.353516\" xlink:href=\"#DejaVuSans-68\"/>\n     <use x=\"439.355469\" xlink:href=\"#DejaVuSans-105\"/>\n     <use x=\"467.138672\" xlink:href=\"#DejaVuSans-115\"/>\n     <use x=\"519.238281\" xlink:href=\"#DejaVuSans-116\"/>\n     <use x=\"558.447266\" xlink:href=\"#DejaVuSans-114\"/>\n     <use x=\"599.560547\" xlink:href=\"#DejaVuSans-105\"/>\n     <use x=\"627.34375\" xlink:href=\"#DejaVuSans-98\"/>\n     <use x=\"690.820312\" xlink:href=\"#DejaVuSans-117\"/>\n     <use x=\"754.199219\" xlink:href=\"#DejaVuSans-116\"/>\n     <use x=\"793.408203\" xlink:href=\"#DejaVuSans-105\"/>\n     <use x=\"821.191406\" xlink:href=\"#DejaVuSans-111\"/>\n     <use x=\"882.373047\" xlink:href=\"#DejaVuSans-110\"/>\n     <use x=\"945.751953\" xlink:href=\"#DejaVuSans-32\"/>\n     <use x=\"977.539062\" xlink:href=\"#DejaVuSans-111\"/>\n     <use x=\"1038.720703\" xlink:href=\"#DejaVuSans-102\"/>\n     <use x=\"1073.925781\" xlink:href=\"#DejaVuSans-32\"/>\n     <use x=\"1105.712891\" xlink:href=\"#DejaVuSans-85\"/>\n     <use x=\"1178.90625\" xlink:href=\"#DejaVuSans-83\"/>\n     <use x=\"1242.382812\" xlink:href=\"#DejaVuSans-32\"/>\n     <use x=\"1274.169922\" xlink:href=\"#DejaVuSans-80\"/>\n     <use x=\"1332.722656\" xlink:href=\"#DejaVuSans-114\"/>\n     <use x=\"1371.585938\" xlink:href=\"#DejaVuSans-101\"/>\n     <use x=\"1433.109375\" xlink:href=\"#DejaVuSans-115\"/>\n     <use x=\"1485.208984\" xlink:href=\"#DejaVuSans-105\"/>\n     <use x=\"1512.992188\" xlink:href=\"#DejaVuSans-100\"/>\n     <use x=\"1576.46875\" xlink:href=\"#DejaVuSans-101\"/>\n     <use x=\"1637.992188\" xlink:href=\"#DejaVuSans-110\"/>\n     <use x=\"1701.371094\" xlink:href=\"#DejaVuSans-116\"/>\n     <use x=\"1740.580078\" xlink:href=\"#DejaVuSans-115\"/>\n    </g>\n   </g>\n  </g>\n </g>\n <defs>\n  <clipPath id=\"p8c4c098d5b\">\n   <rect height=\"217.44\" width=\"334.8\" x=\"40.603125\" y=\"22.318125\"/>\n  </clipPath>\n </defs>\n</svg>\n",
      "image/png": "[encoded data removed]"
     },
     "metadata": {
      "needs_background": "light"
     }
    }
   ],
   "source": [
    "plt.hist(heights)\n",
    "plt.title(\"Height Distribution of US Presidents\")\n",
    "plt.xlabel('height (cm)')\n",
    "plt.ylabel('number')"
   ]
  },
  {
   "source": [
    "# Computation on Arrays: Broadcasting/ Computando em arrays: Broadcasting"
   ],
   "cell_type": "markdown",
   "metadata": {}
  },
  {
   "cell_type": "code",
   "execution_count": 133,
   "metadata": {},
   "outputs": [
    {
     "output_type": "execute_result",
     "data": {
      "text/plain": [
       "array([5, 6, 7])"
      ]
     },
     "metadata": {},
     "execution_count": 133
    }
   ],
   "source": [
    "#Element-wise operations/operações elemento a elemento\n",
    "a = np.array([0,1,2])\n",
    "b = np.array([5,5,5])\n",
    "a+b"
   ]
  },
  {
   "cell_type": "code",
   "execution_count": 134,
   "metadata": {},
   "outputs": [
    {
     "output_type": "execute_result",
     "data": {
      "text/plain": [
       "array([5, 6, 7])"
      ]
     },
     "metadata": {},
     "execution_count": 134
    }
   ],
   "source": [
    "# Adding a constant/Soma por constante\n",
    "a+5"
   ]
  },
  {
   "cell_type": "code",
   "execution_count": 135,
   "metadata": {},
   "outputs": [
    {
     "output_type": "execute_result",
     "data": {
      "text/plain": [
       "array([[1., 2., 3.],\n",
       "       [1., 2., 3.],\n",
       "       [1., 2., 3.]])"
      ]
     },
     "metadata": {},
     "execution_count": 135
    }
   ],
   "source": [
    "''' The one-dimensional array a is stretched, or broadcast, across the second dimension in order to match the shape of M/ O array unidimensional é esticado ao longo do segundo array para se adequar ao formato de M'''\n",
    "\n",
    "M = np.ones((3,3))\n",
    "M+a"
   ]
  },
  {
   "cell_type": "code",
   "execution_count": 136,
   "metadata": {},
   "outputs": [
    {
     "output_type": "stream",
     "name": "stdout",
     "text": [
      "[0 1 2]\n[[0]\n [1]\n [2]]\n[[0 1 2]\n [1 2 3]\n [2 3 4]]\n"
     ]
    }
   ],
   "source": [
    "# Here, each value in b is summed in row a/ Aqui cada valor de b é somado à linha a\n",
    "a = np.arange(3)\n",
    "b = np.arange(3)[:,np.newaxis]\n",
    "print(a)\n",
    "print(b)\n",
    "print(a+b)"
   ]
  },
  {
   "cell_type": "code",
   "execution_count": 137,
   "metadata": {},
   "outputs": [
    {
     "output_type": "execute_result",
     "data": {
      "text/plain": [
       "array([[1., 2., 3.],\n",
       "       [1., 2., 3.]])"
      ]
     },
     "metadata": {},
     "execution_count": 137
    }
   ],
   "source": [
    "# Example/Exemplos\n",
    "M = np.ones((2,3))\n",
    "a = np.arange(3)\n",
    "a+M\n",
    "# How it worked/Como funcionou\n",
    "# M - (2,3), a -(3,)\n",
    "# the array a has fewer dimensions, so we pad it on the left with one:/o array a tem menos dimensões, daí adicionamos uma dimensão um à esquerda\n",
    "# M - (2,3), a - (1,3)\n",
    "# Since the first dimension disagrees, so we stretch this dimension to match/ Como a primeira dimensão ainda não é compativel, ela é ampliada para permitir a soma\n"
   ]
  },
  {
   "cell_type": "code",
   "execution_count": 138,
   "metadata": {},
   "outputs": [
    {
     "output_type": "execute_result",
     "data": {
      "text/plain": [
       "array([[0, 1, 2],\n",
       "       [1, 2, 3],\n",
       "       [2, 3, 4]])"
      ]
     },
     "metadata": {},
     "execution_count": 138
    }
   ],
   "source": [
    "# Exemplo 2:\n",
    "a = np.arange(3).reshape((3,1))\n",
    "b = np.arange(3)\n",
    "# Here, holds the same logic as above/Aqui segue-se a mesma lógica anterior\n",
    "# a (3,1), b(3,)-> a(3,1),b(1,3)\n",
    "# Now the incompatible dimensions are added until match/ Aqui as dimensões incompatíveis são adicionadas até corresponderem\n",
    "# a(3,1),b(1,3)-> a(3,3),b(3,3)\n",
    "a+b"
   ]
  },
  {
   "cell_type": "code",
   "execution_count": 139,
   "metadata": {},
   "outputs": [
    {
     "output_type": "error",
     "ename": "ValueError",
     "evalue": "operands could not be broadcast together with shapes (3,2) (3,) ",
     "traceback": [
      "\u001b[0;31m---------------------------------------------------------------------------\u001b[0m",
      "\u001b[0;31mValueError\u001b[0m                                Traceback (most recent call last)",
      "\u001b[0;32m<ipython-input-139-2682aef1c47e>\u001b[0m in \u001b[0;36m<module>\u001b[0;34m\u001b[0m\n\u001b[1;32m      5\u001b[0m \u001b[0;31m# Since it is not possible to change the matrix and\u001b[0m\u001b[0;34m\u001b[0m\u001b[0;34m\u001b[0m\u001b[0;34m\u001b[0m\u001b[0m\n\u001b[1;32m      6\u001b[0m \u001b[0;31m# the vector is already modified, the code gives a error/ Como não é possível alterar a matriz e o vetor já foi modificado, aparece um erro\u001b[0m\u001b[0;34m\u001b[0m\u001b[0;34m\u001b[0m\u001b[0;34m\u001b[0m\u001b[0m\n\u001b[0;32m----> 7\u001b[0;31m \u001b[0mM\u001b[0m\u001b[0;34m+\u001b[0m\u001b[0ma\u001b[0m\u001b[0;34m\u001b[0m\u001b[0;34m\u001b[0m\u001b[0m\n\u001b[0m",
      "\u001b[0;31mValueError\u001b[0m: operands could not be broadcast together with shapes (3,2) (3,) "
     ]
    }
   ],
   "source": [
    "# Exemplo 3:\n",
    "M = np.ones((3,2))\n",
    "a = np.arange(3)\n",
    "# M(3,2),a(3,)->M(3,2),a(1,3)->M(3,2),a(3,3);\n",
    "# Since it is not possible to change the matrix and\n",
    "# the vector is already modified, the code gives a error/ Como não é possível alterar a matriz e o vetor já foi modificado, aparece um erro\n",
    "M+a"
   ]
  },
  {
   "cell_type": "code",
   "execution_count": null,
   "metadata": {},
   "outputs": [],
   "source": []
  },
  {
   "cell_type": "code",
   "execution_count": 102,
   "metadata": {},
   "outputs": [
    {
     "output_type": "execute_result",
     "data": {
      "text/plain": [
       "array([[1., 1.],\n",
       "       [2., 2.],\n",
       "       [3., 3.]])"
      ]
     },
     "metadata": {},
     "execution_count": 102
    }
   ],
   "source": [
    "# This problem can be bypassed by redefining the a vector:\n",
    "#Here, it happens the following/Aqui ocorre o seguinte:\n",
    "# a(3,1),M(3,2)->a(3,2),M(3,2). Since the shapes match, the sum can be performed. Já que os formatos são correspondentes, a soma ocorre\n",
    "a = a[:,np.newaxis]\n",
    "M+a"
   ]
  },
  {
   "cell_type": "code",
   "execution_count": 103,
   "metadata": {},
   "outputs": [
    {
     "output_type": "execute_result",
     "data": {
      "text/plain": [
       "array([[[1.31326169, 1.31326169],\n",
       "        [1.31326169, 1.31326169],\n",
       "        [1.31326169, 1.31326169]],\n",
       "\n",
       "       [[1.69314718, 1.69314718],\n",
       "        [1.69314718, 1.69314718],\n",
       "        [1.69314718, 1.69314718]],\n",
       "\n",
       "       [[2.31326169, 2.31326169],\n",
       "        [2.31326169, 2.31326169],\n",
       "        [2.31326169, 2.31326169]]])"
      ]
     },
     "metadata": {},
     "execution_count": 103
    }
   ],
   "source": [
    "# Broadcasting goes beyond simple operations/Broadcasting vai além das operações simples\n",
    "np.logaddexp(a[:,np.newaxis],M)"
   ]
  },
  {
   "source": [
    "# Broadcasting in practice/Broadcasting na prática"
   ],
   "cell_type": "markdown",
   "metadata": {}
  },
  {
   "source": [
    "## Centering an array/Centrando um array"
   ],
   "cell_type": "markdown",
   "metadata": {}
  },
  {
   "cell_type": "code",
   "execution_count": 104,
   "metadata": {},
   "outputs": [
    {
     "output_type": "execute_result",
     "data": {
      "text/plain": [
       "array([-4.44089210e-17,  3.33066907e-17, -9.43689571e-17])"
      ]
     },
     "metadata": {},
     "execution_count": 104
    }
   ],
   "source": [
    "X = np.random.random((10,3))\n",
    "mu = X.mean(axis = 0)\n",
    "X_centered = X-mu\n",
    "# checking/checando\n",
    "X_centered.mean(axis = 0)"
   ]
  },
  {
   "source": [
    "# Plotting a two-dimensional function/Plotando uma função bidimensional"
   ],
   "cell_type": "markdown",
   "metadata": {}
  },
  {
   "cell_type": "code",
   "execution_count": 105,
   "metadata": {},
   "outputs": [],
   "source": [
    "# x and y have 50 steps from 0 to 5. x e y tem 50 passos de 0 a 5\n",
    "x = np.linspace(0,5,50)\n",
    "y = np.linspace(0,5,50)[:,np.newaxis]\n",
    "z = np.sin(x)**10+np.cos(10+y*x)*np.cos(x)"
   ]
  },
  {
   "cell_type": "code",
   "execution_count": 106,
   "metadata": {},
   "outputs": [
    {
     "output_type": "display_data",
     "data": {
      "text/plain": "<Figure size 432x288 with 2 Axes>",
      "image/svg+xml": "<?xml version=\"1.0\" encoding=\"utf-8\" standalone=\"no\"?>\n<!DOCTYPE svg PUBLIC \"-//W3C//DTD SVG 1.1//EN\"\n  \"http://www.w3.org/Graphics/SVG/1.1/DTD/svg11.dtd\">\n<!-- Created with matplotlib (https://matplotlib.org/) -->\n<svg height=\"252.317344pt\" version=\"1.1\" viewBox=\"0 0 310.459812 252.317344\" width=\"310.459812pt\" xmlns=\"http://www.w3.org/2000/svg\" xmlns:xlink=\"http://www.w3.org/1999/xlink\">\n <metadata>\n  <rdf:RDF xmlns:cc=\"http://creativecommons.org/ns#\" xmlns:dc=\"http://purl.org/dc/elements/1.1/\" xmlns:rdf=\"http://www.w3.org/1999/02/22-rdf-syntax-ns#\">\n   <cc:Work>\n    <dc:type rdf:resource=\"http://purl.org/dc/dcmitype/StillImage\"/>\n    <dc:date>2021-06-28T20:23:32.021833</dc:date>\n    <dc:format>image/svg+xml</dc:format>\n    <dc:creator>\n     <cc:Agent>\n      <dc:title>Matplotlib v3.3.2, https://matplotlib.org/</dc:title>\n     </cc:Agent>\n    </dc:creator>\n   </cc:Work>\n  </rdf:RDF>\n </metadata>\n <defs>\n  <style type=\"text/css\">*{stroke-linecap:butt;stroke-linejoin:round;}</style>\n </defs>\n <g id=\"figure_1\">\n  <g id=\"patch_1\">\n   <path d=\"M 0 252.317344 \nL 310.459812 252.317344 \nL 310.459812 0 \nL 0 0 \nz\n\" style=\"fill:none;\"/>\n  </g>\n  <g id=\"axes_1\">\n   <g id=\"patch_2\">\n    <path d=\"M 20.5625 228.439219 \nL 238.0025 228.439219 \nL 238.0025 10.999219 \nL 20.5625 10.999219 \nz\n\" style=\"fill:#ffffff;\"/>\n   </g>\n   <g clip-path=\"url(#p66e9bd7b4b)\">\n    <image height=\"218\" id=\"image5f9e6a7d6f\" transform=\"scale(1 -1)translate(0 -218)\" width=\"218\" x=\"20.5625\" xlink:href=\"data:image/png;base64,\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\" y=\"-10.439219\"/>\n   </g>\n   <g id=\"matplotlib.axis_1\">\n    <g id=\"xtick_1\">\n     <g id=\"line2d_1\">\n      <defs>\n       <path d=\"M 0 0 \nL 0 3.5 \n\" id=\"m0000ba7664\" style=\"stroke:#000000;stroke-width:0.8;\"/>\n      </defs>\n      <g>\n       <use style=\"stroke:#000000;stroke-width:0.8;\" x=\"20.5625\" xlink:href=\"#m0000ba7664\" y=\"228.439219\"/>\n      </g>\n     </g>\n     <g id=\"text_1\">\n      <!-- 0 -->\n      <g transform=\"translate(17.38125 243.037656)scale(0.1 -0.1)\">\n       <defs>\n        <path d=\"M 31.78125 66.40625 \nQ 24.171875 66.40625 20.328125 58.90625 \nQ 16.5 51.421875 16.5 36.375 \nQ 16.5 21.390625 20.328125 13.890625 \nQ 24.171875 6.390625 31.78125 6.390625 \nQ 39.453125 6.390625 43.28125 13.890625 \nQ 47.125 21.390625 47.125 36.375 \nQ 47.125 51.421875 43.28125 58.90625 \nQ 39.453125 66.40625 31.78125 66.40625 \nz\nM 31.78125 74.21875 \nQ 44.046875 74.21875 50.515625 64.515625 \nQ 56.984375 54.828125 56.984375 36.375 \nQ 56.984375 17.96875 50.515625 8.265625 \nQ 44.046875 -1.421875 31.78125 -1.421875 \nQ 19.53125 -1.421875 13.0625 8.265625 \nQ 6.59375 17.96875 6.59375 36.375 \nQ 6.59375 54.828125 13.0625 64.515625 \nQ 19.53125 74.21875 31.78125 74.21875 \nz\n\" id=\"DejaVuSans-48\"/>\n       </defs>\n       <use xlink:href=\"#DejaVuSans-48\"/>\n      </g>\n     </g>\n    </g>\n    <g id=\"xtick_2\">\n     <g id=\"line2d_2\">\n      <g>\n       <use style=\"stroke:#000000;stroke-width:0.8;\" x=\"64.0505\" xlink:href=\"#m0000ba7664\" y=\"228.439219\"/>\n      </g>\n     </g>\n     <g id=\"text_2\">\n      <!-- 1 -->\n      <g transform=\"translate(60.86925 243.037656)scale(0.1 -0.1)\">\n       <defs>\n        <path d=\"M 12.40625 8.296875 \nL 28.515625 8.296875 \nL 28.515625 63.921875 \nL 10.984375 60.40625 \nL 10.984375 69.390625 \nL 28.421875 72.90625 \nL 38.28125 72.90625 \nL 38.28125 8.296875 \nL 54.390625 8.296875 \nL 54.390625 0 \nL 12.40625 0 \nz\n\" id=\"DejaVuSans-49\"/>\n       </defs>\n       <use xlink:href=\"#DejaVuSans-49\"/>\n      </g>\n     </g>\n    </g>\n    <g id=\"xtick_3\">\n     <g id=\"line2d_3\">\n      <g>\n       <use style=\"stroke:#000000;stroke-width:0.8;\" x=\"107.5385\" xlink:href=\"#m0000ba7664\" y=\"228.439219\"/>\n      </g>\n     </g>\n     <g id=\"text_3\">\n      <!-- 2 -->\n      <g transform=\"translate(104.35725 243.037656)scale(0.1 -0.1)\">\n       <defs>\n        <path d=\"M 19.1875 8.296875 \nL 53.609375 8.296875 \nL 53.609375 0 \nL 7.328125 0 \nL 7.328125 8.296875 \nQ 12.9375 14.109375 22.625 23.890625 \nQ 32.328125 33.6875 34.8125 36.53125 \nQ 39.546875 41.84375 41.421875 45.53125 \nQ 43.3125 49.21875 43.3125 52.78125 \nQ 43.3125 58.59375 39.234375 62.25 \nQ 35.15625 65.921875 28.609375 65.921875 \nQ 23.96875 65.921875 18.8125 64.3125 \nQ 13.671875 62.703125 7.8125 59.421875 \nL 7.8125 69.390625 \nQ 13.765625 71.78125 18.9375 73 \nQ 24.125 74.21875 28.421875 74.21875 \nQ 39.75 74.21875 46.484375 68.546875 \nQ 53.21875 62.890625 53.21875 53.421875 \nQ 53.21875 48.921875 51.53125 44.890625 \nQ 49.859375 40.875 45.40625 35.40625 \nQ 44.1875 33.984375 37.640625 27.21875 \nQ 31.109375 20.453125 19.1875 8.296875 \nz\n\" id=\"DejaVuSans-50\"/>\n       </defs>\n       <use xlink:href=\"#DejaVuSans-50\"/>\n      </g>\n     </g>\n    </g>\n    <g id=\"xtick_4\">\n     <g id=\"line2d_4\">\n      <g>\n       <use style=\"stroke:#000000;stroke-width:0.8;\" x=\"151.0265\" xlink:href=\"#m0000ba7664\" y=\"228.439219\"/>\n      </g>\n     </g>\n     <g id=\"text_4\">\n      <!-- 3 -->\n      <g transform=\"translate(147.84525 243.037656)scale(0.1 -0.1)\">\n       <defs>\n        <path d=\"M 40.578125 39.3125 \nQ 47.65625 37.796875 51.625 33 \nQ 55.609375 28.21875 55.609375 21.1875 \nQ 55.609375 10.40625 48.1875 4.484375 \nQ 40.765625 -1.421875 27.09375 -1.421875 \nQ 22.515625 -1.421875 17.65625 -0.515625 \nQ 12.796875 0.390625 7.625 2.203125 \nL 7.625 11.71875 \nQ 11.71875 9.328125 16.59375 8.109375 \nQ 21.484375 6.890625 26.8125 6.890625 \nQ 36.078125 6.890625 40.9375 10.546875 \nQ 45.796875 14.203125 45.796875 21.1875 \nQ 45.796875 27.640625 41.28125 31.265625 \nQ 36.765625 34.90625 28.71875 34.90625 \nL 20.21875 34.90625 \nL 20.21875 43.015625 \nL 29.109375 43.015625 \nQ 36.375 43.015625 40.234375 45.921875 \nQ 44.09375 48.828125 44.09375 54.296875 \nQ 44.09375 59.90625 40.109375 62.90625 \nQ 36.140625 65.921875 28.71875 65.921875 \nQ 24.65625 65.921875 20.015625 65.03125 \nQ 15.375 64.15625 9.8125 62.3125 \nL 9.8125 71.09375 \nQ 15.4375 72.65625 20.34375 73.4375 \nQ 25.25 74.21875 29.59375 74.21875 \nQ 40.828125 74.21875 47.359375 69.109375 \nQ 53.90625 64.015625 53.90625 55.328125 \nQ 53.90625 49.265625 50.4375 45.09375 \nQ 46.96875 40.921875 40.578125 39.3125 \nz\n\" id=\"DejaVuSans-51\"/>\n       </defs>\n       <use xlink:href=\"#DejaVuSans-51\"/>\n      </g>\n     </g>\n    </g>\n    <g id=\"xtick_5\">\n     <g id=\"line2d_5\">\n      <g>\n       <use style=\"stroke:#000000;stroke-width:0.8;\" x=\"194.5145\" xlink:href=\"#m0000ba7664\" y=\"228.439219\"/>\n      </g>\n     </g>\n     <g id=\"text_5\">\n      <!-- 4 -->\n      <g transform=\"translate(191.33325 243.037656)scale(0.1 -0.1)\">\n       <defs>\n        <path d=\"M 37.796875 64.3125 \nL 12.890625 25.390625 \nL 37.796875 25.390625 \nz\nM 35.203125 72.90625 \nL 47.609375 72.90625 \nL 47.609375 25.390625 \nL 58.015625 25.390625 \nL 58.015625 17.1875 \nL 47.609375 17.1875 \nL 47.609375 0 \nL 37.796875 0 \nL 37.796875 17.1875 \nL 4.890625 17.1875 \nL 4.890625 26.703125 \nz\n\" id=\"DejaVuSans-52\"/>\n       </defs>\n       <use xlink:href=\"#DejaVuSans-52\"/>\n      </g>\n     </g>\n    </g>\n    <g id=\"xtick_6\">\n     <g id=\"line2d_6\">\n      <g>\n       <use style=\"stroke:#000000;stroke-width:0.8;\" x=\"238.0025\" xlink:href=\"#m0000ba7664\" y=\"228.439219\"/>\n      </g>\n     </g>\n     <g id=\"text_6\">\n      <!-- 5 -->\n      <g transform=\"translate(234.82125 243.037656)scale(0.1 -0.1)\">\n       <defs>\n        <path d=\"M 10.796875 72.90625 \nL 49.515625 72.90625 \nL 49.515625 64.59375 \nL 19.828125 64.59375 \nL 19.828125 46.734375 \nQ 21.96875 47.46875 24.109375 47.828125 \nQ 26.265625 48.1875 28.421875 48.1875 \nQ 40.625 48.1875 47.75 41.5 \nQ 54.890625 34.8125 54.890625 23.390625 \nQ 54.890625 11.625 47.5625 5.09375 \nQ 40.234375 -1.421875 26.90625 -1.421875 \nQ 22.3125 -1.421875 17.546875 -0.640625 \nQ 12.796875 0.140625 7.71875 1.703125 \nL 7.71875 11.625 \nQ 12.109375 9.234375 16.796875 8.0625 \nQ 21.484375 6.890625 26.703125 6.890625 \nQ 35.15625 6.890625 40.078125 11.328125 \nQ 45.015625 15.765625 45.015625 23.390625 \nQ 45.015625 31 40.078125 35.4375 \nQ 35.15625 39.890625 26.703125 39.890625 \nQ 22.75 39.890625 18.8125 39.015625 \nQ 14.890625 38.140625 10.796875 36.28125 \nz\n\" id=\"DejaVuSans-53\"/>\n       </defs>\n       <use xlink:href=\"#DejaVuSans-53\"/>\n      </g>\n     </g>\n    </g>\n   </g>\n   <g id=\"matplotlib.axis_2\">\n    <g id=\"ytick_1\">\n     <g id=\"line2d_7\">\n      <defs>\n       <path d=\"M 0 0 \nL -3.5 0 \n\" id=\"m05855b674b\" style=\"stroke:#000000;stroke-width:0.8;\"/>\n      </defs>\n      <g>\n       <use style=\"stroke:#000000;stroke-width:0.8;\" x=\"20.5625\" xlink:href=\"#m05855b674b\" y=\"228.439219\"/>\n      </g>\n     </g>\n     <g id=\"text_7\">\n      <!-- 0 -->\n      <g transform=\"translate(7.2 232.238437)scale(0.1 -0.1)\">\n       <use xlink:href=\"#DejaVuSans-48\"/>\n      </g>\n     </g>\n    </g>\n    <g id=\"ytick_2\">\n     <g id=\"line2d_8\">\n      <g>\n       <use style=\"stroke:#000000;stroke-width:0.8;\" x=\"20.5625\" xlink:href=\"#m05855b674b\" y=\"184.951219\"/>\n      </g>\n     </g>\n     <g id=\"text_8\">\n      <!-- 1 -->\n      <g transform=\"translate(7.2 188.750437)scale(0.1 -0.1)\">\n       <use xlink:href=\"#DejaVuSans-49\"/>\n      </g>\n     </g>\n    </g>\n    <g id=\"ytick_3\">\n     <g id=\"line2d_9\">\n      <g>\n       <use style=\"stroke:#000000;stroke-width:0.8;\" x=\"20.5625\" xlink:href=\"#m05855b674b\" y=\"141.463219\"/>\n      </g>\n     </g>\n     <g id=\"text_9\">\n      <!-- 2 -->\n      <g transform=\"translate(7.2 145.262437)scale(0.1 -0.1)\">\n       <use xlink:href=\"#DejaVuSans-50\"/>\n      </g>\n     </g>\n    </g>\n    <g id=\"ytick_4\">\n     <g id=\"line2d_10\">\n      <g>\n       <use style=\"stroke:#000000;stroke-width:0.8;\" x=\"20.5625\" xlink:href=\"#m05855b674b\" y=\"97.975219\"/>\n      </g>\n     </g>\n     <g id=\"text_10\">\n      <!-- 3 -->\n      <g transform=\"translate(7.2 101.774437)scale(0.1 -0.1)\">\n       <use xlink:href=\"#DejaVuSans-51\"/>\n      </g>\n     </g>\n    </g>\n    <g id=\"ytick_5\">\n     <g id=\"line2d_11\">\n      <g>\n       <use style=\"stroke:#000000;stroke-width:0.8;\" x=\"20.5625\" xlink:href=\"#m05855b674b\" y=\"54.487219\"/>\n      </g>\n     </g>\n     <g id=\"text_11\">\n      <!-- 4 -->\n      <g transform=\"translate(7.2 58.286437)scale(0.1 -0.1)\">\n       <use xlink:href=\"#DejaVuSans-52\"/>\n      </g>\n     </g>\n    </g>\n    <g id=\"ytick_6\">\n     <g id=\"line2d_12\">\n      <g>\n       <use style=\"stroke:#000000;stroke-width:0.8;\" x=\"20.5625\" xlink:href=\"#m05855b674b\" y=\"10.999219\"/>\n      </g>\n     </g>\n     <g id=\"text_12\">\n      <!-- 5 -->\n      <g transform=\"translate(7.2 14.798437)scale(0.1 -0.1)\">\n       <use xlink:href=\"#DejaVuSans-53\"/>\n      </g>\n     </g>\n    </g>\n   </g>\n   <g id=\"patch_3\">\n    <path d=\"M 20.5625 228.439219 \nL 20.5625 10.999219 \n\" style=\"fill:none;stroke:#000000;stroke-linecap:square;stroke-linejoin:miter;stroke-width:0.8;\"/>\n   </g>\n   <g id=\"patch_4\">\n    <path d=\"M 238.0025 228.439219 \nL 238.0025 10.999219 \n\" style=\"fill:none;stroke:#000000;stroke-linecap:square;stroke-linejoin:miter;stroke-width:0.8;\"/>\n   </g>\n   <g id=\"patch_5\">\n    <path d=\"M 20.5625 228.439219 \nL 238.0025 228.439219 \n\" style=\"fill:none;stroke:#000000;stroke-linecap:square;stroke-linejoin:miter;stroke-width:0.8;\"/>\n   </g>\n   <g id=\"patch_6\">\n    <path d=\"M 20.5625 10.999219 \nL 238.0025 10.999219 \n\" style=\"fill:none;stroke:#000000;stroke-linecap:square;stroke-linejoin:miter;stroke-width:0.8;\"/>\n   </g>\n  </g>\n  <g id=\"axes_2\">\n   <g id=\"patch_7\">\n    <path clip-path=\"url(#p3d94b3c465)\" d=\"M 254.7425 228.439219 \nL 254.7425 227.589844 \nL 254.7425 11.848594 \nL 254.7425 10.999219 \nL 265.6145 10.999219 \nL 265.6145 11.848594 \nL 265.6145 227.589844 \nL 265.6145 228.439219 \nz\n\" style=\"fill:#ffffff;stroke:#ffffff;stroke-linejoin:miter;stroke-width:0.01;\"/>\n   </g>\n   <image height=\"217\" id=\"imagebbd81b8994\" transform=\"scale(1 -1)translate(0 -217)\" width=\"11\" x=\"255\" xlink:href=\"data:image/png;base64,\niVBORw0KGgoAAAANSUhEUgAAAAsAAADZCAYAAAD2WsoCAAABSElEQVR4nN2awQ0CMQwEYztHZdRA/41AaMHzGMl3vK3V7qxD0HHxzs9Zzc+OjO7s2iuyP8yUq4gNoBwJPCPlpSkHosEa1IaHcBZpaDZEdBaNw2y0Z00aomftWJ2a0WB/1gx4NBsooLdIhxxYjwZUBsNwn4nyHWmIdSMbmrJGw9wNS9nkfEN0M7ZuirJHoz+LL3piA92Dmo3n1/14dDcM6NW9on++x6C7Hw3gmAcEnr1SRM4zaICfSG4pXsARyuA5GaTBbMxAl2JAi4bnOZMMezaWha7yB2x4AUUaYHhrNLyAng1GQ/RslbKZMhgusW6LxhVfSRnSsAIWUb6S0CANlrd1xAasG9kY0SDizGgwG1ZAVMpLDKjthnasrgVowIDWPciWn30VeAHbs1S5L7z2i/zdgJSLKYPhIsNI+Qrwug7zTN45SfCQ6g9eiIFo/nbsswAAAABJRU5ErkJggg==\" y=\"-11\"/>\n   <g id=\"matplotlib.axis_3\"/>\n   <g id=\"matplotlib.axis_4\">\n    <g id=\"ytick_7\">\n     <g id=\"line2d_13\">\n      <defs>\n       <path d=\"M 0 0 \nL 3.5 0 \n\" id=\"m6743f8565b\" style=\"stroke:#000000;stroke-width:0.8;\"/>\n      </defs>\n      <g>\n       <use style=\"stroke:#000000;stroke-width:0.8;\" x=\"265.6145\" xlink:href=\"#m6743f8565b\" y=\"201.955892\"/>\n      </g>\n     </g>\n     <g id=\"text_13\">\n      <!-- −0.75 -->\n      <g transform=\"translate(272.6145 205.75511)scale(0.1 -0.1)\">\n       <defs>\n        <path d=\"M 10.59375 35.5 \nL 73.1875 35.5 \nL 73.1875 27.203125 \nL 10.59375 27.203125 \nz\n\" id=\"DejaVuSans-8722\"/>\n        <path d=\"M 10.6875 12.40625 \nL 21 12.40625 \nL 21 0 \nL 10.6875 0 \nz\n\" id=\"DejaVuSans-46\"/>\n        <path d=\"M 8.203125 72.90625 \nL 55.078125 72.90625 \nL 55.078125 68.703125 \nL 28.609375 0 \nL 18.3125 0 \nL 43.21875 64.59375 \nL 8.203125 64.59375 \nz\n\" id=\"DejaVuSans-55\"/>\n       </defs>\n       <use xlink:href=\"#DejaVuSans-8722\"/>\n       <use x=\"83.789062\" xlink:href=\"#DejaVuSans-48\"/>\n       <use x=\"147.412109\" xlink:href=\"#DejaVuSans-46\"/>\n       <use x=\"179.199219\" xlink:href=\"#DejaVuSans-55\"/>\n       <use x=\"242.822266\" xlink:href=\"#DejaVuSans-53\"/>\n      </g>\n     </g>\n    </g>\n    <g id=\"ytick_8\">\n     <g id=\"line2d_14\">\n      <g>\n       <use style=\"stroke:#000000;stroke-width:0.8;\" x=\"265.6145\" xlink:href=\"#m6743f8565b\" y=\"175.434266\"/>\n      </g>\n     </g>\n     <g id=\"text_14\">\n      <!-- −0.50 -->\n      <g transform=\"translate(272.6145 179.233485)scale(0.1 -0.1)\">\n       <use xlink:href=\"#DejaVuSans-8722\"/>\n       <use x=\"83.789062\" xlink:href=\"#DejaVuSans-48\"/>\n       <use x=\"147.412109\" xlink:href=\"#DejaVuSans-46\"/>\n       <use x=\"179.199219\" xlink:href=\"#DejaVuSans-53\"/>\n       <use x=\"242.822266\" xlink:href=\"#DejaVuSans-48\"/>\n      </g>\n     </g>\n    </g>\n    <g id=\"ytick_9\">\n     <g id=\"line2d_15\">\n      <g>\n       <use style=\"stroke:#000000;stroke-width:0.8;\" x=\"265.6145\" xlink:href=\"#m6743f8565b\" y=\"148.912641\"/>\n      </g>\n     </g>\n     <g id=\"text_15\">\n      <!-- −0.25 -->\n      <g transform=\"translate(272.6145 152.71186)scale(0.1 -0.1)\">\n       <use xlink:href=\"#DejaVuSans-8722\"/>\n       <use x=\"83.789062\" xlink:href=\"#DejaVuSans-48\"/>\n       <use x=\"147.412109\" xlink:href=\"#DejaVuSans-46\"/>\n       <use x=\"179.199219\" xlink:href=\"#DejaVuSans-50\"/>\n       <use x=\"242.822266\" xlink:href=\"#DejaVuSans-53\"/>\n      </g>\n     </g>\n    </g>\n    <g id=\"ytick_10\">\n     <g id=\"line2d_16\">\n      <g>\n       <use style=\"stroke:#000000;stroke-width:0.8;\" x=\"265.6145\" xlink:href=\"#m6743f8565b\" y=\"122.391016\"/>\n      </g>\n     </g>\n     <g id=\"text_16\">\n      <!-- 0.00 -->\n      <g transform=\"translate(272.6145 126.190235)scale(0.1 -0.1)\">\n       <use xlink:href=\"#DejaVuSans-48\"/>\n       <use x=\"63.623047\" xlink:href=\"#DejaVuSans-46\"/>\n       <use x=\"95.410156\" xlink:href=\"#DejaVuSans-48\"/>\n       <use x=\"159.033203\" xlink:href=\"#DejaVuSans-48\"/>\n      </g>\n     </g>\n    </g>\n    <g id=\"ytick_11\">\n     <g id=\"line2d_17\">\n      <g>\n       <use style=\"stroke:#000000;stroke-width:0.8;\" x=\"265.6145\" xlink:href=\"#m6743f8565b\" y=\"95.869391\"/>\n      </g>\n     </g>\n     <g id=\"text_17\">\n      <!-- 0.25 -->\n      <g transform=\"translate(272.6145 99.66861)scale(0.1 -0.1)\">\n       <use xlink:href=\"#DejaVuSans-48\"/>\n       <use x=\"63.623047\" xlink:href=\"#DejaVuSans-46\"/>\n       <use x=\"95.410156\" xlink:href=\"#DejaVuSans-50\"/>\n       <use x=\"159.033203\" xlink:href=\"#DejaVuSans-53\"/>\n      </g>\n     </g>\n    </g>\n    <g id=\"ytick_12\">\n     <g id=\"line2d_18\">\n      <g>\n       <use style=\"stroke:#000000;stroke-width:0.8;\" x=\"265.6145\" xlink:href=\"#m6743f8565b\" y=\"69.347766\"/>\n      </g>\n     </g>\n     <g id=\"text_18\">\n      <!-- 0.50 -->\n      <g transform=\"translate(272.6145 73.146985)scale(0.1 -0.1)\">\n       <use xlink:href=\"#DejaVuSans-48\"/>\n       <use x=\"63.623047\" xlink:href=\"#DejaVuSans-46\"/>\n       <use x=\"95.410156\" xlink:href=\"#DejaVuSans-53\"/>\n       <use x=\"159.033203\" xlink:href=\"#DejaVuSans-48\"/>\n      </g>\n     </g>\n    </g>\n    <g id=\"ytick_13\">\n     <g id=\"line2d_19\">\n      <g>\n       <use style=\"stroke:#000000;stroke-width:0.8;\" x=\"265.6145\" xlink:href=\"#m6743f8565b\" y=\"42.826141\"/>\n      </g>\n     </g>\n     <g id=\"text_19\">\n      <!-- 0.75 -->\n      <g transform=\"translate(272.6145 46.62536)scale(0.1 -0.1)\">\n       <use xlink:href=\"#DejaVuSans-48\"/>\n       <use x=\"63.623047\" xlink:href=\"#DejaVuSans-46\"/>\n       <use x=\"95.410156\" xlink:href=\"#DejaVuSans-55\"/>\n       <use x=\"159.033203\" xlink:href=\"#DejaVuSans-53\"/>\n      </g>\n     </g>\n    </g>\n    <g id=\"ytick_14\">\n     <g id=\"line2d_20\">\n      <g>\n       <use style=\"stroke:#000000;stroke-width:0.8;\" x=\"265.6145\" xlink:href=\"#m6743f8565b\" y=\"16.304516\"/>\n      </g>\n     </g>\n     <g id=\"text_20\">\n      <!-- 1.00 -->\n      <g transform=\"translate(272.6145 20.103735)scale(0.1 -0.1)\">\n       <use xlink:href=\"#DejaVuSans-49\"/>\n       <use x=\"63.623047\" xlink:href=\"#DejaVuSans-46\"/>\n       <use x=\"95.410156\" xlink:href=\"#DejaVuSans-48\"/>\n       <use x=\"159.033203\" xlink:href=\"#DejaVuSans-48\"/>\n      </g>\n     </g>\n    </g>\n   </g>\n   <g id=\"patch_8\">\n    <path d=\"M 254.7425 228.439219 \nL 254.7425 227.589844 \nL 254.7425 11.848594 \nL 254.7425 10.999219 \nL 265.6145 10.999219 \nL 265.6145 11.848594 \nL 265.6145 227.589844 \nL 265.6145 228.439219 \nz\n\" style=\"fill:none;stroke:#000000;stroke-linejoin:miter;stroke-width:0.8;\"/>\n   </g>\n  </g>\n </g>\n <defs>\n  <clipPath id=\"p66e9bd7b4b\">\n   <rect height=\"217.44\" width=\"217.44\" x=\"20.5625\" y=\"10.999219\"/>\n  </clipPath>\n  <clipPath id=\"p3d94b3c465\">\n   <rect height=\"217.44\" width=\"10.872\" x=\"254.7425\" y=\"10.999219\"/>\n  </clipPath>\n </defs>\n</svg>\n",
      "image/png": "[encoded data removed]"
     },
     "metadata": {
      "needs_background": "light"
     }
    }
   ],
   "source": [
    "plt.imshow(z,origin = 'lower',extent = [0,5,0,5],cmap = 'viridis')\n",
    "plt.colorbar();"
   ]
  },
  {
   "source": [
    "# Comparisons, Masks and Boolean Logic/ Comparações, Máscaras e Lógica Booleana"
   ],
   "cell_type": "markdown",
   "metadata": {}
  },
  {
   "cell_type": "code",
   "execution_count": 107,
   "metadata": {},
   "outputs": [],
   "source": [
    "x = np.array(range(1,6))"
   ]
  },
  {
   "cell_type": "code",
   "execution_count": 108,
   "metadata": {},
   "outputs": [
    {
     "output_type": "stream",
     "name": "stdout",
     "text": [
      "x<3:  [ True  True False False False]\nx>3:  [False False False  True  True]\nx<=3:   [ True  True  True False False]\nx>=3:  [False False  True  True  True]\nx!=3:  [ True  True False  True  True]\nx==3:  [False False  True False False]\n"
     ]
    }
   ],
   "source": [
    "# Boolean operators/Operadores booleanos\n",
    "# Obs: element-wise/elemento a elemento\n",
    "print('x<3: ',x<3)\n",
    "print('x>3: ',x>3)\n",
    "print('x<=3:  ',x<=3)\n",
    "print('x>=3: ',x>=3)\n",
    "print('x!=3: ',x!=3)\n",
    "print('x==3: ',x == 3)\n"
   ]
  },
  {
   "source": [
    " It is also possible to do an element-by-element comparison of two arrays, and to include compound expressions/ É possível também fazer comparações entre arrays elemento a elemento e incluir expressões compostas"
   ],
   "cell_type": "markdown",
   "metadata": {}
  },
  {
   "cell_type": "code",
   "execution_count": 109,
   "metadata": {},
   "outputs": [
    {
     "output_type": "execute_result",
     "data": {
      "text/plain": [
       "array([False,  True, False, False, False])"
      ]
     },
     "metadata": {},
     "execution_count": 109
    }
   ],
   "source": [
    "(2*x) == (x**2)"
   ]
  },
  {
   "cell_type": "code",
   "execution_count": 110,
   "metadata": {},
   "outputs": [
    {
     "output_type": "execute_result",
     "data": {
      "text/plain": [
       "array([[ True,  True,  True,  True],\n",
       "       [False, False,  True,  True],\n",
       "       [ True,  True, False, False]])"
      ]
     },
     "metadata": {},
     "execution_count": 110
    }
   ],
   "source": [
    "# Booleans operators works on any size and shape.heights\n",
    "rng = np.random.RandomState(0)\n",
    "x = rng.randint(10,size = (3,4))\n",
    "x<6"
   ]
  },
  {
   "source": [
    "# Working with Boolean Arrays/Trabalhando com Arrays booleanos\n"
   ],
   "cell_type": "markdown",
   "metadata": {}
  },
  {
   "cell_type": "code",
   "execution_count": 111,
   "metadata": {},
   "outputs": [
    {
     "output_type": "stream",
     "name": "stdout",
     "text": [
      "Values less than 6: 8\nUsing sum:\nValues less than 6: 8\n"
     ]
    }
   ],
   "source": [
    "# How many values less than 6? Valores menores que 6?\n",
    "print('Values less than 6: {}'.format(np.count_nonzero(x<6)))\n",
    "#Alternative/Alternativa\n",
    "print('Using sum:')\n",
    "print('Values less than 6: {}'.format(np.sum(x<6)))"
   ]
  },
  {
   "cell_type": "code",
   "execution_count": 112,
   "metadata": {},
   "outputs": [
    {
     "output_type": "execute_result",
     "data": {
      "text/plain": [
       "array([4, 2, 2])"
      ]
     },
     "metadata": {},
     "execution_count": 112
    }
   ],
   "source": [
    "# How many values less than 6 in each row/Quantos valores menores que 6 há em cada linha\n",
    "np.sum(x<6,axis=1)"
   ]
  },
  {
   "cell_type": "code",
   "execution_count": 113,
   "metadata": {},
   "outputs": [
    {
     "output_type": "execute_result",
     "data": {
      "text/plain": [
       "True"
      ]
     },
     "metadata": {},
     "execution_count": 113
    }
   ],
   "source": [
    "# Are there any values greater than 8/ Há algum valor maior que 8?\n",
    "np.any(x>8)"
   ]
  },
  {
   "cell_type": "code",
   "execution_count": 114,
   "metadata": {},
   "outputs": [
    {
     "output_type": "execute_result",
     "data": {
      "text/plain": [
       "False"
      ]
     },
     "metadata": {},
     "execution_count": 114
    }
   ],
   "source": [
    "#Are there any value less than zero?Há algum valor menor que zero?\n",
    "np.any(x<0)"
   ]
  },
  {
   "cell_type": "code",
   "execution_count": 115,
   "metadata": {},
   "outputs": [
    {
     "output_type": "execute_result",
     "data": {
      "text/plain": [
       "True"
      ]
     },
     "metadata": {},
     "execution_count": 115
    }
   ],
   "source": [
    "# Are all values less than 10?Todos os valores são menores que 10?\n",
    "np.all(x<10)"
   ]
  },
  {
   "cell_type": "code",
   "execution_count": 116,
   "metadata": {},
   "outputs": [
    {
     "output_type": "execute_result",
     "data": {
      "text/plain": [
       "False"
      ]
     },
     "metadata": {},
     "execution_count": 116
    }
   ],
   "source": [
    "# Are all values equal to 6? Todos os valores são iguas a 6?\n",
    "np.all(x==6)"
   ]
  },
  {
   "cell_type": "code",
   "execution_count": 142,
   "metadata": {},
   "outputs": [],
   "source": [
    "df2 = pd.read_csv('seattleWeather_1948-2017.csv')"
   ]
  },
  {
   "cell_type": "code",
   "execution_count": 143,
   "metadata": {},
   "outputs": [],
   "source": [
    "var = lambda s: s.split('-')[0]\n",
    "df2['year'] = df2['DATE'].apply(var)\n",
    "df_2014 = df2.loc[(df2['year'] == '2014')]"
   ]
  },
  {
   "cell_type": "code",
   "execution_count": 144,
   "metadata": {},
   "outputs": [
    {
     "output_type": "execute_result",
     "data": {
      "text/plain": [
       "(365,)"
      ]
     },
     "metadata": {},
     "execution_count": 144
    }
   ],
   "source": [
    "rainfall = df_2014['PRCP'].values\n",
    "#inches = rainfall/254 #conversion if in mm\n",
    "#inches.shape"
   ]
  },
  {
   "cell_type": "code",
   "execution_count": 145,
   "metadata": {},
   "outputs": [
    {
     "output_type": "execute_result",
     "data": {
      "text/plain": [
       "Text(0.5, 0, 'inches')"
      ]
     },
     "metadata": {},
     "execution_count": 145
    },
    {
     "output_type": "display_data",
     "data": {
      "text/plain": "<Figure size 432x288 with 1 Axes>",
      "image/svg+xml": "<?xml version=\"1.0\" encoding=\"utf-8\" standalone=\"no\"?>\n<!DOCTYPE svg PUBLIC \"-//W3C//DTD SVG 1.1//EN\"\n  \"http://www.w3.org/Graphics/SVG/1.1/DTD/svg11.dtd\">\n<!-- Created with matplotlib (https://matplotlib.org/) -->\n<svg height=\"262.486992pt\" version=\"1.1\" viewBox=\"0 0 388.965625 262.486992\" width=\"388.965625pt\" xmlns=\"http://www.w3.org/2000/svg\" xmlns:xlink=\"http://www.w3.org/1999/xlink\">\n <metadata>\n  <rdf:RDF xmlns:cc=\"http://creativecommons.org/ns#\" xmlns:dc=\"http://purl.org/dc/elements/1.1/\" xmlns:rdf=\"http://www.w3.org/1999/02/22-rdf-syntax-ns#\">\n   <cc:Work>\n    <dc:type rdf:resource=\"http://purl.org/dc/dcmitype/StillImage\"/>\n    <dc:date>2021-06-29T13:57:24.195176</dc:date>\n    <dc:format>image/svg+xml</dc:format>\n    <dc:creator>\n     <cc:Agent>\n      <dc:title>Matplotlib v3.3.2, https://matplotlib.org/</dc:title>\n     </cc:Agent>\n    </dc:creator>\n   </cc:Work>\n  </rdf:RDF>\n </metadata>\n <defs>\n  <style type=\"text/css\">*{stroke-linecap:butt;stroke-linejoin:round;}</style>\n </defs>\n <g id=\"figure_1\">\n  <g id=\"patch_1\">\n   <path d=\"M 0 262.486992 \nL 388.965625 262.486992 \nL 388.965625 0 \nL 0 0 \nz\n\" style=\"fill:none;\"/>\n  </g>\n  <g id=\"axes_1\">\n   <g id=\"patch_2\">\n    <path d=\"M 46.965625 224.930742 \nL 381.765625 224.930742 \nL 381.765625 7.490742 \nL 46.965625 7.490742 \nz\n\" style=\"fill:#ffffff;\"/>\n   </g>\n   <g id=\"patch_3\">\n    <path clip-path=\"url(#pb6158f4e44)\" d=\"M 62.183807 224.930742 \nL 68.659629 224.930742 \nL 68.659629 17.845027 \nL 62.183807 17.845027 \nz\n\" style=\"fill:#1f77b4;fill-opacity:0.75;stroke:#000000;stroke-linejoin:miter;stroke-width:0.647582;\"/>\n   </g>\n   <g id=\"patch_4\">\n    <path clip-path=\"url(#pb6158f4e44)\" d=\"M 68.659629 224.930742 \nL 75.135451 224.930742 \nL 75.135451 213.806303 \nL 68.659629 213.806303 \nz\n\" style=\"fill:#1f77b4;fill-opacity:0.75;stroke:#000000;stroke-linejoin:miter;stroke-width:0.647582;\"/>\n   </g>\n   <g id=\"patch_5\">\n    <path clip-path=\"url(#pb6158f4e44)\" d=\"M 75.135451 224.930742 \nL 81.611273 224.930742 \nL 81.611273 218.084933 \nL 75.135451 218.084933 \nz\n\" style=\"fill:#1f77b4;fill-opacity:0.75;stroke:#000000;stroke-linejoin:miter;stroke-width:0.647582;\"/>\n   </g>\n   <g id=\"patch_6\">\n    <path clip-path=\"url(#pb6158f4e44)\" d=\"M 81.611273 224.930742 \nL 88.087095 224.930742 \nL 88.087095 212.950576 \nL 81.611273 212.950576 \nz\n\" style=\"fill:#1f77b4;fill-opacity:0.75;stroke:#000000;stroke-linejoin:miter;stroke-width:0.647582;\"/>\n   </g>\n   <g id=\"patch_7\">\n    <path clip-path=\"url(#pb6158f4e44)\" d=\"M 88.087095 224.930742 \nL 94.562917 224.930742 \nL 94.562917 213.806303 \nL 88.087095 213.806303 \nz\n\" style=\"fill:#1f77b4;fill-opacity:0.75;stroke:#000000;stroke-linejoin:miter;stroke-width:0.647582;\"/>\n   </g>\n   <g id=\"patch_8\">\n    <path clip-path=\"url(#pb6158f4e44)\" d=\"M 94.562917 224.930742 \nL 101.038739 224.930742 \nL 101.038739 218.940659 \nL 94.562917 218.940659 \nz\n\" style=\"fill:#1f77b4;fill-opacity:0.75;stroke:#000000;stroke-linejoin:miter;stroke-width:0.647582;\"/>\n   </g>\n   <g id=\"patch_9\">\n    <path clip-path=\"url(#pb6158f4e44)\" d=\"M 101.038739 224.930742 \nL 107.514561 224.930742 \nL 107.514561 219.796385 \nL 101.038739 219.796385 \nz\n\" style=\"fill:#1f77b4;fill-opacity:0.75;stroke:#000000;stroke-linejoin:miter;stroke-width:0.647582;\"/>\n   </g>\n   <g id=\"patch_10\">\n    <path clip-path=\"url(#pb6158f4e44)\" d=\"M 107.514561 224.930742 \nL 113.990383 224.930742 \nL 113.990383 221.507837 \nL 107.514561 221.507837 \nz\n\" style=\"fill:#1f77b4;fill-opacity:0.75;stroke:#000000;stroke-linejoin:miter;stroke-width:0.647582;\"/>\n   </g>\n   <g id=\"patch_11\">\n    <path clip-path=\"url(#pb6158f4e44)\" d=\"M 113.990383 224.930742 \nL 120.466205 224.930742 \nL 120.466205 219.796385 \nL 113.990383 219.796385 \nz\n\" style=\"fill:#1f77b4;fill-opacity:0.75;stroke:#000000;stroke-linejoin:miter;stroke-width:0.647582;\"/>\n   </g>\n   <g id=\"patch_12\">\n    <path clip-path=\"url(#pb6158f4e44)\" d=\"M 120.466205 224.930742 \nL 126.942027 224.930742 \nL 126.942027 220.652111 \nL 120.466205 220.652111 \nz\n\" style=\"fill:#1f77b4;fill-opacity:0.75;stroke:#000000;stroke-linejoin:miter;stroke-width:0.647582;\"/>\n   </g>\n   <g id=\"patch_13\">\n    <path clip-path=\"url(#pb6158f4e44)\" d=\"M 126.942027 224.930742 \nL 133.417849 224.930742 \nL 133.417849 222.363563 \nL 126.942027 222.363563 \nz\n\" style=\"fill:#1f77b4;fill-opacity:0.75;stroke:#000000;stroke-linejoin:miter;stroke-width:0.647582;\"/>\n   </g>\n   <g id=\"patch_14\">\n    <path clip-path=\"url(#pb6158f4e44)\" d=\"M 133.417849 224.930742 \nL 139.893671 224.930742 \nL 139.893671 223.21929 \nL 133.417849 223.21929 \nz\n\" style=\"fill:#1f77b4;fill-opacity:0.75;stroke:#000000;stroke-linejoin:miter;stroke-width:0.647582;\"/>\n   </g>\n   <g id=\"patch_15\">\n    <path clip-path=\"url(#pb6158f4e44)\" d=\"M 139.893671 224.930742 \nL 146.369493 224.930742 \nL 146.369493 220.652111 \nL 139.893671 220.652111 \nz\n\" style=\"fill:#1f77b4;fill-opacity:0.75;stroke:#000000;stroke-linejoin:miter;stroke-width:0.647582;\"/>\n   </g>\n   <g id=\"patch_16\">\n    <path clip-path=\"url(#pb6158f4e44)\" d=\"M 146.369493 224.930742 \nL 152.845316 224.930742 \nL 152.845316 220.652111 \nL 146.369493 220.652111 \nz\n\" style=\"fill:#1f77b4;fill-opacity:0.75;stroke:#000000;stroke-linejoin:miter;stroke-width:0.647582;\"/>\n   </g>\n   <g id=\"patch_17\">\n    <path clip-path=\"url(#pb6158f4e44)\" d=\"M 152.845316 224.930742 \nL 159.321138 224.930742 \nL 159.321138 222.363563 \nL 152.845316 222.363563 \nz\n\" style=\"fill:#1f77b4;fill-opacity:0.75;stroke:#000000;stroke-linejoin:miter;stroke-width:0.647582;\"/>\n   </g>\n   <g id=\"patch_18\">\n    <path clip-path=\"url(#pb6158f4e44)\" d=\"M 159.321138 224.930742 \nL 165.79696 224.930742 \nL 165.79696 222.363563 \nL 159.321138 222.363563 \nz\n\" style=\"fill:#1f77b4;fill-opacity:0.75;stroke:#000000;stroke-linejoin:miter;stroke-width:0.647582;\"/>\n   </g>\n   <g id=\"patch_19\">\n    <path clip-path=\"url(#pb6158f4e44)\" d=\"M 165.79696 224.930742 \nL 172.272782 224.930742 \nL 172.272782 223.21929 \nL 165.79696 223.21929 \nz\n\" style=\"fill:#1f77b4;fill-opacity:0.75;stroke:#000000;stroke-linejoin:miter;stroke-width:0.647582;\"/>\n   </g>\n   <g id=\"patch_20\">\n    <path clip-path=\"url(#pb6158f4e44)\" d=\"M 172.272782 224.930742 \nL 178.748604 224.930742 \nL 178.748604 223.21929 \nL 172.272782 223.21929 \nz\n\" style=\"fill:#1f77b4;fill-opacity:0.75;stroke:#000000;stroke-linejoin:miter;stroke-width:0.647582;\"/>\n   </g>\n   <g id=\"patch_21\">\n    <path clip-path=\"url(#pb6158f4e44)\" d=\"M 178.748604 224.930742 \nL 185.224426 224.930742 \nL 185.224426 220.652111 \nL 178.748604 220.652111 \nz\n\" style=\"fill:#1f77b4;fill-opacity:0.75;stroke:#000000;stroke-linejoin:miter;stroke-width:0.647582;\"/>\n   </g>\n   <g id=\"patch_22\">\n    <path clip-path=\"url(#pb6158f4e44)\" d=\"M 185.224426 224.930742 \nL 191.700248 224.930742 \nL 191.700248 222.363563 \nL 185.224426 222.363563 \nz\n\" style=\"fill:#1f77b4;fill-opacity:0.75;stroke:#000000;stroke-linejoin:miter;stroke-width:0.647582;\"/>\n   </g>\n   <g id=\"patch_23\">\n    <path clip-path=\"url(#pb6158f4e44)\" d=\"M 191.700248 224.930742 \nL 198.17607 224.930742 \nL 198.17607 223.21929 \nL 191.700248 223.21929 \nz\n\" style=\"fill:#1f77b4;fill-opacity:0.75;stroke:#000000;stroke-linejoin:miter;stroke-width:0.647582;\"/>\n   </g>\n   <g id=\"patch_24\">\n    <path clip-path=\"url(#pb6158f4e44)\" d=\"M 198.17607 224.930742 \nL 204.651892 224.930742 \nL 204.651892 222.363563 \nL 198.17607 222.363563 \nz\n\" style=\"fill:#1f77b4;fill-opacity:0.75;stroke:#000000;stroke-linejoin:miter;stroke-width:0.647582;\"/>\n   </g>\n   <g id=\"patch_25\">\n    <path clip-path=\"url(#pb6158f4e44)\" d=\"M 204.651892 224.930742 \nL 211.127714 224.930742 \nL 211.127714 224.075016 \nL 204.651892 224.075016 \nz\n\" style=\"fill:#1f77b4;fill-opacity:0.75;stroke:#000000;stroke-linejoin:miter;stroke-width:0.647582;\"/>\n   </g>\n   <g id=\"patch_26\">\n    <path clip-path=\"url(#pb6158f4e44)\" d=\"M 211.127714 224.930742 \nL 217.603536 224.930742 \nL 217.603536 224.930742 \nL 211.127714 224.930742 \nz\n\" style=\"fill:#1f77b4;fill-opacity:0.75;stroke:#000000;stroke-linejoin:miter;stroke-width:0.647582;\"/>\n   </g>\n   <g id=\"patch_27\">\n    <path clip-path=\"url(#pb6158f4e44)\" d=\"M 217.603536 224.930742 \nL 224.079358 224.930742 \nL 224.079358 224.930742 \nL 217.603536 224.930742 \nz\n\" style=\"fill:#1f77b4;fill-opacity:0.75;stroke:#000000;stroke-linejoin:miter;stroke-width:0.647582;\"/>\n   </g>\n   <g id=\"patch_28\">\n    <path clip-path=\"url(#pb6158f4e44)\" d=\"M 224.079358 224.930742 \nL 230.55518 224.930742 \nL 230.55518 224.075016 \nL 224.079358 224.075016 \nz\n\" style=\"fill:#1f77b4;fill-opacity:0.75;stroke:#000000;stroke-linejoin:miter;stroke-width:0.647582;\"/>\n   </g>\n   <g id=\"patch_29\">\n    <path clip-path=\"url(#pb6158f4e44)\" d=\"M 230.55518 224.930742 \nL 237.031002 224.930742 \nL 237.031002 224.075016 \nL 230.55518 224.075016 \nz\n\" style=\"fill:#1f77b4;fill-opacity:0.75;stroke:#000000;stroke-linejoin:miter;stroke-width:0.647582;\"/>\n   </g>\n   <g id=\"patch_30\">\n    <path clip-path=\"url(#pb6158f4e44)\" d=\"M 237.031002 224.930742 \nL 243.506824 224.930742 \nL 243.506824 224.075016 \nL 237.031002 224.075016 \nz\n\" style=\"fill:#1f77b4;fill-opacity:0.75;stroke:#000000;stroke-linejoin:miter;stroke-width:0.647582;\"/>\n   </g>\n   <g id=\"patch_31\">\n    <path clip-path=\"url(#pb6158f4e44)\" d=\"M 243.506824 224.930742 \nL 249.982646 224.930742 \nL 249.982646 224.930742 \nL 243.506824 224.930742 \nz\n\" style=\"fill:#1f77b4;fill-opacity:0.75;stroke:#000000;stroke-linejoin:miter;stroke-width:0.647582;\"/>\n   </g>\n   <g id=\"patch_32\">\n    <path clip-path=\"url(#pb6158f4e44)\" d=\"M 249.982646 224.930742 \nL 256.458468 224.930742 \nL 256.458468 224.930742 \nL 249.982646 224.930742 \nz\n\" style=\"fill:#1f77b4;fill-opacity:0.75;stroke:#000000;stroke-linejoin:miter;stroke-width:0.647582;\"/>\n   </g>\n   <g id=\"patch_33\">\n    <path clip-path=\"url(#pb6158f4e44)\" d=\"M 256.458468 224.930742 \nL 262.93429 224.930742 \nL 262.93429 224.930742 \nL 256.458468 224.930742 \nz\n\" style=\"fill:#1f77b4;fill-opacity:0.75;stroke:#000000;stroke-linejoin:miter;stroke-width:0.647582;\"/>\n   </g>\n   <g id=\"patch_34\">\n    <path clip-path=\"url(#pb6158f4e44)\" d=\"M 262.93429 224.930742 \nL 269.410112 224.930742 \nL 269.410112 224.930742 \nL 262.93429 224.930742 \nz\n\" style=\"fill:#1f77b4;fill-opacity:0.75;stroke:#000000;stroke-linejoin:miter;stroke-width:0.647582;\"/>\n   </g>\n   <g id=\"patch_35\">\n    <path clip-path=\"url(#pb6158f4e44)\" d=\"M 269.410112 224.930742 \nL 275.885934 224.930742 \nL 275.885934 223.21929 \nL 269.410112 223.21929 \nz\n\" style=\"fill:#1f77b4;fill-opacity:0.75;stroke:#000000;stroke-linejoin:miter;stroke-width:0.647582;\"/>\n   </g>\n   <g id=\"patch_36\">\n    <path clip-path=\"url(#pb6158f4e44)\" d=\"M 275.885934 224.930742 \nL 282.361757 224.930742 \nL 282.361757 224.075016 \nL 275.885934 224.075016 \nz\n\" style=\"fill:#1f77b4;fill-opacity:0.75;stroke:#000000;stroke-linejoin:miter;stroke-width:0.647582;\"/>\n   </g>\n   <g id=\"patch_37\">\n    <path clip-path=\"url(#pb6158f4e44)\" d=\"M 282.361757 224.930742 \nL 288.837579 224.930742 \nL 288.837579 224.075016 \nL 282.361757 224.075016 \nz\n\" style=\"fill:#1f77b4;fill-opacity:0.75;stroke:#000000;stroke-linejoin:miter;stroke-width:0.647582;\"/>\n   </g>\n   <g id=\"patch_38\">\n    <path clip-path=\"url(#pb6158f4e44)\" d=\"M 288.837579 224.930742 \nL 295.313401 224.930742 \nL 295.313401 224.930742 \nL 288.837579 224.930742 \nz\n\" style=\"fill:#1f77b4;fill-opacity:0.75;stroke:#000000;stroke-linejoin:miter;stroke-width:0.647582;\"/>\n   </g>\n   <g id=\"patch_39\">\n    <path clip-path=\"url(#pb6158f4e44)\" d=\"M 295.313401 224.930742 \nL 301.789223 224.930742 \nL 301.789223 224.930742 \nL 295.313401 224.930742 \nz\n\" style=\"fill:#1f77b4;fill-opacity:0.75;stroke:#000000;stroke-linejoin:miter;stroke-width:0.647582;\"/>\n   </g>\n   <g id=\"patch_40\">\n    <path clip-path=\"url(#pb6158f4e44)\" d=\"M 301.789223 224.930742 \nL 308.265045 224.930742 \nL 308.265045 224.930742 \nL 301.789223 224.930742 \nz\n\" style=\"fill:#1f77b4;fill-opacity:0.75;stroke:#000000;stroke-linejoin:miter;stroke-width:0.647582;\"/>\n   </g>\n   <g id=\"patch_41\">\n    <path clip-path=\"url(#pb6158f4e44)\" d=\"M 308.265045 224.930742 \nL 314.740867 224.930742 \nL 314.740867 224.930742 \nL 308.265045 224.930742 \nz\n\" style=\"fill:#1f77b4;fill-opacity:0.75;stroke:#000000;stroke-linejoin:miter;stroke-width:0.647582;\"/>\n   </g>\n   <g id=\"patch_42\">\n    <path clip-path=\"url(#pb6158f4e44)\" d=\"M 314.740867 224.930742 \nL 321.216689 224.930742 \nL 321.216689 224.930742 \nL 314.740867 224.930742 \nz\n\" style=\"fill:#1f77b4;fill-opacity:0.75;stroke:#000000;stroke-linejoin:miter;stroke-width:0.647582;\"/>\n   </g>\n   <g id=\"patch_43\">\n    <path clip-path=\"url(#pb6158f4e44)\" d=\"M 321.216689 224.930742 \nL 327.692511 224.930742 \nL 327.692511 224.930742 \nL 321.216689 224.930742 \nz\n\" style=\"fill:#1f77b4;fill-opacity:0.75;stroke:#000000;stroke-linejoin:miter;stroke-width:0.647582;\"/>\n   </g>\n   <g id=\"patch_44\">\n    <path clip-path=\"url(#pb6158f4e44)\" d=\"M 327.692511 224.930742 \nL 334.168333 224.930742 \nL 334.168333 224.930742 \nL 327.692511 224.930742 \nz\n\" style=\"fill:#1f77b4;fill-opacity:0.75;stroke:#000000;stroke-linejoin:miter;stroke-width:0.647582;\"/>\n   </g>\n   <g id=\"patch_45\">\n    <path clip-path=\"url(#pb6158f4e44)\" d=\"M 334.168333 224.930742 \nL 340.644155 224.930742 \nL 340.644155 224.930742 \nL 334.168333 224.930742 \nz\n\" style=\"fill:#1f77b4;fill-opacity:0.75;stroke:#000000;stroke-linejoin:miter;stroke-width:0.647582;\"/>\n   </g>\n   <g id=\"patch_46\">\n    <path clip-path=\"url(#pb6158f4e44)\" d=\"M 340.644155 224.930742 \nL 347.119977 224.930742 \nL 347.119977 224.930742 \nL 340.644155 224.930742 \nz\n\" style=\"fill:#1f77b4;fill-opacity:0.75;stroke:#000000;stroke-linejoin:miter;stroke-width:0.647582;\"/>\n   </g>\n   <g id=\"patch_47\">\n    <path clip-path=\"url(#pb6158f4e44)\" d=\"M 347.119977 224.930742 \nL 353.595799 224.930742 \nL 353.595799 224.930742 \nL 347.119977 224.930742 \nz\n\" style=\"fill:#1f77b4;fill-opacity:0.75;stroke:#000000;stroke-linejoin:miter;stroke-width:0.647582;\"/>\n   </g>\n   <g id=\"patch_48\">\n    <path clip-path=\"url(#pb6158f4e44)\" d=\"M 353.595799 224.930742 \nL 360.071621 224.930742 \nL 360.071621 224.930742 \nL 353.595799 224.930742 \nz\n\" style=\"fill:#1f77b4;fill-opacity:0.75;stroke:#000000;stroke-linejoin:miter;stroke-width:0.647582;\"/>\n   </g>\n   <g id=\"patch_49\">\n    <path clip-path=\"url(#pb6158f4e44)\" d=\"M 360.071621 224.930742 \nL 366.547443 224.930742 \nL 366.547443 224.075016 \nL 360.071621 224.075016 \nz\n\" style=\"fill:#1f77b4;fill-opacity:0.75;stroke:#000000;stroke-linejoin:miter;stroke-width:0.647582;\"/>\n   </g>\n   <g id=\"matplotlib.axis_1\">\n    <g id=\"xtick_1\">\n     <g id=\"line2d_1\">\n      <defs>\n       <path d=\"M 0 0 \nL 0 3.5 \n\" id=\"md0d2017db4\" style=\"stroke:#000000;stroke-width:0.8;\"/>\n      </defs>\n      <g>\n       <use style=\"stroke:#000000;stroke-width:0.8;\" x=\"62.183807\" xlink:href=\"#md0d2017db4\" y=\"224.930742\"/>\n      </g>\n     </g>\n     <g id=\"text_1\">\n      <!-- 0.000 -->\n      <g transform=\"translate(47.869744 239.529179)scale(0.1 -0.1)\">\n       <defs>\n        <path d=\"M 31.78125 66.40625 \nQ 24.171875 66.40625 20.328125 58.90625 \nQ 16.5 51.421875 16.5 36.375 \nQ 16.5 21.390625 20.328125 13.890625 \nQ 24.171875 6.390625 31.78125 6.390625 \nQ 39.453125 6.390625 43.28125 13.890625 \nQ 47.125 21.390625 47.125 36.375 \nQ 47.125 51.421875 43.28125 58.90625 \nQ 39.453125 66.40625 31.78125 66.40625 \nz\nM 31.78125 74.21875 \nQ 44.046875 74.21875 50.515625 64.515625 \nQ 56.984375 54.828125 56.984375 36.375 \nQ 56.984375 17.96875 50.515625 8.265625 \nQ 44.046875 -1.421875 31.78125 -1.421875 \nQ 19.53125 -1.421875 13.0625 8.265625 \nQ 6.59375 17.96875 6.59375 36.375 \nQ 6.59375 54.828125 13.0625 64.515625 \nQ 19.53125 74.21875 31.78125 74.21875 \nz\n\" id=\"DejaVuSans-48\"/>\n        <path d=\"M 10.6875 12.40625 \nL 21 12.40625 \nL 21 0 \nL 10.6875 0 \nz\n\" id=\"DejaVuSans-46\"/>\n       </defs>\n       <use xlink:href=\"#DejaVuSans-48\"/>\n       <use x=\"63.623047\" xlink:href=\"#DejaVuSans-46\"/>\n       <use x=\"95.410156\" xlink:href=\"#DejaVuSans-48\"/>\n       <use x=\"159.033203\" xlink:href=\"#DejaVuSans-48\"/>\n       <use x=\"222.65625\" xlink:href=\"#DejaVuSans-48\"/>\n      </g>\n     </g>\n    </g>\n    <g id=\"xtick_2\">\n     <g id=\"line2d_2\">\n      <g>\n       <use style=\"stroke:#000000;stroke-width:0.8;\" x=\"104.199222\" xlink:href=\"#md0d2017db4\" y=\"224.930742\"/>\n      </g>\n     </g>\n     <g id=\"text_2\">\n      <!-- 0.001 -->\n      <g transform=\"translate(89.885159 239.529179)scale(0.1 -0.1)\">\n       <defs>\n        <path d=\"M 12.40625 8.296875 \nL 28.515625 8.296875 \nL 28.515625 63.921875 \nL 10.984375 60.40625 \nL 10.984375 69.390625 \nL 28.421875 72.90625 \nL 38.28125 72.90625 \nL 38.28125 8.296875 \nL 54.390625 8.296875 \nL 54.390625 0 \nL 12.40625 0 \nz\n\" id=\"DejaVuSans-49\"/>\n       </defs>\n       <use xlink:href=\"#DejaVuSans-48\"/>\n       <use x=\"63.623047\" xlink:href=\"#DejaVuSans-46\"/>\n       <use x=\"95.410156\" xlink:href=\"#DejaVuSans-48\"/>\n       <use x=\"159.033203\" xlink:href=\"#DejaVuSans-48\"/>\n       <use x=\"222.65625\" xlink:href=\"#DejaVuSans-49\"/>\n      </g>\n     </g>\n    </g>\n    <g id=\"xtick_3\">\n     <g id=\"line2d_3\">\n      <g>\n       <use style=\"stroke:#000000;stroke-width:0.8;\" x=\"146.214637\" xlink:href=\"#md0d2017db4\" y=\"224.930742\"/>\n      </g>\n     </g>\n     <g id=\"text_3\">\n      <!-- 0.002 -->\n      <g transform=\"translate(131.900574 239.529179)scale(0.1 -0.1)\">\n       <defs>\n        <path d=\"M 19.1875 8.296875 \nL 53.609375 8.296875 \nL 53.609375 0 \nL 7.328125 0 \nL 7.328125 8.296875 \nQ 12.9375 14.109375 22.625 23.890625 \nQ 32.328125 33.6875 34.8125 36.53125 \nQ 39.546875 41.84375 41.421875 45.53125 \nQ 43.3125 49.21875 43.3125 52.78125 \nQ 43.3125 58.59375 39.234375 62.25 \nQ 35.15625 65.921875 28.609375 65.921875 \nQ 23.96875 65.921875 18.8125 64.3125 \nQ 13.671875 62.703125 7.8125 59.421875 \nL 7.8125 69.390625 \nQ 13.765625 71.78125 18.9375 73 \nQ 24.125 74.21875 28.421875 74.21875 \nQ 39.75 74.21875 46.484375 68.546875 \nQ 53.21875 62.890625 53.21875 53.421875 \nQ 53.21875 48.921875 51.53125 44.890625 \nQ 49.859375 40.875 45.40625 35.40625 \nQ 44.1875 33.984375 37.640625 27.21875 \nQ 31.109375 20.453125 19.1875 8.296875 \nz\n\" id=\"DejaVuSans-50\"/>\n       </defs>\n       <use xlink:href=\"#DejaVuSans-48\"/>\n       <use x=\"63.623047\" xlink:href=\"#DejaVuSans-46\"/>\n       <use x=\"95.410156\" xlink:href=\"#DejaVuSans-48\"/>\n       <use x=\"159.033203\" xlink:href=\"#DejaVuSans-48\"/>\n       <use x=\"222.65625\" xlink:href=\"#DejaVuSans-50\"/>\n      </g>\n     </g>\n    </g>\n    <g id=\"xtick_4\">\n     <g id=\"line2d_4\">\n      <g>\n       <use style=\"stroke:#000000;stroke-width:0.8;\" x=\"188.230052\" xlink:href=\"#md0d2017db4\" y=\"224.930742\"/>\n      </g>\n     </g>\n     <g id=\"text_4\">\n      <!-- 0.003 -->\n      <g transform=\"translate(173.915989 239.529179)scale(0.1 -0.1)\">\n       <defs>\n        <path d=\"M 40.578125 39.3125 \nQ 47.65625 37.796875 51.625 33 \nQ 55.609375 28.21875 55.609375 21.1875 \nQ 55.609375 10.40625 48.1875 4.484375 \nQ 40.765625 -1.421875 27.09375 -1.421875 \nQ 22.515625 -1.421875 17.65625 -0.515625 \nQ 12.796875 0.390625 7.625 2.203125 \nL 7.625 11.71875 \nQ 11.71875 9.328125 16.59375 8.109375 \nQ 21.484375 6.890625 26.8125 6.890625 \nQ 36.078125 6.890625 40.9375 10.546875 \nQ 45.796875 14.203125 45.796875 21.1875 \nQ 45.796875 27.640625 41.28125 31.265625 \nQ 36.765625 34.90625 28.71875 34.90625 \nL 20.21875 34.90625 \nL 20.21875 43.015625 \nL 29.109375 43.015625 \nQ 36.375 43.015625 40.234375 45.921875 \nQ 44.09375 48.828125 44.09375 54.296875 \nQ 44.09375 59.90625 40.109375 62.90625 \nQ 36.140625 65.921875 28.71875 65.921875 \nQ 24.65625 65.921875 20.015625 65.03125 \nQ 15.375 64.15625 9.8125 62.3125 \nL 9.8125 71.09375 \nQ 15.4375 72.65625 20.34375 73.4375 \nQ 25.25 74.21875 29.59375 74.21875 \nQ 40.828125 74.21875 47.359375 69.109375 \nQ 53.90625 64.015625 53.90625 55.328125 \nQ 53.90625 49.265625 50.4375 45.09375 \nQ 46.96875 40.921875 40.578125 39.3125 \nz\n\" id=\"DejaVuSans-51\"/>\n       </defs>\n       <use xlink:href=\"#DejaVuSans-48\"/>\n       <use x=\"63.623047\" xlink:href=\"#DejaVuSans-46\"/>\n       <use x=\"95.410156\" xlink:href=\"#DejaVuSans-48\"/>\n       <use x=\"159.033203\" xlink:href=\"#DejaVuSans-48\"/>\n       <use x=\"222.65625\" xlink:href=\"#DejaVuSans-51\"/>\n      </g>\n     </g>\n    </g>\n    <g id=\"xtick_5\">\n     <g id=\"line2d_5\">\n      <g>\n       <use style=\"stroke:#000000;stroke-width:0.8;\" x=\"230.245467\" xlink:href=\"#md0d2017db4\" y=\"224.930742\"/>\n      </g>\n     </g>\n     <g id=\"text_5\">\n      <!-- 0.004 -->\n      <g transform=\"translate(215.931404 239.529179)scale(0.1 -0.1)\">\n       <defs>\n        <path d=\"M 37.796875 64.3125 \nL 12.890625 25.390625 \nL 37.796875 25.390625 \nz\nM 35.203125 72.90625 \nL 47.609375 72.90625 \nL 47.609375 25.390625 \nL 58.015625 25.390625 \nL 58.015625 17.1875 \nL 47.609375 17.1875 \nL 47.609375 0 \nL 37.796875 0 \nL 37.796875 17.1875 \nL 4.890625 17.1875 \nL 4.890625 26.703125 \nz\n\" id=\"DejaVuSans-52\"/>\n       </defs>\n       <use xlink:href=\"#DejaVuSans-48\"/>\n       <use x=\"63.623047\" xlink:href=\"#DejaVuSans-46\"/>\n       <use x=\"95.410156\" xlink:href=\"#DejaVuSans-48\"/>\n       <use x=\"159.033203\" xlink:href=\"#DejaVuSans-48\"/>\n       <use x=\"222.65625\" xlink:href=\"#DejaVuSans-52\"/>\n      </g>\n     </g>\n    </g>\n    <g id=\"xtick_6\">\n     <g id=\"line2d_6\">\n      <g>\n       <use style=\"stroke:#000000;stroke-width:0.8;\" x=\"272.260882\" xlink:href=\"#md0d2017db4\" y=\"224.930742\"/>\n      </g>\n     </g>\n     <g id=\"text_6\">\n      <!-- 0.005 -->\n      <g transform=\"translate(257.946819 239.529179)scale(0.1 -0.1)\">\n       <defs>\n        <path d=\"M 10.796875 72.90625 \nL 49.515625 72.90625 \nL 49.515625 64.59375 \nL 19.828125 64.59375 \nL 19.828125 46.734375 \nQ 21.96875 47.46875 24.109375 47.828125 \nQ 26.265625 48.1875 28.421875 48.1875 \nQ 40.625 48.1875 47.75 41.5 \nQ 54.890625 34.8125 54.890625 23.390625 \nQ 54.890625 11.625 47.5625 5.09375 \nQ 40.234375 -1.421875 26.90625 -1.421875 \nQ 22.3125 -1.421875 17.546875 -0.640625 \nQ 12.796875 0.140625 7.71875 1.703125 \nL 7.71875 11.625 \nQ 12.109375 9.234375 16.796875 8.0625 \nQ 21.484375 6.890625 26.703125 6.890625 \nQ 35.15625 6.890625 40.078125 11.328125 \nQ 45.015625 15.765625 45.015625 23.390625 \nQ 45.015625 31 40.078125 35.4375 \nQ 35.15625 39.890625 26.703125 39.890625 \nQ 22.75 39.890625 18.8125 39.015625 \nQ 14.890625 38.140625 10.796875 36.28125 \nz\n\" id=\"DejaVuSans-53\"/>\n       </defs>\n       <use xlink:href=\"#DejaVuSans-48\"/>\n       <use x=\"63.623047\" xlink:href=\"#DejaVuSans-46\"/>\n       <use x=\"95.410156\" xlink:href=\"#DejaVuSans-48\"/>\n       <use x=\"159.033203\" xlink:href=\"#DejaVuSans-48\"/>\n       <use x=\"222.65625\" xlink:href=\"#DejaVuSans-53\"/>\n      </g>\n     </g>\n    </g>\n    <g id=\"xtick_7\">\n     <g id=\"line2d_7\">\n      <g>\n       <use style=\"stroke:#000000;stroke-width:0.8;\" x=\"314.276297\" xlink:href=\"#md0d2017db4\" y=\"224.930742\"/>\n      </g>\n     </g>\n     <g id=\"text_7\">\n      <!-- 0.006 -->\n      <g transform=\"translate(299.962234 239.529179)scale(0.1 -0.1)\">\n       <defs>\n        <path d=\"M 33.015625 40.375 \nQ 26.375 40.375 22.484375 35.828125 \nQ 18.609375 31.296875 18.609375 23.390625 \nQ 18.609375 15.53125 22.484375 10.953125 \nQ 26.375 6.390625 33.015625 6.390625 \nQ 39.65625 6.390625 43.53125 10.953125 \nQ 47.40625 15.53125 47.40625 23.390625 \nQ 47.40625 31.296875 43.53125 35.828125 \nQ 39.65625 40.375 33.015625 40.375 \nz\nM 52.59375 71.296875 \nL 52.59375 62.3125 \nQ 48.875 64.0625 45.09375 64.984375 \nQ 41.3125 65.921875 37.59375 65.921875 \nQ 27.828125 65.921875 22.671875 59.328125 \nQ 17.53125 52.734375 16.796875 39.40625 \nQ 19.671875 43.65625 24.015625 45.921875 \nQ 28.375 48.1875 33.59375 48.1875 \nQ 44.578125 48.1875 50.953125 41.515625 \nQ 57.328125 34.859375 57.328125 23.390625 \nQ 57.328125 12.15625 50.6875 5.359375 \nQ 44.046875 -1.421875 33.015625 -1.421875 \nQ 20.359375 -1.421875 13.671875 8.265625 \nQ 6.984375 17.96875 6.984375 36.375 \nQ 6.984375 53.65625 15.1875 63.9375 \nQ 23.390625 74.21875 37.203125 74.21875 \nQ 40.921875 74.21875 44.703125 73.484375 \nQ 48.484375 72.75 52.59375 71.296875 \nz\n\" id=\"DejaVuSans-54\"/>\n       </defs>\n       <use xlink:href=\"#DejaVuSans-48\"/>\n       <use x=\"63.623047\" xlink:href=\"#DejaVuSans-46\"/>\n       <use x=\"95.410156\" xlink:href=\"#DejaVuSans-48\"/>\n       <use x=\"159.033203\" xlink:href=\"#DejaVuSans-48\"/>\n       <use x=\"222.65625\" xlink:href=\"#DejaVuSans-54\"/>\n      </g>\n     </g>\n    </g>\n    <g id=\"xtick_8\">\n     <g id=\"line2d_8\">\n      <g>\n       <use style=\"stroke:#000000;stroke-width:0.8;\" x=\"356.291712\" xlink:href=\"#md0d2017db4\" y=\"224.930742\"/>\n      </g>\n     </g>\n     <g id=\"text_8\">\n      <!-- 0.007 -->\n      <g transform=\"translate(341.977649 239.529179)scale(0.1 -0.1)\">\n       <defs>\n        <path d=\"M 8.203125 72.90625 \nL 55.078125 72.90625 \nL 55.078125 68.703125 \nL 28.609375 0 \nL 18.3125 0 \nL 43.21875 64.59375 \nL 8.203125 64.59375 \nz\n\" id=\"DejaVuSans-55\"/>\n       </defs>\n       <use xlink:href=\"#DejaVuSans-48\"/>\n       <use x=\"63.623047\" xlink:href=\"#DejaVuSans-46\"/>\n       <use x=\"95.410156\" xlink:href=\"#DejaVuSans-48\"/>\n       <use x=\"159.033203\" xlink:href=\"#DejaVuSans-48\"/>\n       <use x=\"222.65625\" xlink:href=\"#DejaVuSans-55\"/>\n      </g>\n     </g>\n    </g>\n    <g id=\"text_9\">\n     <!-- inches -->\n     <g transform=\"translate(198.208594 253.207304)scale(0.1 -0.1)\">\n      <defs>\n       <path d=\"M 9.421875 54.6875 \nL 18.40625 54.6875 \nL 18.40625 0 \nL 9.421875 0 \nz\nM 9.421875 75.984375 \nL 18.40625 75.984375 \nL 18.40625 64.59375 \nL 9.421875 64.59375 \nz\n\" id=\"DejaVuSans-105\"/>\n       <path d=\"M 54.890625 33.015625 \nL 54.890625 0 \nL 45.90625 0 \nL 45.90625 32.71875 \nQ 45.90625 40.484375 42.875 44.328125 \nQ 39.84375 48.1875 33.796875 48.1875 \nQ 26.515625 48.1875 22.3125 43.546875 \nQ 18.109375 38.921875 18.109375 30.90625 \nL 18.109375 0 \nL 9.078125 0 \nL 9.078125 54.6875 \nL 18.109375 54.6875 \nL 18.109375 46.1875 \nQ 21.34375 51.125 25.703125 53.5625 \nQ 30.078125 56 35.796875 56 \nQ 45.21875 56 50.046875 50.171875 \nQ 54.890625 44.34375 54.890625 33.015625 \nz\n\" id=\"DejaVuSans-110\"/>\n       <path d=\"M 48.78125 52.59375 \nL 48.78125 44.1875 \nQ 44.96875 46.296875 41.140625 47.34375 \nQ 37.3125 48.390625 33.40625 48.390625 \nQ 24.65625 48.390625 19.8125 42.84375 \nQ 14.984375 37.3125 14.984375 27.296875 \nQ 14.984375 17.28125 19.8125 11.734375 \nQ 24.65625 6.203125 33.40625 6.203125 \nQ 37.3125 6.203125 41.140625 7.25 \nQ 44.96875 8.296875 48.78125 10.40625 \nL 48.78125 2.09375 \nQ 45.015625 0.34375 40.984375 -0.53125 \nQ 36.96875 -1.421875 32.421875 -1.421875 \nQ 20.0625 -1.421875 12.78125 6.34375 \nQ 5.515625 14.109375 5.515625 27.296875 \nQ 5.515625 40.671875 12.859375 48.328125 \nQ 20.21875 56 33.015625 56 \nQ 37.15625 56 41.109375 55.140625 \nQ 45.0625 54.296875 48.78125 52.59375 \nz\n\" id=\"DejaVuSans-99\"/>\n       <path d=\"M 54.890625 33.015625 \nL 54.890625 0 \nL 45.90625 0 \nL 45.90625 32.71875 \nQ 45.90625 40.484375 42.875 44.328125 \nQ 39.84375 48.1875 33.796875 48.1875 \nQ 26.515625 48.1875 22.3125 43.546875 \nQ 18.109375 38.921875 18.109375 30.90625 \nL 18.109375 0 \nL 9.078125 0 \nL 9.078125 75.984375 \nL 18.109375 75.984375 \nL 18.109375 46.1875 \nQ 21.34375 51.125 25.703125 53.5625 \nQ 30.078125 56 35.796875 56 \nQ 45.21875 56 50.046875 50.171875 \nQ 54.890625 44.34375 54.890625 33.015625 \nz\n\" id=\"DejaVuSans-104\"/>\n       <path d=\"M 56.203125 29.59375 \nL 56.203125 25.203125 \nL 14.890625 25.203125 \nQ 15.484375 15.921875 20.484375 11.0625 \nQ 25.484375 6.203125 34.421875 6.203125 \nQ 39.59375 6.203125 44.453125 7.46875 \nQ 49.3125 8.734375 54.109375 11.28125 \nL 54.109375 2.78125 \nQ 49.265625 0.734375 44.1875 -0.34375 \nQ 39.109375 -1.421875 33.890625 -1.421875 \nQ 20.796875 -1.421875 13.15625 6.1875 \nQ 5.515625 13.8125 5.515625 26.8125 \nQ 5.515625 40.234375 12.765625 48.109375 \nQ 20.015625 56 32.328125 56 \nQ 43.359375 56 49.78125 48.890625 \nQ 56.203125 41.796875 56.203125 29.59375 \nz\nM 47.21875 32.234375 \nQ 47.125 39.59375 43.09375 43.984375 \nQ 39.0625 48.390625 32.421875 48.390625 \nQ 24.90625 48.390625 20.390625 44.140625 \nQ 15.875 39.890625 15.1875 32.171875 \nz\n\" id=\"DejaVuSans-101\"/>\n       <path d=\"M 44.28125 53.078125 \nL 44.28125 44.578125 \nQ 40.484375 46.53125 36.375 47.5 \nQ 32.28125 48.484375 27.875 48.484375 \nQ 21.1875 48.484375 17.84375 46.4375 \nQ 14.5 44.390625 14.5 40.28125 \nQ 14.5 37.15625 16.890625 35.375 \nQ 19.28125 33.59375 26.515625 31.984375 \nL 29.59375 31.296875 \nQ 39.15625 29.25 43.1875 25.515625 \nQ 47.21875 21.78125 47.21875 15.09375 \nQ 47.21875 7.46875 41.1875 3.015625 \nQ 35.15625 -1.421875 24.609375 -1.421875 \nQ 20.21875 -1.421875 15.453125 -0.5625 \nQ 10.6875 0.296875 5.421875 2 \nL 5.421875 11.28125 \nQ 10.40625 8.6875 15.234375 7.390625 \nQ 20.0625 6.109375 24.8125 6.109375 \nQ 31.15625 6.109375 34.5625 8.28125 \nQ 37.984375 10.453125 37.984375 14.40625 \nQ 37.984375 18.0625 35.515625 20.015625 \nQ 33.0625 21.96875 24.703125 23.78125 \nL 21.578125 24.515625 \nQ 13.234375 26.265625 9.515625 29.90625 \nQ 5.8125 33.546875 5.8125 39.890625 \nQ 5.8125 47.609375 11.28125 51.796875 \nQ 16.75 56 26.8125 56 \nQ 31.78125 56 36.171875 55.265625 \nQ 40.578125 54.546875 44.28125 53.078125 \nz\n\" id=\"DejaVuSans-115\"/>\n      </defs>\n      <use xlink:href=\"#DejaVuSans-105\"/>\n      <use x=\"27.783203\" xlink:href=\"#DejaVuSans-110\"/>\n      <use x=\"91.162109\" xlink:href=\"#DejaVuSans-99\"/>\n      <use x=\"146.142578\" xlink:href=\"#DejaVuSans-104\"/>\n      <use x=\"209.521484\" xlink:href=\"#DejaVuSans-101\"/>\n      <use x=\"271.044922\" xlink:href=\"#DejaVuSans-115\"/>\n     </g>\n    </g>\n   </g>\n   <g id=\"matplotlib.axis_2\">\n    <g id=\"ytick_1\">\n     <g id=\"line2d_9\">\n      <defs>\n       <path d=\"M 0 0 \nL -3.5 0 \n\" id=\"m2ccb7e1102\" style=\"stroke:#000000;stroke-width:0.8;\"/>\n      </defs>\n      <g>\n       <use style=\"stroke:#000000;stroke-width:0.8;\" x=\"46.965625\" xlink:href=\"#m2ccb7e1102\" y=\"224.930742\"/>\n      </g>\n     </g>\n     <g id=\"text_10\">\n      <!-- 0 -->\n      <g transform=\"translate(33.603125 228.729961)scale(0.1 -0.1)\">\n       <use xlink:href=\"#DejaVuSans-48\"/>\n      </g>\n     </g>\n    </g>\n    <g id=\"ytick_2\">\n     <g id=\"line2d_10\">\n      <g>\n       <use style=\"stroke:#000000;stroke-width:0.8;\" x=\"46.965625\" xlink:href=\"#m2ccb7e1102\" y=\"182.144437\"/>\n      </g>\n     </g>\n     <g id=\"text_11\">\n      <!-- 50 -->\n      <g transform=\"translate(27.240625 185.943656)scale(0.1 -0.1)\">\n       <use xlink:href=\"#DejaVuSans-53\"/>\n       <use x=\"63.623047\" xlink:href=\"#DejaVuSans-48\"/>\n      </g>\n     </g>\n    </g>\n    <g id=\"ytick_3\">\n     <g id=\"line2d_11\">\n      <g>\n       <use style=\"stroke:#000000;stroke-width:0.8;\" x=\"46.965625\" xlink:href=\"#m2ccb7e1102\" y=\"139.358133\"/>\n      </g>\n     </g>\n     <g id=\"text_12\">\n      <!-- 100 -->\n      <g transform=\"translate(20.878125 143.157351)scale(0.1 -0.1)\">\n       <use xlink:href=\"#DejaVuSans-49\"/>\n       <use x=\"63.623047\" xlink:href=\"#DejaVuSans-48\"/>\n       <use x=\"127.246094\" xlink:href=\"#DejaVuSans-48\"/>\n      </g>\n     </g>\n    </g>\n    <g id=\"ytick_4\">\n     <g id=\"line2d_12\">\n      <g>\n       <use style=\"stroke:#000000;stroke-width:0.8;\" x=\"46.965625\" xlink:href=\"#m2ccb7e1102\" y=\"96.571828\"/>\n      </g>\n     </g>\n     <g id=\"text_13\">\n      <!-- 150 -->\n      <g transform=\"translate(20.878125 100.371047)scale(0.1 -0.1)\">\n       <use xlink:href=\"#DejaVuSans-49\"/>\n       <use x=\"63.623047\" xlink:href=\"#DejaVuSans-53\"/>\n       <use x=\"127.246094\" xlink:href=\"#DejaVuSans-48\"/>\n      </g>\n     </g>\n    </g>\n    <g id=\"ytick_5\">\n     <g id=\"line2d_13\">\n      <g>\n       <use style=\"stroke:#000000;stroke-width:0.8;\" x=\"46.965625\" xlink:href=\"#m2ccb7e1102\" y=\"53.785523\"/>\n      </g>\n     </g>\n     <g id=\"text_14\">\n      <!-- 200 -->\n      <g transform=\"translate(20.878125 57.584742)scale(0.1 -0.1)\">\n       <use xlink:href=\"#DejaVuSans-50\"/>\n       <use x=\"63.623047\" xlink:href=\"#DejaVuSans-48\"/>\n       <use x=\"127.246094\" xlink:href=\"#DejaVuSans-48\"/>\n      </g>\n     </g>\n    </g>\n    <g id=\"ytick_6\">\n     <g id=\"line2d_14\">\n      <g>\n       <use style=\"stroke:#000000;stroke-width:0.8;\" x=\"46.965625\" xlink:href=\"#m2ccb7e1102\" y=\"10.999219\"/>\n      </g>\n     </g>\n     <g id=\"text_15\">\n      <!-- 250 -->\n      <g transform=\"translate(20.878125 14.798437)scale(0.1 -0.1)\">\n       <use xlink:href=\"#DejaVuSans-50\"/>\n       <use x=\"63.623047\" xlink:href=\"#DejaVuSans-53\"/>\n       <use x=\"127.246094\" xlink:href=\"#DejaVuSans-48\"/>\n      </g>\n     </g>\n    </g>\n    <g id=\"text_16\">\n     <!-- Count -->\n     <g transform=\"translate(14.798438 131.059179)rotate(-90)scale(0.1 -0.1)\">\n      <defs>\n       <path d=\"M 64.40625 67.28125 \nL 64.40625 56.890625 \nQ 59.421875 61.53125 53.78125 63.8125 \nQ 48.140625 66.109375 41.796875 66.109375 \nQ 29.296875 66.109375 22.65625 58.46875 \nQ 16.015625 50.828125 16.015625 36.375 \nQ 16.015625 21.96875 22.65625 14.328125 \nQ 29.296875 6.6875 41.796875 6.6875 \nQ 48.140625 6.6875 53.78125 8.984375 \nQ 59.421875 11.28125 64.40625 15.921875 \nL 64.40625 5.609375 \nQ 59.234375 2.09375 53.4375 0.328125 \nQ 47.65625 -1.421875 41.21875 -1.421875 \nQ 24.65625 -1.421875 15.125 8.703125 \nQ 5.609375 18.84375 5.609375 36.375 \nQ 5.609375 53.953125 15.125 64.078125 \nQ 24.65625 74.21875 41.21875 74.21875 \nQ 47.75 74.21875 53.53125 72.484375 \nQ 59.328125 70.75 64.40625 67.28125 \nz\n\" id=\"DejaVuSans-67\"/>\n       <path d=\"M 30.609375 48.390625 \nQ 23.390625 48.390625 19.1875 42.75 \nQ 14.984375 37.109375 14.984375 27.296875 \nQ 14.984375 17.484375 19.15625 11.84375 \nQ 23.34375 6.203125 30.609375 6.203125 \nQ 37.796875 6.203125 41.984375 11.859375 \nQ 46.1875 17.53125 46.1875 27.296875 \nQ 46.1875 37.015625 41.984375 42.703125 \nQ 37.796875 48.390625 30.609375 48.390625 \nz\nM 30.609375 56 \nQ 42.328125 56 49.015625 48.375 \nQ 55.71875 40.765625 55.71875 27.296875 \nQ 55.71875 13.875 49.015625 6.21875 \nQ 42.328125 -1.421875 30.609375 -1.421875 \nQ 18.84375 -1.421875 12.171875 6.21875 \nQ 5.515625 13.875 5.515625 27.296875 \nQ 5.515625 40.765625 12.171875 48.375 \nQ 18.84375 56 30.609375 56 \nz\n\" id=\"DejaVuSans-111\"/>\n       <path d=\"M 8.5 21.578125 \nL 8.5 54.6875 \nL 17.484375 54.6875 \nL 17.484375 21.921875 \nQ 17.484375 14.15625 20.5 10.265625 \nQ 23.53125 6.390625 29.59375 6.390625 \nQ 36.859375 6.390625 41.078125 11.03125 \nQ 45.3125 15.671875 45.3125 23.6875 \nL 45.3125 54.6875 \nL 54.296875 54.6875 \nL 54.296875 0 \nL 45.3125 0 \nL 45.3125 8.40625 \nQ 42.046875 3.421875 37.71875 1 \nQ 33.40625 -1.421875 27.6875 -1.421875 \nQ 18.265625 -1.421875 13.375 4.4375 \nQ 8.5 10.296875 8.5 21.578125 \nz\nM 31.109375 56 \nz\n\" id=\"DejaVuSans-117\"/>\n       <path d=\"M 18.3125 70.21875 \nL 18.3125 54.6875 \nL 36.8125 54.6875 \nL 36.8125 47.703125 \nL 18.3125 47.703125 \nL 18.3125 18.015625 \nQ 18.3125 11.328125 20.140625 9.421875 \nQ 21.96875 7.515625 27.59375 7.515625 \nL 36.8125 7.515625 \nL 36.8125 0 \nL 27.59375 0 \nQ 17.1875 0 13.234375 3.875 \nQ 9.28125 7.765625 9.28125 18.015625 \nL 9.28125 47.703125 \nL 2.6875 47.703125 \nL 2.6875 54.6875 \nL 9.28125 54.6875 \nL 9.28125 70.21875 \nz\n\" id=\"DejaVuSans-116\"/>\n      </defs>\n      <use xlink:href=\"#DejaVuSans-67\"/>\n      <use x=\"69.824219\" xlink:href=\"#DejaVuSans-111\"/>\n      <use x=\"131.005859\" xlink:href=\"#DejaVuSans-117\"/>\n      <use x=\"194.384766\" xlink:href=\"#DejaVuSans-110\"/>\n      <use x=\"257.763672\" xlink:href=\"#DejaVuSans-116\"/>\n     </g>\n    </g>\n   </g>\n   <g id=\"patch_50\">\n    <path d=\"M 46.965625 224.930742 \nL 46.965625 7.490742 \n\" style=\"fill:none;stroke:#000000;stroke-linecap:square;stroke-linejoin:miter;stroke-width:0.8;\"/>\n   </g>\n   <g id=\"patch_51\">\n    <path d=\"M 381.765625 224.930742 \nL 381.765625 7.490742 \n\" style=\"fill:none;stroke:#000000;stroke-linecap:square;stroke-linejoin:miter;stroke-width:0.8;\"/>\n   </g>\n   <g id=\"patch_52\">\n    <path d=\"M 46.965625 224.930742 \nL 381.765625 224.930742 \n\" style=\"fill:none;stroke:#000000;stroke-linecap:square;stroke-linejoin:miter;stroke-width:0.8;\"/>\n   </g>\n   <g id=\"patch_53\">\n    <path d=\"M 46.965625 7.490742 \nL 381.765625 7.490742 \n\" style=\"fill:none;stroke:#000000;stroke-linecap:square;stroke-linejoin:miter;stroke-width:0.8;\"/>\n   </g>\n  </g>\n </g>\n <defs>\n  <clipPath id=\"pb6158f4e44\">\n   <rect height=\"217.44\" width=\"334.8\" x=\"46.965625\" y=\"7.490742\"/>\n  </clipPath>\n </defs>\n</svg>\n",
      "image/png": "[encoded data removed]"
     },
     "metadata": {
      "needs_background": "light"
     }
    }
   ],
   "source": [
    "sns.histplot(inches)\n",
    "plt.xlabel('inches')"
   ]
  },
  {
   "cell_type": "code",
   "execution_count": 153,
   "metadata": {},
   "outputs": [
    {
     "output_type": "execute_result",
     "data": {
      "text/plain": [
       "29"
      ]
     },
     "metadata": {},
     "execution_count": 153
    }
   ],
   "source": [
    "# With boolean operators is possbile to address questions as: how many days has rainfall between 0.5 and 1?/ Com os operadores booleanos, é possível responder questões como: quantos dias tem uma precipitação entre 0.5 e 1?\n",
    "np.sum((rainfall>0.5)&(rainfall<1))"
   ]
  },
  {
   "cell_type": "code",
   "execution_count": 156,
   "metadata": {},
   "outputs": [
    {
     "output_type": "execute_result",
     "data": {
      "text/plain": [
       "29"
      ]
     },
     "metadata": {},
     "execution_count": 156
    }
   ],
   "source": [
    "# Alternative Solution/Solução alternativa\n",
    "np.sum(~((rainfall<=0.5)|(rainfall>=1)))"
   ]
  },
  {
   "cell_type": "code",
   "execution_count": 163,
   "metadata": {},
   "outputs": [
    {
     "output_type": "stream",
     "name": "stdout",
     "text": [
      "Days without rain:    215\nDays with rain:    150\nDays with more than 0.5 inches:    37\nRainy Days with < 0.1 inches:  75\n"
     ]
    }
   ],
   "source": [
    "# With these tools, is possible to address many questions. Com essas ferramentas, é possível responder a diversos questionamentos\n",
    "print(\"Days without rain:   \",np.sum(rainfall==0))\n",
    "print(\"Days with rain:   \",np.sum(rainfall!=0))\n",
    "print(\"Days with more than 0.5 inches:   \",np.sum(rainfall>0.5))\n",
    "print(\"Rainy Days with < 0.1 inches: \",np.sum((rainfall>0)&(rainfall<0.2)))\n"
   ]
  },
  {
   "source": [
    "# Boolean Arrays as Masks/ Arrays booleanos como máscaras"
   ],
   "cell_type": "markdown",
   "metadata": {}
  },
  {
   "cell_type": "code",
   "execution_count": 165,
   "metadata": {},
   "outputs": [
    {
     "output_type": "execute_result",
     "data": {
      "text/plain": [
       "array([[5, 0, 3, 3],\n",
       "       [7, 9, 3, 5],\n",
       "       [2, 4, 7, 6]])"
      ]
     },
     "metadata": {},
     "execution_count": 165
    }
   ],
   "source": [
    "rng = np.random.RandomState(0)\n",
    "x = rng.randint(10,size = (3,4))\n",
    "x"
   ]
  },
  {
   "cell_type": "code",
   "execution_count": 167,
   "metadata": {},
   "outputs": [
    {
     "output_type": "stream",
     "name": "stdout",
     "text": [
      "[[False  True  True  True]\n [False False  True False]\n [ True  True False False]]\n"
     ]
    },
    {
     "output_type": "execute_result",
     "data": {
      "text/plain": [
       "array([0, 3, 3, 3, 2, 4])"
      ]
     },
     "metadata": {},
     "execution_count": 167
    }
   ],
   "source": [
    "# Checking the values below 5 in x/Checando os valores menores que 5:\n",
    "print(x<5)\n",
    "#picking the values with masking operation/ pegando os valores em que há a correspondência:\n",
    "x[x<5]"
   ]
  },
  {
   "cell_type": "code",
   "execution_count": 171,
   "metadata": {},
   "outputs": [
    {
     "output_type": "stream",
     "name": "stdout",
     "text": [
      "Median precip on rainy days in 2014 (inches): 0.195\nMedian precip on summer days in 2014 (inches):  0.0\nMaximum precip on summer days in 2014 (inches):  0.85\nMedian precip on non-summer rainy days (inches): 0.2\n"
     ]
    }
   ],
   "source": [
    "# construct a mask of all rainy days/construindo uma máscara contendo todos os dias chuvosos\n",
    "rainy = (rainfall>0)\n",
    "# construct a mask of all summer days in the north hemisphere (June 21st is the 172nd day)/construindo uma máscara contendo todos os dias de verão do hemisfério norte(21 de junho é o 172º dia)\n",
    "summer = (np.arange(365)-172<90)&(np.arange(365)-172>0)\n",
    "\n",
    "print(\"Median precip on rainy days in 2014 (inches):\",np.median(rainfall[rainy]))\n",
    "print(\"Median precip on summer days in 2014 (inches): \",\n",
    "np.median(rainfall[summer]))\n",
    "print(\"Maximum precip on summer days in 2014 (inches): \",\n",
    "np.max(rainfall[summer]))\n",
    "print(\"Median precip on non-summer rainy days (inches):\",\n",
    "np.median(rainfall[rainy & ~summer]))"
   ]
  },
  {
   "source": [
    "# Differences between keywords and/or and &/|"
   ],
   "cell_type": "markdown",
   "metadata": {}
  },
  {
   "cell_type": "code",
   "execution_count": 173,
   "metadata": {},
   "outputs": [
    {
     "output_type": "execute_result",
     "data": {
      "text/plain": [
       "(True, False)"
      ]
     },
     "metadata": {},
     "execution_count": 173
    }
   ],
   "source": [
    "# In Python, numbers greater than zero are assigned as true. Em Python, número maiores que zero são assinalados como verdadeiros\n",
    "bool(42),bool(0)"
   ]
  },
  {
   "cell_type": "code",
   "execution_count": 175,
   "metadata": {},
   "outputs": [
    {
     "output_type": "stream",
     "name": "stdout",
     "text": [
      "False\nTrue\n"
     ]
    }
   ],
   "source": [
    "print(bool(42 and 0))\n",
    "print(bool(42 or 0))"
   ]
  },
  {
   "cell_type": "code",
   "execution_count": 182,
   "metadata": {},
   "outputs": [
    {
     "output_type": "stream",
     "name": "stdout",
     "text": [
      "0b101010\n0b111011\n"
     ]
    }
   ],
   "source": [
    "#The use of & and | are bit-wise/& e | são bit a bit\n",
    "print(bin(42&59))\n",
    "print(bin(42|59))"
   ]
  },
  {
   "cell_type": "code",
   "execution_count": 184,
   "metadata": {},
   "outputs": [
    {
     "output_type": "execute_result",
     "data": {
      "text/plain": [
       "array([ True,  True,  True, False,  True,  True])"
      ]
     },
     "metadata": {},
     "execution_count": 184
    }
   ],
   "source": [
    "# In numpy arrays, & and | are element-wise/ Nos arrays do numpy & e | são elemento a elemento\n",
    "A = np.array([1,0,1,0,1,0],dtype = bool)\n",
    "B = np.array([1,1,1,0,1,1],dtype = bool)\n",
    "A|B"
   ]
  },
  {
   "cell_type": "code",
   "execution_count": 185,
   "metadata": {},
   "outputs": [
    {
     "output_type": "error",
     "ename": "ValueError",
     "evalue": "The truth value of an array with more than one element is ambiguous. Use a.any() or a.all()",
     "traceback": [
      "\u001b[0;31m---------------------------------------------------------------------------\u001b[0m",
      "\u001b[0;31mValueError\u001b[0m                                Traceback (most recent call last)",
      "\u001b[0;32m<ipython-input-185-a32f3e6f02de>\u001b[0m in \u001b[0;36m<module>\u001b[0;34m\u001b[0m\n\u001b[1;32m      1\u001b[0m \u001b[0;31m#In numpy array the keywords \"and\" and \"or\" checks the entire variable/ No array do numpy as palavras-chaves \"and\" e \"or\" checam a variável como um todo, levantando um erro de ambiguidade:\u001b[0m\u001b[0;34m\u001b[0m\u001b[0;34m\u001b[0m\u001b[0;34m\u001b[0m\u001b[0m\n\u001b[0;32m----> 2\u001b[0;31m \u001b[0mA\u001b[0m \u001b[0;32mor\u001b[0m \u001b[0mB\u001b[0m\u001b[0;34m\u001b[0m\u001b[0;34m\u001b[0m\u001b[0m\n\u001b[0m",
      "\u001b[0;31mValueError\u001b[0m: The truth value of an array with more than one element is ambiguous. Use a.any() or a.all()"
     ]
    }
   ],
   "source": [
    "#In numpy array the keywords \"and\" and \"or\" checks the entire variable/ No array do numpy as palavras-chaves \"and\" e \"or\" checam a variável como um todo, levantando um erro de ambiguidade:\n",
    "A or B"
   ]
  },
  {
   "source": [
    "# Fancy Indexing/Indexação Chique "
   ],
   "cell_type": "markdown",
   "metadata": {}
  },
  {
   "cell_type": "code",
   "execution_count": 186,
   "metadata": {},
   "outputs": [],
   "source": [
    "import numpy as np"
   ]
  },
  {
   "cell_type": "code",
   "execution_count": 189,
   "metadata": {},
   "outputs": [
    {
     "output_type": "stream",
     "name": "stdout",
     "text": [
      "[51 92 14 71 60 20 82 86 74 74]\n"
     ]
    }
   ],
   "source": [
    "rand = np.random.RandomState(42)\n",
    "x = rand.randint(100,size = 10)\n",
    "print(x)"
   ]
  },
  {
   "cell_type": "code",
   "execution_count": 193,
   "metadata": {},
   "outputs": [
    {
     "output_type": "execute_result",
     "data": {
      "text/plain": [
       "[71, 86, 60]"
      ]
     },
     "metadata": {},
     "execution_count": 193
    }
   ],
   "source": [
    "# Suppose that we want a list with 3 elements/Suponha que queiramos uma lista com 3 elementos\n",
    "[x[3],x[7],x[4]]"
   ]
  },
  {
   "cell_type": "code",
   "execution_count": 192,
   "metadata": {},
   "outputs": [
    {
     "output_type": "execute_result",
     "data": {
      "text/plain": [
       "array([71, 86, 60])"
      ]
     },
     "metadata": {},
     "execution_count": 192
    }
   ],
   "source": [
    "# Alternatively, we can do it like this/ Alternativamente, podemos fazer assim:\n",
    "ind = [3,7,4]\n",
    "x[ind]"
   ]
  },
  {
   "cell_type": "code",
   "execution_count": 194,
   "metadata": {},
   "outputs": [
    {
     "output_type": "execute_result",
     "data": {
      "text/plain": [
       "array([[71, 86],\n",
       "       [60, 20]])"
      ]
     },
     "metadata": {},
     "execution_count": 194
    }
   ],
   "source": [
    "# With fancy indexing, the shape of the result reflects the shape of index arrays rather than the shape of the array being indexed. Com a indexação chique, o formato resultante reflete o formato do índice ao invés do array que foi indexado.\n",
    "\n",
    "ind = np.array([[3,7],[4,5]])\n",
    "x[ind]"
   ]
  },
  {
   "cell_type": "code",
   "execution_count": 196,
   "metadata": {},
   "outputs": [
    {
     "output_type": "execute_result",
     "data": {
      "text/plain": [
       "array([ 2,  5, 11])"
      ]
     },
     "metadata": {},
     "execution_count": 196
    }
   ],
   "source": [
    "# Fancy indexing also works in multiple dimensions. A indexação chique também funciona em múltiplas dimensões\n",
    "x = np.arange(12).reshape((3,4))\n",
    "row = np.array([0,1,2])\n",
    "col = np.array([2,1,3])\n",
    "x[row,col]\n",
    "# The pairing of indices in fancy indexing follows all the broadcasting rules mentioned before/ O pareamento dos índices seguem as regras anteriores"
   ]
  },
  {
   "cell_type": "code",
   "execution_count": 197,
   "metadata": {},
   "outputs": [
    {
     "output_type": "execute_result",
     "data": {
      "text/plain": [
       "array([[ 2,  1,  3],\n",
       "       [ 6,  5,  7],\n",
       "       [10,  9, 11]])"
      ]
     },
     "metadata": {},
     "execution_count": 197
    }
   ],
   "source": [
    "x[row[:,np.newaxis],col]"
   ]
  },
  {
   "cell_type": "code",
   "execution_count": 198,
   "metadata": {},
   "outputs": [
    {
     "output_type": "execute_result",
     "data": {
      "text/plain": [
       "array([[0, 0, 0],\n",
       "       [2, 1, 3],\n",
       "       [4, 2, 6]])"
      ]
     },
     "metadata": {},
     "execution_count": 198
    }
   ],
   "source": [
    "row[:,np.newaxis]*col"
   ]
  },
  {
   "source": [
    "# Combined Indexing/ Combinação Indexada"
   ],
   "cell_type": "markdown",
   "metadata": {}
  },
  {
   "cell_type": "code",
   "execution_count": 202,
   "metadata": {},
   "outputs": [
    {
     "output_type": "stream",
     "name": "stdout",
     "text": [
      "[[ 0  1  2  3]\n [ 4  5  6  7]\n [ 8  9 10 11]]\n"
     ]
    }
   ],
   "source": [
    "print(x)"
   ]
  },
  {
   "cell_type": "code",
   "execution_count": 201,
   "metadata": {},
   "outputs": [
    {
     "output_type": "execute_result",
     "data": {
      "text/plain": [
       "array([10,  8,  9])"
      ]
     },
     "metadata": {},
     "execution_count": 201
    }
   ],
   "source": [
    "# We can combine fancy and simple indices/ Combina-se o chique com o simples:\n",
    "x[2,[2,0,1]]"
   ]
  },
  {
   "cell_type": "code",
   "execution_count": 203,
   "metadata": {},
   "outputs": [
    {
     "output_type": "execute_result",
     "data": {
      "text/plain": [
       "array([[ 6,  4,  5],\n",
       "       [10,  8,  9]])"
      ]
     },
     "metadata": {},
     "execution_count": 203
    }
   ],
   "source": [
    "# We can also combine fancy indexing with slicing:/ Combina-se a indexação chique com o recorte de arrays:\n",
    "x[1:,[2,0,1]]"
   ]
  },
  {
   "cell_type": "code",
   "execution_count": 207,
   "metadata": {},
   "outputs": [
    {
     "output_type": "execute_result",
     "data": {
      "text/plain": [
       "array([[ 0,  2],\n",
       "       [ 4,  6],\n",
       "       [ 8, 10]])"
      ]
     },
     "metadata": {},
     "execution_count": 207
    }
   ],
   "source": [
    "# We can combine fancy indexing with masking\n",
    "mask = np.array([1,0,1,0],dtype = bool)\n",
    "x[row[:,np.newaxis],mask]"
   ]
  },
  {
   "cell_type": "code",
   "execution_count": 208,
   "metadata": {},
   "outputs": [
    {
     "output_type": "execute_result",
     "data": {
      "text/plain": [
       "(100, 2)"
      ]
     },
     "metadata": {},
     "execution_count": 208
    }
   ],
   "source": [
    "# Example: selecting random points\n",
    "# Exemplo: selecionando pontos aleatórios\n",
    "mean = [0,0]\n",
    "cov = [[1,2],[2,5]]\n",
    "x = rand.multivariate_normal(mean,cov,100)\n",
    "x.shape"
   ]
  },
  {
   "cell_type": "code",
   "execution_count": 218,
   "metadata": {},
   "outputs": [
    {
     "output_type": "execute_result",
     "data": {
      "text/plain": [
       "Text(0, 0.5, '$X_2$')"
      ]
     },
     "metadata": {},
     "execution_count": 218
    },
    {
     "output_type": "display_data",
     "data": {
      "text/plain": "<Figure size 432x288 with 1 Axes>",
      "image/svg+xml": "<?xml version=\"1.0\" encoding=\"utf-8\" standalone=\"no\"?>\n<!DOCTYPE svg PUBLIC \"-//W3C//DTD SVG 1.1//EN\"\n  \"http://www.w3.org/Graphics/SVG/1.1/DTD/svg11.dtd\">\n<!-- Created with matplotlib (https://matplotlib.org/) -->\n<svg height=\"262.19625pt\" version=\"1.1\" viewBox=\"0 0 384.620312 262.19625\" width=\"384.620312pt\" xmlns=\"http://www.w3.org/2000/svg\" xmlns:xlink=\"http://www.w3.org/1999/xlink\">\n <metadata>\n  <rdf:RDF xmlns:cc=\"http://creativecommons.org/ns#\" xmlns:dc=\"http://purl.org/dc/elements/1.1/\" xmlns:rdf=\"http://www.w3.org/1999/02/22-rdf-syntax-ns#\">\n   <cc:Work>\n    <dc:type rdf:resource=\"http://purl.org/dc/dcmitype/StillImage\"/>\n    <dc:date>2021-06-29T19:44:15.735008</dc:date>\n    <dc:format>image/svg+xml</dc:format>\n    <dc:creator>\n     <cc:Agent>\n      <dc:title>Matplotlib v3.3.2, https://matplotlib.org/</dc:title>\n     </cc:Agent>\n    </dc:creator>\n   </cc:Work>\n  </rdf:RDF>\n </metadata>\n <defs>\n  <style type=\"text/css\">*{stroke-linecap:butt;stroke-linejoin:round;}</style>\n </defs>\n <g id=\"figure_1\">\n  <g id=\"patch_1\">\n   <path d=\"M 0 262.19625 \nL 384.620312 262.19625 \nL 384.620312 0 \nL 0 0 \nz\n\" style=\"fill:none;\"/>\n  </g>\n  <g id=\"axes_1\">\n   <g id=\"patch_2\">\n    <path d=\"M 42.620313 224.64 \nL 377.420313 224.64 \nL 377.420313 7.2 \nL 42.620313 7.2 \nz\n\" style=\"fill:#ffffff;\"/>\n   </g>\n   <g id=\"PathCollection_1\">\n    <defs>\n     <path d=\"M 0 3 \nC 0.795609 3 1.55874 2.683901 2.12132 2.12132 \nC 2.683901 1.55874 3 0.795609 3 0 \nC 3 -0.795609 2.683901 -1.55874 2.12132 -2.12132 \nC 1.55874 -2.683901 0.795609 -3 0 -3 \nC -0.795609 -3 -1.55874 -2.683901 -2.12132 -2.12132 \nC -2.683901 -1.55874 -3 -0.795609 -3 0 \nC -3 0.795609 -2.683901 1.55874 -2.12132 2.12132 \nC -1.55874 2.683901 -0.795609 3 0 3 \nz\n\" id=\"m6788cb39c7\" style=\"stroke:#1f77b4;\"/>\n    </defs>\n    <g clip-path=\"url(#p9e17a32b3f)\">\n     <use style=\"fill:#1f77b4;stroke:#1f77b4;\" x=\"193.327226\" xlink:href=\"#m6788cb39c7\" y=\"110.375991\"/>\n     <use style=\"fill:#1f77b4;stroke:#1f77b4;\" x=\"272.039537\" xlink:href=\"#m6788cb39c7\" y=\"86.11741\"/>\n     <use style=\"fill:#1f77b4;stroke:#1f77b4;\" x=\"280.233564\" xlink:href=\"#m6788cb39c7\" y=\"87.340315\"/>\n     <use style=\"fill:#1f77b4;stroke:#1f77b4;\" x=\"346.777427\" xlink:href=\"#m6788cb39c7\" y=\"17.083636\"/>\n     <use style=\"fill:#1f77b4;stroke:#1f77b4;\" x=\"220.285575\" xlink:href=\"#m6788cb39c7\" y=\"133.559769\"/>\n     <use style=\"fill:#1f77b4;stroke:#1f77b4;\" x=\"268.732744\" xlink:href=\"#m6788cb39c7\" y=\"91.554419\"/>\n     <use style=\"fill:#1f77b4;stroke:#1f77b4;\" x=\"313.667721\" xlink:href=\"#m6788cb39c7\" y=\"85.867639\"/>\n     <use style=\"fill:#1f77b4;stroke:#1f77b4;\" x=\"250.124594\" xlink:href=\"#m6788cb39c7\" y=\"81.968723\"/>\n     <use style=\"fill:#1f77b4;stroke:#1f77b4;\" x=\"86.773812\" xlink:href=\"#m6788cb39c7\" y=\"185.474892\"/>\n     <use style=\"fill:#1f77b4;stroke:#1f77b4;\" x=\"234.834323\" xlink:href=\"#m6788cb39c7\" y=\"108.812905\"/>\n     <use style=\"fill:#1f77b4;stroke:#1f77b4;\" x=\"240.965492\" xlink:href=\"#m6788cb39c7\" y=\"82.109836\"/>\n     <use style=\"fill:#1f77b4;stroke:#1f77b4;\" x=\"228.570163\" xlink:href=\"#m6788cb39c7\" y=\"114.543337\"/>\n     <use style=\"fill:#1f77b4;stroke:#1f77b4;\" x=\"287.305243\" xlink:href=\"#m6788cb39c7\" y=\"71.044245\"/>\n     <use style=\"fill:#1f77b4;stroke:#1f77b4;\" x=\"258.229716\" xlink:href=\"#m6788cb39c7\" y=\"86.450198\"/>\n     <use style=\"fill:#1f77b4;stroke:#1f77b4;\" x=\"233.618697\" xlink:href=\"#m6788cb39c7\" y=\"95.372435\"/>\n     <use style=\"fill:#1f77b4;stroke:#1f77b4;\" x=\"272.796687\" xlink:href=\"#m6788cb39c7\" y=\"60.295375\"/>\n     <use style=\"fill:#1f77b4;stroke:#1f77b4;\" x=\"57.838494\" xlink:href=\"#m6788cb39c7\" y=\"190.709708\"/>\n     <use style=\"fill:#1f77b4;stroke:#1f77b4;\" x=\"199.311316\" xlink:href=\"#m6788cb39c7\" y=\"108.71996\"/>\n     <use style=\"fill:#1f77b4;stroke:#1f77b4;\" x=\"317.629777\" xlink:href=\"#m6788cb39c7\" y=\"74.711312\"/>\n     <use style=\"fill:#1f77b4;stroke:#1f77b4;\" x=\"201.051847\" xlink:href=\"#m6788cb39c7\" y=\"129.915121\"/>\n     <use style=\"fill:#1f77b4;stroke:#1f77b4;\" x=\"320.077594\" xlink:href=\"#m6788cb39c7\" y=\"62.189717\"/>\n     <use style=\"fill:#1f77b4;stroke:#1f77b4;\" x=\"286.585297\" xlink:href=\"#m6788cb39c7\" y=\"66.842209\"/>\n     <use style=\"fill:#1f77b4;stroke:#1f77b4;\" x=\"180.056295\" xlink:href=\"#m6788cb39c7\" y=\"120.450795\"/>\n     <use style=\"fill:#1f77b4;stroke:#1f77b4;\" x=\"166.522682\" xlink:href=\"#m6788cb39c7\" y=\"130.843461\"/>\n     <use style=\"fill:#1f77b4;stroke:#1f77b4;\" x=\"254.519354\" xlink:href=\"#m6788cb39c7\" y=\"98.418205\"/>\n     <use style=\"fill:#1f77b4;stroke:#1f77b4;\" x=\"285.41697\" xlink:href=\"#m6788cb39c7\" y=\"52.425096\"/>\n     <use style=\"fill:#1f77b4;stroke:#1f77b4;\" x=\"248.326622\" xlink:href=\"#m6788cb39c7\" y=\"98.879919\"/>\n     <use style=\"fill:#1f77b4;stroke:#1f77b4;\" x=\"187.536691\" xlink:href=\"#m6788cb39c7\" y=\"143.860755\"/>\n     <use style=\"fill:#1f77b4;stroke:#1f77b4;\" x=\"179.64617\" xlink:href=\"#m6788cb39c7\" y=\"129.972456\"/>\n     <use style=\"fill:#1f77b4;stroke:#1f77b4;\" x=\"286.288487\" xlink:href=\"#m6788cb39c7\" y=\"70.320926\"/>\n     <use style=\"fill:#1f77b4;stroke:#1f77b4;\" x=\"161.500775\" xlink:href=\"#m6788cb39c7\" y=\"133.290899\"/>\n     <use style=\"fill:#1f77b4;stroke:#1f77b4;\" x=\"143.979979\" xlink:href=\"#m6788cb39c7\" y=\"151.222853\"/>\n     <use style=\"fill:#1f77b4;stroke:#1f77b4;\" x=\"72.658767\" xlink:href=\"#m6788cb39c7\" y=\"214.756364\"/>\n     <use style=\"fill:#1f77b4;stroke:#1f77b4;\" x=\"252.332195\" xlink:href=\"#m6788cb39c7\" y=\"90.939601\"/>\n     <use style=\"fill:#1f77b4;stroke:#1f77b4;\" x=\"281.958712\" xlink:href=\"#m6788cb39c7\" y=\"55.445044\"/>\n     <use style=\"fill:#1f77b4;stroke:#1f77b4;\" x=\"182.078666\" xlink:href=\"#m6788cb39c7\" y=\"132.830784\"/>\n     <use style=\"fill:#1f77b4;stroke:#1f77b4;\" x=\"290.732262\" xlink:href=\"#m6788cb39c7\" y=\"89.845762\"/>\n     <use style=\"fill:#1f77b4;stroke:#1f77b4;\" x=\"255.349839\" xlink:href=\"#m6788cb39c7\" y=\"76.470711\"/>\n     <use style=\"fill:#1f77b4;stroke:#1f77b4;\" x=\"250.497379\" xlink:href=\"#m6788cb39c7\" y=\"97.805326\"/>\n     <use style=\"fill:#1f77b4;stroke:#1f77b4;\" x=\"178.407111\" xlink:href=\"#m6788cb39c7\" y=\"117.223113\"/>\n     <use style=\"fill:#1f77b4;stroke:#1f77b4;\" x=\"209.649176\" xlink:href=\"#m6788cb39c7\" y=\"111.265805\"/>\n     <use style=\"fill:#1f77b4;stroke:#1f77b4;\" x=\"154.025908\" xlink:href=\"#m6788cb39c7\" y=\"147.603541\"/>\n     <use style=\"fill:#1f77b4;stroke:#1f77b4;\" x=\"231.634816\" xlink:href=\"#m6788cb39c7\" y=\"92.141148\"/>\n     <use style=\"fill:#1f77b4;stroke:#1f77b4;\" x=\"251.550316\" xlink:href=\"#m6788cb39c7\" y=\"96.232912\"/>\n     <use style=\"fill:#1f77b4;stroke:#1f77b4;\" x=\"169.37753\" xlink:href=\"#m6788cb39c7\" y=\"145.506425\"/>\n     <use style=\"fill:#1f77b4;stroke:#1f77b4;\" x=\"362.202131\" xlink:href=\"#m6788cb39c7\" y=\"17.095218\"/>\n     <use style=\"fill:#1f77b4;stroke:#1f77b4;\" x=\"257.142825\" xlink:href=\"#m6788cb39c7\" y=\"91.564652\"/>\n     <use style=\"fill:#1f77b4;stroke:#1f77b4;\" x=\"209.819685\" xlink:href=\"#m6788cb39c7\" y=\"118.696479\"/>\n     <use style=\"fill:#1f77b4;stroke:#1f77b4;\" x=\"262.796277\" xlink:href=\"#m6788cb39c7\" y=\"115.268995\"/>\n     <use style=\"fill:#1f77b4;stroke:#1f77b4;\" x=\"249.052681\" xlink:href=\"#m6788cb39c7\" y=\"69.9852\"/>\n     <use style=\"fill:#1f77b4;stroke:#1f77b4;\" x=\"267.479366\" xlink:href=\"#m6788cb39c7\" y=\"106.923722\"/>\n     <use style=\"fill:#1f77b4;stroke:#1f77b4;\" x=\"308.094315\" xlink:href=\"#m6788cb39c7\" y=\"71.304856\"/>\n     <use style=\"fill:#1f77b4;stroke:#1f77b4;\" x=\"234.074764\" xlink:href=\"#m6788cb39c7\" y=\"107.980643\"/>\n     <use style=\"fill:#1f77b4;stroke:#1f77b4;\" x=\"264.628311\" xlink:href=\"#m6788cb39c7\" y=\"82.372338\"/>\n     <use style=\"fill:#1f77b4;stroke:#1f77b4;\" x=\"210.540015\" xlink:href=\"#m6788cb39c7\" y=\"119.711848\"/>\n     <use style=\"fill:#1f77b4;stroke:#1f77b4;\" x=\"269.455584\" xlink:href=\"#m6788cb39c7\" y=\"86.078676\"/>\n     <use style=\"fill:#1f77b4;stroke:#1f77b4;\" x=\"212.31296\" xlink:href=\"#m6788cb39c7\" y=\"114.677221\"/>\n     <use style=\"fill:#1f77b4;stroke:#1f77b4;\" x=\"214.718852\" xlink:href=\"#m6788cb39c7\" y=\"131.112735\"/>\n     <use style=\"fill:#1f77b4;stroke:#1f77b4;\" x=\"253.975952\" xlink:href=\"#m6788cb39c7\" y=\"76.852975\"/>\n     <use style=\"fill:#1f77b4;stroke:#1f77b4;\" x=\"242.056628\" xlink:href=\"#m6788cb39c7\" y=\"74.594258\"/>\n     <use style=\"fill:#1f77b4;stroke:#1f77b4;\" x=\"125.753705\" xlink:href=\"#m6788cb39c7\" y=\"145.886847\"/>\n     <use style=\"fill:#1f77b4;stroke:#1f77b4;\" x=\"274.690216\" xlink:href=\"#m6788cb39c7\" y=\"75.049239\"/>\n     <use style=\"fill:#1f77b4;stroke:#1f77b4;\" x=\"235.874234\" xlink:href=\"#m6788cb39c7\" y=\"85.617099\"/>\n     <use style=\"fill:#1f77b4;stroke:#1f77b4;\" x=\"121.200871\" xlink:href=\"#m6788cb39c7\" y=\"156.816565\"/>\n     <use style=\"fill:#1f77b4;stroke:#1f77b4;\" x=\"237.516908\" xlink:href=\"#m6788cb39c7\" y=\"104.815129\"/>\n     <use style=\"fill:#1f77b4;stroke:#1f77b4;\" x=\"222.531109\" xlink:href=\"#m6788cb39c7\" y=\"127.461051\"/>\n     <use style=\"fill:#1f77b4;stroke:#1f77b4;\" x=\"221.747011\" xlink:href=\"#m6788cb39c7\" y=\"123.110278\"/>\n     <use style=\"fill:#1f77b4;stroke:#1f77b4;\" x=\"200.889219\" xlink:href=\"#m6788cb39c7\" y=\"124.100438\"/>\n     <use style=\"fill:#1f77b4;stroke:#1f77b4;\" x=\"269.758441\" xlink:href=\"#m6788cb39c7\" y=\"93.168419\"/>\n     <use style=\"fill:#1f77b4;stroke:#1f77b4;\" x=\"236.681646\" xlink:href=\"#m6788cb39c7\" y=\"90.87645\"/>\n     <use style=\"fill:#1f77b4;stroke:#1f77b4;\" x=\"163.636257\" xlink:href=\"#m6788cb39c7\" y=\"136.199699\"/>\n     <use style=\"fill:#1f77b4;stroke:#1f77b4;\" x=\"102.933946\" xlink:href=\"#m6788cb39c7\" y=\"141.918333\"/>\n     <use style=\"fill:#1f77b4;stroke:#1f77b4;\" x=\"251.591101\" xlink:href=\"#m6788cb39c7\" y=\"93.668352\"/>\n     <use style=\"fill:#1f77b4;stroke:#1f77b4;\" x=\"279.848335\" xlink:href=\"#m6788cb39c7\" y=\"54.416718\"/>\n     <use style=\"fill:#1f77b4;stroke:#1f77b4;\" x=\"180.562821\" xlink:href=\"#m6788cb39c7\" y=\"147.656436\"/>\n     <use style=\"fill:#1f77b4;stroke:#1f77b4;\" x=\"171.010408\" xlink:href=\"#m6788cb39c7\" y=\"120.842206\"/>\n     <use style=\"fill:#1f77b4;stroke:#1f77b4;\" x=\"199.657638\" xlink:href=\"#m6788cb39c7\" y=\"109.046038\"/>\n     <use style=\"fill:#1f77b4;stroke:#1f77b4;\" x=\"247.352536\" xlink:href=\"#m6788cb39c7\" y=\"112.123571\"/>\n     <use style=\"fill:#1f77b4;stroke:#1f77b4;\" x=\"145.941939\" xlink:href=\"#m6788cb39c7\" y=\"134.543042\"/>\n     <use style=\"fill:#1f77b4;stroke:#1f77b4;\" x=\"212.188192\" xlink:href=\"#m6788cb39c7\" y=\"129.604615\"/>\n     <use style=\"fill:#1f77b4;stroke:#1f77b4;\" x=\"294.19061\" xlink:href=\"#m6788cb39c7\" y=\"82.004629\"/>\n     <use style=\"fill:#1f77b4;stroke:#1f77b4;\" x=\"161.876887\" xlink:href=\"#m6788cb39c7\" y=\"125.646525\"/>\n     <use style=\"fill:#1f77b4;stroke:#1f77b4;\" x=\"187.199832\" xlink:href=\"#m6788cb39c7\" y=\"115.236171\"/>\n     <use style=\"fill:#1f77b4;stroke:#1f77b4;\" x=\"272.503204\" xlink:href=\"#m6788cb39c7\" y=\"75.310907\"/>\n     <use style=\"fill:#1f77b4;stroke:#1f77b4;\" x=\"318.926504\" xlink:href=\"#m6788cb39c7\" y=\"61.190467\"/>\n     <use style=\"fill:#1f77b4;stroke:#1f77b4;\" x=\"189.022322\" xlink:href=\"#m6788cb39c7\" y=\"132.621371\"/>\n     <use style=\"fill:#1f77b4;stroke:#1f77b4;\" x=\"154.676559\" xlink:href=\"#m6788cb39c7\" y=\"141.521441\"/>\n     <use style=\"fill:#1f77b4;stroke:#1f77b4;\" x=\"84.118026\" xlink:href=\"#m6788cb39c7\" y=\"191.817164\"/>\n     <use style=\"fill:#1f77b4;stroke:#1f77b4;\" x=\"304.781364\" xlink:href=\"#m6788cb39c7\" y=\"58.317072\"/>\n     <use style=\"fill:#1f77b4;stroke:#1f77b4;\" x=\"259.403854\" xlink:href=\"#m6788cb39c7\" y=\"70.320312\"/>\n     <use style=\"fill:#1f77b4;stroke:#1f77b4;\" x=\"230.814501\" xlink:href=\"#m6788cb39c7\" y=\"105.351922\"/>\n     <use style=\"fill:#1f77b4;stroke:#1f77b4;\" x=\"220.428063\" xlink:href=\"#m6788cb39c7\" y=\"97.969402\"/>\n     <use style=\"fill:#1f77b4;stroke:#1f77b4;\" x=\"236.902933\" xlink:href=\"#m6788cb39c7\" y=\"87.276409\"/>\n     <use style=\"fill:#1f77b4;stroke:#1f77b4;\" x=\"182.475971\" xlink:href=\"#m6788cb39c7\" y=\"138.249493\"/>\n     <use style=\"fill:#1f77b4;stroke:#1f77b4;\" x=\"289.934405\" xlink:href=\"#m6788cb39c7\" y=\"74.936611\"/>\n     <use style=\"fill:#1f77b4;stroke:#1f77b4;\" x=\"190.654159\" xlink:href=\"#m6788cb39c7\" y=\"126.412339\"/>\n     <use style=\"fill:#1f77b4;stroke:#1f77b4;\" x=\"158.459787\" xlink:href=\"#m6788cb39c7\" y=\"119.990503\"/>\n     <use style=\"fill:#1f77b4;stroke:#1f77b4;\" x=\"235.509768\" xlink:href=\"#m6788cb39c7\" y=\"113.000199\"/>\n     <use style=\"fill:#1f77b4;stroke:#1f77b4;\" x=\"173.276523\" xlink:href=\"#m6788cb39c7\" y=\"137.728864\"/>\n     <use style=\"fill:#1f77b4;stroke:#1f77b4;\" x=\"160.891968\" xlink:href=\"#m6788cb39c7\" y=\"129.421724\"/>\n    </g>\n   </g>\n   <g id=\"matplotlib.axis_1\">\n    <g id=\"xtick_1\">\n     <g id=\"line2d_1\">\n      <path clip-path=\"url(#p9e17a32b3f)\" d=\"M 59.183225 224.64 \nL 59.183225 7.2 \n\" style=\"fill:none;stroke:#b0b0b0;stroke-linecap:square;stroke-width:0.8;\"/>\n     </g>\n     <g id=\"line2d_2\">\n      <defs>\n       <path d=\"M 0 0 \nL 0 3.5 \n\" id=\"m74c37171f7\" style=\"stroke:#000000;stroke-width:0.8;\"/>\n      </defs>\n      <g>\n       <use style=\"stroke:#000000;stroke-width:0.8;\" x=\"59.183225\" xlink:href=\"#m74c37171f7\" y=\"224.64\"/>\n      </g>\n     </g>\n     <g id=\"text_1\">\n      <!-- −3 -->\n      <g transform=\"translate(51.812131 239.238437)scale(0.1 -0.1)\">\n       <defs>\n        <path d=\"M 10.59375 35.5 \nL 73.1875 35.5 \nL 73.1875 27.203125 \nL 10.59375 27.203125 \nz\n\" id=\"DejaVuSans-8722\"/>\n        <path d=\"M 40.578125 39.3125 \nQ 47.65625 37.796875 51.625 33 \nQ 55.609375 28.21875 55.609375 21.1875 \nQ 55.609375 10.40625 48.1875 4.484375 \nQ 40.765625 -1.421875 27.09375 -1.421875 \nQ 22.515625 -1.421875 17.65625 -0.515625 \nQ 12.796875 0.390625 7.625 2.203125 \nL 7.625 11.71875 \nQ 11.71875 9.328125 16.59375 8.109375 \nQ 21.484375 6.890625 26.8125 6.890625 \nQ 36.078125 6.890625 40.9375 10.546875 \nQ 45.796875 14.203125 45.796875 21.1875 \nQ 45.796875 27.640625 41.28125 31.265625 \nQ 36.765625 34.90625 28.71875 34.90625 \nL 20.21875 34.90625 \nL 20.21875 43.015625 \nL 29.109375 43.015625 \nQ 36.375 43.015625 40.234375 45.921875 \nQ 44.09375 48.828125 44.09375 54.296875 \nQ 44.09375 59.90625 40.109375 62.90625 \nQ 36.140625 65.921875 28.71875 65.921875 \nQ 24.65625 65.921875 20.015625 65.03125 \nQ 15.375 64.15625 9.8125 62.3125 \nL 9.8125 71.09375 \nQ 15.4375 72.65625 20.34375 73.4375 \nQ 25.25 74.21875 29.59375 74.21875 \nQ 40.828125 74.21875 47.359375 69.109375 \nQ 53.90625 64.015625 53.90625 55.328125 \nQ 53.90625 49.265625 50.4375 45.09375 \nQ 46.96875 40.921875 40.578125 39.3125 \nz\n\" id=\"DejaVuSans-51\"/>\n       </defs>\n       <use xlink:href=\"#DejaVuSans-8722\"/>\n       <use x=\"83.789062\" xlink:href=\"#DejaVuSans-51\"/>\n      </g>\n     </g>\n    </g>\n    <g id=\"xtick_2\">\n     <g id=\"line2d_3\">\n      <path clip-path=\"url(#p9e17a32b3f)\" d=\"M 116.132687 224.64 \nL 116.132687 7.2 \n\" style=\"fill:none;stroke:#b0b0b0;stroke-linecap:square;stroke-width:0.8;\"/>\n     </g>\n     <g id=\"line2d_4\">\n      <g>\n       <use style=\"stroke:#000000;stroke-width:0.8;\" x=\"116.132687\" xlink:href=\"#m74c37171f7\" y=\"224.64\"/>\n      </g>\n     </g>\n     <g id=\"text_2\">\n      <!-- −2 -->\n      <g transform=\"translate(108.761593 239.238437)scale(0.1 -0.1)\">\n       <defs>\n        <path d=\"M 19.1875 8.296875 \nL 53.609375 8.296875 \nL 53.609375 0 \nL 7.328125 0 \nL 7.328125 8.296875 \nQ 12.9375 14.109375 22.625 23.890625 \nQ 32.328125 33.6875 34.8125 36.53125 \nQ 39.546875 41.84375 41.421875 45.53125 \nQ 43.3125 49.21875 43.3125 52.78125 \nQ 43.3125 58.59375 39.234375 62.25 \nQ 35.15625 65.921875 28.609375 65.921875 \nQ 23.96875 65.921875 18.8125 64.3125 \nQ 13.671875 62.703125 7.8125 59.421875 \nL 7.8125 69.390625 \nQ 13.765625 71.78125 18.9375 73 \nQ 24.125 74.21875 28.421875 74.21875 \nQ 39.75 74.21875 46.484375 68.546875 \nQ 53.21875 62.890625 53.21875 53.421875 \nQ 53.21875 48.921875 51.53125 44.890625 \nQ 49.859375 40.875 45.40625 35.40625 \nQ 44.1875 33.984375 37.640625 27.21875 \nQ 31.109375 20.453125 19.1875 8.296875 \nz\n\" id=\"DejaVuSans-50\"/>\n       </defs>\n       <use xlink:href=\"#DejaVuSans-8722\"/>\n       <use x=\"83.789062\" xlink:href=\"#DejaVuSans-50\"/>\n      </g>\n     </g>\n    </g>\n    <g id=\"xtick_3\">\n     <g id=\"line2d_5\">\n      <path clip-path=\"url(#p9e17a32b3f)\" d=\"M 173.082148 224.64 \nL 173.082148 7.2 \n\" style=\"fill:none;stroke:#b0b0b0;stroke-linecap:square;stroke-width:0.8;\"/>\n     </g>\n     <g id=\"line2d_6\">\n      <g>\n       <use style=\"stroke:#000000;stroke-width:0.8;\" x=\"173.082148\" xlink:href=\"#m74c37171f7\" y=\"224.64\"/>\n      </g>\n     </g>\n     <g id=\"text_3\">\n      <!-- −1 -->\n      <g transform=\"translate(165.711054 239.238437)scale(0.1 -0.1)\">\n       <defs>\n        <path d=\"M 12.40625 8.296875 \nL 28.515625 8.296875 \nL 28.515625 63.921875 \nL 10.984375 60.40625 \nL 10.984375 69.390625 \nL 28.421875 72.90625 \nL 38.28125 72.90625 \nL 38.28125 8.296875 \nL 54.390625 8.296875 \nL 54.390625 0 \nL 12.40625 0 \nz\n\" id=\"DejaVuSans-49\"/>\n       </defs>\n       <use xlink:href=\"#DejaVuSans-8722\"/>\n       <use x=\"83.789062\" xlink:href=\"#DejaVuSans-49\"/>\n      </g>\n     </g>\n    </g>\n    <g id=\"xtick_4\">\n     <g id=\"line2d_7\">\n      <path clip-path=\"url(#p9e17a32b3f)\" d=\"M 230.03161 224.64 \nL 230.03161 7.2 \n\" style=\"fill:none;stroke:#b0b0b0;stroke-linecap:square;stroke-width:0.8;\"/>\n     </g>\n     <g id=\"line2d_8\">\n      <g>\n       <use style=\"stroke:#000000;stroke-width:0.8;\" x=\"230.03161\" xlink:href=\"#m74c37171f7\" y=\"224.64\"/>\n      </g>\n     </g>\n     <g id=\"text_4\">\n      <!-- 0 -->\n      <g transform=\"translate(226.85036 239.238437)scale(0.1 -0.1)\">\n       <defs>\n        <path d=\"M 31.78125 66.40625 \nQ 24.171875 66.40625 20.328125 58.90625 \nQ 16.5 51.421875 16.5 36.375 \nQ 16.5 21.390625 20.328125 13.890625 \nQ 24.171875 6.390625 31.78125 6.390625 \nQ 39.453125 6.390625 43.28125 13.890625 \nQ 47.125 21.390625 47.125 36.375 \nQ 47.125 51.421875 43.28125 58.90625 \nQ 39.453125 66.40625 31.78125 66.40625 \nz\nM 31.78125 74.21875 \nQ 44.046875 74.21875 50.515625 64.515625 \nQ 56.984375 54.828125 56.984375 36.375 \nQ 56.984375 17.96875 50.515625 8.265625 \nQ 44.046875 -1.421875 31.78125 -1.421875 \nQ 19.53125 -1.421875 13.0625 8.265625 \nQ 6.59375 17.96875 6.59375 36.375 \nQ 6.59375 54.828125 13.0625 64.515625 \nQ 19.53125 74.21875 31.78125 74.21875 \nz\n\" id=\"DejaVuSans-48\"/>\n       </defs>\n       <use xlink:href=\"#DejaVuSans-48\"/>\n      </g>\n     </g>\n    </g>\n    <g id=\"xtick_5\">\n     <g id=\"line2d_9\">\n      <path clip-path=\"url(#p9e17a32b3f)\" d=\"M 286.981071 224.64 \nL 286.981071 7.2 \n\" style=\"fill:none;stroke:#b0b0b0;stroke-linecap:square;stroke-width:0.8;\"/>\n     </g>\n     <g id=\"line2d_10\">\n      <g>\n       <use style=\"stroke:#000000;stroke-width:0.8;\" x=\"286.981071\" xlink:href=\"#m74c37171f7\" y=\"224.64\"/>\n      </g>\n     </g>\n     <g id=\"text_5\">\n      <!-- 1 -->\n      <g transform=\"translate(283.799821 239.238437)scale(0.1 -0.1)\">\n       <use xlink:href=\"#DejaVuSans-49\"/>\n      </g>\n     </g>\n    </g>\n    <g id=\"xtick_6\">\n     <g id=\"line2d_11\">\n      <path clip-path=\"url(#p9e17a32b3f)\" d=\"M 343.930533 224.64 \nL 343.930533 7.2 \n\" style=\"fill:none;stroke:#b0b0b0;stroke-linecap:square;stroke-width:0.8;\"/>\n     </g>\n     <g id=\"line2d_12\">\n      <g>\n       <use style=\"stroke:#000000;stroke-width:0.8;\" x=\"343.930533\" xlink:href=\"#m74c37171f7\" y=\"224.64\"/>\n      </g>\n     </g>\n     <g id=\"text_6\">\n      <!-- 2 -->\n      <g transform=\"translate(340.749283 239.238437)scale(0.1 -0.1)\">\n       <use xlink:href=\"#DejaVuSans-50\"/>\n      </g>\n     </g>\n    </g>\n    <g id=\"text_7\">\n     <!-- $X_1$ -->\n     <g transform=\"translate(204.220313 252.916562)scale(0.1 -0.1)\">\n      <defs>\n       <path d=\"M 13.71875 72.90625 \nL 23.6875 72.90625 \nL 36.1875 46.578125 \nL 58.796875 72.90625 \nL 70.3125 72.90625 \nL 40.28125 38.09375 \nL 58.40625 0 \nL 48.484375 0 \nL 33.796875 30.71875 \nL 7.171875 0 \nL -4.296875 0 \nL 29.78125 39.203125 \nz\n\" id=\"DejaVuSans-Oblique-88\"/>\n      </defs>\n      <use transform=\"translate(0 0.09375)\" xlink:href=\"#DejaVuSans-Oblique-88\"/>\n      <use transform=\"translate(68.505859 -16.3125)scale(0.7)\" xlink:href=\"#DejaVuSans-49\"/>\n     </g>\n    </g>\n   </g>\n   <g id=\"matplotlib.axis_2\">\n    <g id=\"ytick_1\">\n     <g id=\"line2d_13\">\n      <path clip-path=\"url(#p9e17a32b3f)\" d=\"M 42.620313 219.571552 \nL 377.420313 219.571552 \n\" style=\"fill:none;stroke:#b0b0b0;stroke-linecap:square;stroke-width:0.8;\"/>\n     </g>\n     <g id=\"line2d_14\">\n      <defs>\n       <path d=\"M 0 0 \nL -3.5 0 \n\" id=\"mf48878c517\" style=\"stroke:#000000;stroke-width:0.8;\"/>\n      </defs>\n      <g>\n       <use style=\"stroke:#000000;stroke-width:0.8;\" x=\"42.620313\" xlink:href=\"#mf48878c517\" y=\"219.571552\"/>\n      </g>\n     </g>\n     <g id=\"text_8\">\n      <!-- −8 -->\n      <g transform=\"translate(20.878125 223.370771)scale(0.1 -0.1)\">\n       <defs>\n        <path d=\"M 31.78125 34.625 \nQ 24.75 34.625 20.71875 30.859375 \nQ 16.703125 27.09375 16.703125 20.515625 \nQ 16.703125 13.921875 20.71875 10.15625 \nQ 24.75 6.390625 31.78125 6.390625 \nQ 38.8125 6.390625 42.859375 10.171875 \nQ 46.921875 13.96875 46.921875 20.515625 \nQ 46.921875 27.09375 42.890625 30.859375 \nQ 38.875 34.625 31.78125 34.625 \nz\nM 21.921875 38.8125 \nQ 15.578125 40.375 12.03125 44.71875 \nQ 8.5 49.078125 8.5 55.328125 \nQ 8.5 64.0625 14.71875 69.140625 \nQ 20.953125 74.21875 31.78125 74.21875 \nQ 42.671875 74.21875 48.875 69.140625 \nQ 55.078125 64.0625 55.078125 55.328125 \nQ 55.078125 49.078125 51.53125 44.71875 \nQ 48 40.375 41.703125 38.8125 \nQ 48.828125 37.15625 52.796875 32.3125 \nQ 56.78125 27.484375 56.78125 20.515625 \nQ 56.78125 9.90625 50.3125 4.234375 \nQ 43.84375 -1.421875 31.78125 -1.421875 \nQ 19.734375 -1.421875 13.25 4.234375 \nQ 6.78125 9.90625 6.78125 20.515625 \nQ 6.78125 27.484375 10.78125 32.3125 \nQ 14.796875 37.15625 21.921875 38.8125 \nz\nM 18.3125 54.390625 \nQ 18.3125 48.734375 21.84375 45.5625 \nQ 25.390625 42.390625 31.78125 42.390625 \nQ 38.140625 42.390625 41.71875 45.5625 \nQ 45.3125 48.734375 45.3125 54.390625 \nQ 45.3125 60.0625 41.71875 63.234375 \nQ 38.140625 66.40625 31.78125 66.40625 \nQ 25.390625 66.40625 21.84375 63.234375 \nQ 18.3125 60.0625 18.3125 54.390625 \nz\n\" id=\"DejaVuSans-56\"/>\n       </defs>\n       <use xlink:href=\"#DejaVuSans-8722\"/>\n       <use x=\"83.789062\" xlink:href=\"#DejaVuSans-56\"/>\n      </g>\n     </g>\n    </g>\n    <g id=\"ytick_2\">\n     <g id=\"line2d_15\">\n      <path clip-path=\"url(#p9e17a32b3f)\" d=\"M 42.620313 190.598735 \nL 377.420313 190.598735 \n\" style=\"fill:none;stroke:#b0b0b0;stroke-linecap:square;stroke-width:0.8;\"/>\n     </g>\n     <g id=\"line2d_16\">\n      <g>\n       <use style=\"stroke:#000000;stroke-width:0.8;\" x=\"42.620313\" xlink:href=\"#mf48878c517\" y=\"190.598735\"/>\n      </g>\n     </g>\n     <g id=\"text_9\">\n      <!-- −6 -->\n      <g transform=\"translate(20.878125 194.397954)scale(0.1 -0.1)\">\n       <defs>\n        <path d=\"M 33.015625 40.375 \nQ 26.375 40.375 22.484375 35.828125 \nQ 18.609375 31.296875 18.609375 23.390625 \nQ 18.609375 15.53125 22.484375 10.953125 \nQ 26.375 6.390625 33.015625 6.390625 \nQ 39.65625 6.390625 43.53125 10.953125 \nQ 47.40625 15.53125 47.40625 23.390625 \nQ 47.40625 31.296875 43.53125 35.828125 \nQ 39.65625 40.375 33.015625 40.375 \nz\nM 52.59375 71.296875 \nL 52.59375 62.3125 \nQ 48.875 64.0625 45.09375 64.984375 \nQ 41.3125 65.921875 37.59375 65.921875 \nQ 27.828125 65.921875 22.671875 59.328125 \nQ 17.53125 52.734375 16.796875 39.40625 \nQ 19.671875 43.65625 24.015625 45.921875 \nQ 28.375 48.1875 33.59375 48.1875 \nQ 44.578125 48.1875 50.953125 41.515625 \nQ 57.328125 34.859375 57.328125 23.390625 \nQ 57.328125 12.15625 50.6875 5.359375 \nQ 44.046875 -1.421875 33.015625 -1.421875 \nQ 20.359375 -1.421875 13.671875 8.265625 \nQ 6.984375 17.96875 6.984375 36.375 \nQ 6.984375 53.65625 15.1875 63.9375 \nQ 23.390625 74.21875 37.203125 74.21875 \nQ 40.921875 74.21875 44.703125 73.484375 \nQ 48.484375 72.75 52.59375 71.296875 \nz\n\" id=\"DejaVuSans-54\"/>\n       </defs>\n       <use xlink:href=\"#DejaVuSans-8722\"/>\n       <use x=\"83.789062\" xlink:href=\"#DejaVuSans-54\"/>\n      </g>\n     </g>\n    </g>\n    <g id=\"ytick_3\">\n     <g id=\"line2d_17\">\n      <path clip-path=\"url(#p9e17a32b3f)\" d=\"M 42.620313 161.625918 \nL 377.420313 161.625918 \n\" style=\"fill:none;stroke:#b0b0b0;stroke-linecap:square;stroke-width:0.8;\"/>\n     </g>\n     <g id=\"line2d_18\">\n      <g>\n       <use style=\"stroke:#000000;stroke-width:0.8;\" x=\"42.620313\" xlink:href=\"#mf48878c517\" y=\"161.625918\"/>\n      </g>\n     </g>\n     <g id=\"text_10\">\n      <!-- −4 -->\n      <g transform=\"translate(20.878125 165.425137)scale(0.1 -0.1)\">\n       <defs>\n        <path d=\"M 37.796875 64.3125 \nL 12.890625 25.390625 \nL 37.796875 25.390625 \nz\nM 35.203125 72.90625 \nL 47.609375 72.90625 \nL 47.609375 25.390625 \nL 58.015625 25.390625 \nL 58.015625 17.1875 \nL 47.609375 17.1875 \nL 47.609375 0 \nL 37.796875 0 \nL 37.796875 17.1875 \nL 4.890625 17.1875 \nL 4.890625 26.703125 \nz\n\" id=\"DejaVuSans-52\"/>\n       </defs>\n       <use xlink:href=\"#DejaVuSans-8722\"/>\n       <use x=\"83.789062\" xlink:href=\"#DejaVuSans-52\"/>\n      </g>\n     </g>\n    </g>\n    <g id=\"ytick_4\">\n     <g id=\"line2d_19\">\n      <path clip-path=\"url(#p9e17a32b3f)\" d=\"M 42.620313 132.653102 \nL 377.420313 132.653102 \n\" style=\"fill:none;stroke:#b0b0b0;stroke-linecap:square;stroke-width:0.8;\"/>\n     </g>\n     <g id=\"line2d_20\">\n      <g>\n       <use style=\"stroke:#000000;stroke-width:0.8;\" x=\"42.620313\" xlink:href=\"#mf48878c517\" y=\"132.653102\"/>\n      </g>\n     </g>\n     <g id=\"text_11\">\n      <!-- −2 -->\n      <g transform=\"translate(20.878125 136.452321)scale(0.1 -0.1)\">\n       <use xlink:href=\"#DejaVuSans-8722\"/>\n       <use x=\"83.789062\" xlink:href=\"#DejaVuSans-50\"/>\n      </g>\n     </g>\n    </g>\n    <g id=\"ytick_5\">\n     <g id=\"line2d_21\">\n      <path clip-path=\"url(#p9e17a32b3f)\" d=\"M 42.620313 103.680285 \nL 377.420313 103.680285 \n\" style=\"fill:none;stroke:#b0b0b0;stroke-linecap:square;stroke-width:0.8;\"/>\n     </g>\n     <g id=\"line2d_22\">\n      <g>\n       <use style=\"stroke:#000000;stroke-width:0.8;\" x=\"42.620313\" xlink:href=\"#mf48878c517\" y=\"103.680285\"/>\n      </g>\n     </g>\n     <g id=\"text_12\">\n      <!-- 0 -->\n      <g transform=\"translate(29.257813 107.479504)scale(0.1 -0.1)\">\n       <use xlink:href=\"#DejaVuSans-48\"/>\n      </g>\n     </g>\n    </g>\n    <g id=\"ytick_6\">\n     <g id=\"line2d_23\">\n      <path clip-path=\"url(#p9e17a32b3f)\" d=\"M 42.620313 74.707468 \nL 377.420313 74.707468 \n\" style=\"fill:none;stroke:#b0b0b0;stroke-linecap:square;stroke-width:0.8;\"/>\n     </g>\n     <g id=\"line2d_24\">\n      <g>\n       <use style=\"stroke:#000000;stroke-width:0.8;\" x=\"42.620313\" xlink:href=\"#mf48878c517\" y=\"74.707468\"/>\n      </g>\n     </g>\n     <g id=\"text_13\">\n      <!-- 2 -->\n      <g transform=\"translate(29.257813 78.506687)scale(0.1 -0.1)\">\n       <use xlink:href=\"#DejaVuSans-50\"/>\n      </g>\n     </g>\n    </g>\n    <g id=\"ytick_7\">\n     <g id=\"line2d_25\">\n      <path clip-path=\"url(#p9e17a32b3f)\" d=\"M 42.620313 45.734652 \nL 377.420313 45.734652 \n\" style=\"fill:none;stroke:#b0b0b0;stroke-linecap:square;stroke-width:0.8;\"/>\n     </g>\n     <g id=\"line2d_26\">\n      <g>\n       <use style=\"stroke:#000000;stroke-width:0.8;\" x=\"42.620313\" xlink:href=\"#mf48878c517\" y=\"45.734652\"/>\n      </g>\n     </g>\n     <g id=\"text_14\">\n      <!-- 4 -->\n      <g transform=\"translate(29.257813 49.53387)scale(0.1 -0.1)\">\n       <use xlink:href=\"#DejaVuSans-52\"/>\n      </g>\n     </g>\n    </g>\n    <g id=\"ytick_8\">\n     <g id=\"line2d_27\">\n      <path clip-path=\"url(#p9e17a32b3f)\" d=\"M 42.620313 16.761835 \nL 377.420313 16.761835 \n\" style=\"fill:none;stroke:#b0b0b0;stroke-linecap:square;stroke-width:0.8;\"/>\n     </g>\n     <g id=\"line2d_28\">\n      <g>\n       <use style=\"stroke:#000000;stroke-width:0.8;\" x=\"42.620313\" xlink:href=\"#mf48878c517\" y=\"16.761835\"/>\n      </g>\n     </g>\n     <g id=\"text_15\">\n      <!-- 6 -->\n      <g transform=\"translate(29.257813 20.561054)scale(0.1 -0.1)\">\n       <use xlink:href=\"#DejaVuSans-54\"/>\n      </g>\n     </g>\n    </g>\n    <g id=\"text_16\">\n     <!-- $X_2$ -->\n     <g transform=\"translate(14.798438 121.72)rotate(-90)scale(0.1 -0.1)\">\n      <use transform=\"translate(0 0.09375)\" xlink:href=\"#DejaVuSans-Oblique-88\"/>\n      <use transform=\"translate(68.505859 -16.3125)scale(0.7)\" xlink:href=\"#DejaVuSans-50\"/>\n     </g>\n    </g>\n   </g>\n   <g id=\"patch_3\">\n    <path d=\"M 42.620313 224.64 \nL 42.620313 7.2 \n\" style=\"fill:none;stroke:#000000;stroke-linecap:square;stroke-linejoin:miter;stroke-width:0.8;\"/>\n   </g>\n   <g id=\"patch_4\">\n    <path d=\"M 377.420313 224.64 \nL 377.420313 7.2 \n\" style=\"fill:none;stroke:#000000;stroke-linecap:square;stroke-linejoin:miter;stroke-width:0.8;\"/>\n   </g>\n   <g id=\"patch_5\">\n    <path d=\"M 42.620312 224.64 \nL 377.420313 224.64 \n\" style=\"fill:none;stroke:#000000;stroke-linecap:square;stroke-linejoin:miter;stroke-width:0.8;\"/>\n   </g>\n   <g id=\"patch_6\">\n    <path d=\"M 42.620312 7.2 \nL 377.420313 7.2 \n\" style=\"fill:none;stroke:#000000;stroke-linecap:square;stroke-linejoin:miter;stroke-width:0.8;\"/>\n   </g>\n  </g>\n </g>\n <defs>\n  <clipPath id=\"p9e17a32b3f\">\n   <rect height=\"217.44\" width=\"334.8\" x=\"42.620313\" y=\"7.2\"/>\n  </clipPath>\n </defs>\n</svg>\n",
      "image/png": "[encoded data removed]"
     },
     "metadata": {
      "needs_background": "light"
     }
    }
   ],
   "source": [
    "plt.scatter(x[:,0],x[:,1])\n",
    "plt.grid()\n",
    "plt.xlabel('$X_1$')\n",
    "plt.ylabel('$X_2$')"
   ]
  },
  {
   "cell_type": "code",
   "execution_count": 210,
   "metadata": {},
   "outputs": [
    {
     "output_type": "execute_result",
     "data": {
      "text/plain": [
       "array([45, 94, 92,  1, 73, 43, 89, 36, 49,  4, 87, 27, 12, 80, 38, 35,  0,\n",
       "       77, 63, 74])"
      ]
     },
     "metadata": {},
     "execution_count": 210
    }
   ],
   "source": [
    "indices = np.random.choice(x.shape[0],20,replace = False)\n",
    "indices"
   ]
  },
  {
   "cell_type": "code",
   "execution_count": 211,
   "metadata": {},
   "outputs": [
    {
     "output_type": "execute_result",
     "data": {
      "text/plain": [
       "(20, 2)"
      ]
     },
     "metadata": {},
     "execution_count": 211
    }
   ],
   "source": [
    "selection = x[indices]\n",
    "selection.shape"
   ]
  },
  {
   "cell_type": "code",
   "execution_count": 219,
   "metadata": {},
   "outputs": [
    {
     "output_type": "execute_result",
     "data": {
      "text/plain": [
       "Text(0, 0.5, '$X_2$')"
      ]
     },
     "metadata": {},
     "execution_count": 219
    },
    {
     "output_type": "display_data",
     "data": {
      "text/plain": "<Figure size 432x288 with 1 Axes>",
      "image/svg+xml": "<?xml version=\"1.0\" encoding=\"utf-8\" standalone=\"no\"?>\n<!DOCTYPE svg PUBLIC \"-//W3C//DTD SVG 1.1//EN\"\n  \"http://www.w3.org/Graphics/SVG/1.1/DTD/svg11.dtd\">\n<!-- Created with matplotlib (https://matplotlib.org/) -->\n<svg height=\"262.19625pt\" version=\"1.1\" viewBox=\"0 0 384.620312 262.19625\" width=\"384.620312pt\" xmlns=\"http://www.w3.org/2000/svg\" xmlns:xlink=\"http://www.w3.org/1999/xlink\">\n <metadata>\n  <rdf:RDF xmlns:cc=\"http://creativecommons.org/ns#\" xmlns:dc=\"http://purl.org/dc/elements/1.1/\" xmlns:rdf=\"http://www.w3.org/1999/02/22-rdf-syntax-ns#\">\n   <cc:Work>\n    <dc:type rdf:resource=\"http://purl.org/dc/dcmitype/StillImage\"/>\n    <dc:date>2021-06-29T19:44:24.194898</dc:date>\n    <dc:format>image/svg+xml</dc:format>\n    <dc:creator>\n     <cc:Agent>\n      <dc:title>Matplotlib v3.3.2, https://matplotlib.org/</dc:title>\n     </cc:Agent>\n    </dc:creator>\n   </cc:Work>\n  </rdf:RDF>\n </metadata>\n <defs>\n  <style type=\"text/css\">*{stroke-linecap:butt;stroke-linejoin:round;}</style>\n </defs>\n <g id=\"figure_1\">\n  <g id=\"patch_1\">\n   <path d=\"M 0 262.19625 \nL 384.620312 262.19625 \nL 384.620312 0 \nL 0 0 \nz\n\" style=\"fill:none;\"/>\n  </g>\n  <g id=\"axes_1\">\n   <g id=\"patch_2\">\n    <path d=\"M 42.620313 224.64 \nL 377.420313 224.64 \nL 377.420313 7.2 \nL 42.620313 7.2 \nz\n\" style=\"fill:#ffffff;\"/>\n   </g>\n   <g id=\"PathCollection_1\">\n    <defs>\n     <path d=\"M 0 3 \nC 0.795609 3 1.55874 2.683901 2.12132 2.12132 \nC 2.683901 1.55874 3 0.795609 3 0 \nC 3 -0.795609 2.683901 -1.55874 2.12132 -2.12132 \nC 1.55874 -2.683901 0.795609 -3 0 -3 \nC -0.795609 -3 -1.55874 -2.683901 -2.12132 -2.12132 \nC -2.683901 -1.55874 -3 -0.795609 -3 0 \nC -3 0.795609 -2.683901 1.55874 -2.12132 2.12132 \nC -1.55874 2.683901 -0.795609 3 0 3 \nz\n\" id=\"mecf193aa42\" style=\"stroke:#1f77b4;stroke-opacity:0.3;\"/>\n    </defs>\n    <g clip-path=\"url(#pe79ae97f77)\">\n     <use style=\"fill:#1f77b4;fill-opacity:0.3;stroke:#1f77b4;stroke-opacity:0.3;\" x=\"193.327226\" xlink:href=\"#mecf193aa42\" y=\"110.375991\"/>\n     <use style=\"fill:#1f77b4;fill-opacity:0.3;stroke:#1f77b4;stroke-opacity:0.3;\" x=\"272.039537\" xlink:href=\"#mecf193aa42\" y=\"86.11741\"/>\n     <use style=\"fill:#1f77b4;fill-opacity:0.3;stroke:#1f77b4;stroke-opacity:0.3;\" x=\"280.233564\" xlink:href=\"#mecf193aa42\" y=\"87.340315\"/>\n     <use style=\"fill:#1f77b4;fill-opacity:0.3;stroke:#1f77b4;stroke-opacity:0.3;\" x=\"346.777427\" xlink:href=\"#mecf193aa42\" y=\"17.083636\"/>\n     <use style=\"fill:#1f77b4;fill-opacity:0.3;stroke:#1f77b4;stroke-opacity:0.3;\" x=\"220.285575\" xlink:href=\"#mecf193aa42\" y=\"133.559769\"/>\n     <use style=\"fill:#1f77b4;fill-opacity:0.3;stroke:#1f77b4;stroke-opacity:0.3;\" x=\"268.732744\" xlink:href=\"#mecf193aa42\" y=\"91.554419\"/>\n     <use style=\"fill:#1f77b4;fill-opacity:0.3;stroke:#1f77b4;stroke-opacity:0.3;\" x=\"313.667721\" xlink:href=\"#mecf193aa42\" y=\"85.867639\"/>\n     <use style=\"fill:#1f77b4;fill-opacity:0.3;stroke:#1f77b4;stroke-opacity:0.3;\" x=\"250.124594\" xlink:href=\"#mecf193aa42\" y=\"81.968723\"/>\n     <use style=\"fill:#1f77b4;fill-opacity:0.3;stroke:#1f77b4;stroke-opacity:0.3;\" x=\"86.773812\" xlink:href=\"#mecf193aa42\" y=\"185.474892\"/>\n     <use style=\"fill:#1f77b4;fill-opacity:0.3;stroke:#1f77b4;stroke-opacity:0.3;\" x=\"234.834323\" xlink:href=\"#mecf193aa42\" y=\"108.812905\"/>\n     <use style=\"fill:#1f77b4;fill-opacity:0.3;stroke:#1f77b4;stroke-opacity:0.3;\" x=\"240.965492\" xlink:href=\"#mecf193aa42\" y=\"82.109836\"/>\n     <use style=\"fill:#1f77b4;fill-opacity:0.3;stroke:#1f77b4;stroke-opacity:0.3;\" x=\"228.570163\" xlink:href=\"#mecf193aa42\" y=\"114.543337\"/>\n     <use style=\"fill:#1f77b4;fill-opacity:0.3;stroke:#1f77b4;stroke-opacity:0.3;\" x=\"287.305243\" xlink:href=\"#mecf193aa42\" y=\"71.044245\"/>\n     <use style=\"fill:#1f77b4;fill-opacity:0.3;stroke:#1f77b4;stroke-opacity:0.3;\" x=\"258.229716\" xlink:href=\"#mecf193aa42\" y=\"86.450198\"/>\n     <use style=\"fill:#1f77b4;fill-opacity:0.3;stroke:#1f77b4;stroke-opacity:0.3;\" x=\"233.618697\" xlink:href=\"#mecf193aa42\" y=\"95.372435\"/>\n     <use style=\"fill:#1f77b4;fill-opacity:0.3;stroke:#1f77b4;stroke-opacity:0.3;\" x=\"272.796687\" xlink:href=\"#mecf193aa42\" y=\"60.295375\"/>\n     <use style=\"fill:#1f77b4;fill-opacity:0.3;stroke:#1f77b4;stroke-opacity:0.3;\" x=\"57.838494\" xlink:href=\"#mecf193aa42\" y=\"190.709708\"/>\n     <use style=\"fill:#1f77b4;fill-opacity:0.3;stroke:#1f77b4;stroke-opacity:0.3;\" x=\"199.311316\" xlink:href=\"#mecf193aa42\" y=\"108.71996\"/>\n     <use style=\"fill:#1f77b4;fill-opacity:0.3;stroke:#1f77b4;stroke-opacity:0.3;\" x=\"317.629777\" xlink:href=\"#mecf193aa42\" y=\"74.711312\"/>\n     <use style=\"fill:#1f77b4;fill-opacity:0.3;stroke:#1f77b4;stroke-opacity:0.3;\" x=\"201.051847\" xlink:href=\"#mecf193aa42\" y=\"129.915121\"/>\n     <use style=\"fill:#1f77b4;fill-opacity:0.3;stroke:#1f77b4;stroke-opacity:0.3;\" x=\"320.077594\" xlink:href=\"#mecf193aa42\" y=\"62.189717\"/>\n     <use style=\"fill:#1f77b4;fill-opacity:0.3;stroke:#1f77b4;stroke-opacity:0.3;\" x=\"286.585297\" xlink:href=\"#mecf193aa42\" y=\"66.842209\"/>\n     <use style=\"fill:#1f77b4;fill-opacity:0.3;stroke:#1f77b4;stroke-opacity:0.3;\" x=\"180.056295\" xlink:href=\"#mecf193aa42\" y=\"120.450795\"/>\n     <use style=\"fill:#1f77b4;fill-opacity:0.3;stroke:#1f77b4;stroke-opacity:0.3;\" x=\"166.522682\" xlink:href=\"#mecf193aa42\" y=\"130.843461\"/>\n     <use style=\"fill:#1f77b4;fill-opacity:0.3;stroke:#1f77b4;stroke-opacity:0.3;\" x=\"254.519354\" xlink:href=\"#mecf193aa42\" y=\"98.418205\"/>\n     <use style=\"fill:#1f77b4;fill-opacity:0.3;stroke:#1f77b4;stroke-opacity:0.3;\" x=\"285.41697\" xlink:href=\"#mecf193aa42\" y=\"52.425096\"/>\n     <use style=\"fill:#1f77b4;fill-opacity:0.3;stroke:#1f77b4;stroke-opacity:0.3;\" x=\"248.326622\" xlink:href=\"#mecf193aa42\" y=\"98.879919\"/>\n     <use style=\"fill:#1f77b4;fill-opacity:0.3;stroke:#1f77b4;stroke-opacity:0.3;\" x=\"187.536691\" xlink:href=\"#mecf193aa42\" y=\"143.860755\"/>\n     <use style=\"fill:#1f77b4;fill-opacity:0.3;stroke:#1f77b4;stroke-opacity:0.3;\" x=\"179.64617\" xlink:href=\"#mecf193aa42\" y=\"129.972456\"/>\n     <use style=\"fill:#1f77b4;fill-opacity:0.3;stroke:#1f77b4;stroke-opacity:0.3;\" x=\"286.288487\" xlink:href=\"#mecf193aa42\" y=\"70.320926\"/>\n     <use style=\"fill:#1f77b4;fill-opacity:0.3;stroke:#1f77b4;stroke-opacity:0.3;\" x=\"161.500775\" xlink:href=\"#mecf193aa42\" y=\"133.290899\"/>\n     <use style=\"fill:#1f77b4;fill-opacity:0.3;stroke:#1f77b4;stroke-opacity:0.3;\" x=\"143.979979\" xlink:href=\"#mecf193aa42\" y=\"151.222853\"/>\n     <use style=\"fill:#1f77b4;fill-opacity:0.3;stroke:#1f77b4;stroke-opacity:0.3;\" x=\"72.658767\" xlink:href=\"#mecf193aa42\" y=\"214.756364\"/>\n     <use style=\"fill:#1f77b4;fill-opacity:0.3;stroke:#1f77b4;stroke-opacity:0.3;\" x=\"252.332195\" xlink:href=\"#mecf193aa42\" y=\"90.939601\"/>\n     <use style=\"fill:#1f77b4;fill-opacity:0.3;stroke:#1f77b4;stroke-opacity:0.3;\" x=\"281.958712\" xlink:href=\"#mecf193aa42\" y=\"55.445044\"/>\n     <use style=\"fill:#1f77b4;fill-opacity:0.3;stroke:#1f77b4;stroke-opacity:0.3;\" x=\"182.078666\" xlink:href=\"#mecf193aa42\" y=\"132.830784\"/>\n     <use style=\"fill:#1f77b4;fill-opacity:0.3;stroke:#1f77b4;stroke-opacity:0.3;\" x=\"290.732262\" xlink:href=\"#mecf193aa42\" y=\"89.845762\"/>\n     <use style=\"fill:#1f77b4;fill-opacity:0.3;stroke:#1f77b4;stroke-opacity:0.3;\" x=\"255.349839\" xlink:href=\"#mecf193aa42\" y=\"76.470711\"/>\n     <use style=\"fill:#1f77b4;fill-opacity:0.3;stroke:#1f77b4;stroke-opacity:0.3;\" x=\"250.497379\" xlink:href=\"#mecf193aa42\" y=\"97.805326\"/>\n     <use style=\"fill:#1f77b4;fill-opacity:0.3;stroke:#1f77b4;stroke-opacity:0.3;\" x=\"178.407111\" xlink:href=\"#mecf193aa42\" y=\"117.223113\"/>\n     <use style=\"fill:#1f77b4;fill-opacity:0.3;stroke:#1f77b4;stroke-opacity:0.3;\" x=\"209.649176\" xlink:href=\"#mecf193aa42\" y=\"111.265805\"/>\n     <use style=\"fill:#1f77b4;fill-opacity:0.3;stroke:#1f77b4;stroke-opacity:0.3;\" x=\"154.025908\" xlink:href=\"#mecf193aa42\" y=\"147.603541\"/>\n     <use style=\"fill:#1f77b4;fill-opacity:0.3;stroke:#1f77b4;stroke-opacity:0.3;\" x=\"231.634816\" xlink:href=\"#mecf193aa42\" y=\"92.141148\"/>\n     <use style=\"fill:#1f77b4;fill-opacity:0.3;stroke:#1f77b4;stroke-opacity:0.3;\" x=\"251.550316\" xlink:href=\"#mecf193aa42\" y=\"96.232912\"/>\n     <use style=\"fill:#1f77b4;fill-opacity:0.3;stroke:#1f77b4;stroke-opacity:0.3;\" x=\"169.37753\" xlink:href=\"#mecf193aa42\" y=\"145.506425\"/>\n     <use style=\"fill:#1f77b4;fill-opacity:0.3;stroke:#1f77b4;stroke-opacity:0.3;\" x=\"362.202131\" xlink:href=\"#mecf193aa42\" y=\"17.095218\"/>\n     <use style=\"fill:#1f77b4;fill-opacity:0.3;stroke:#1f77b4;stroke-opacity:0.3;\" x=\"257.142825\" xlink:href=\"#mecf193aa42\" y=\"91.564652\"/>\n     <use style=\"fill:#1f77b4;fill-opacity:0.3;stroke:#1f77b4;stroke-opacity:0.3;\" x=\"209.819685\" xlink:href=\"#mecf193aa42\" y=\"118.696479\"/>\n     <use style=\"fill:#1f77b4;fill-opacity:0.3;stroke:#1f77b4;stroke-opacity:0.3;\" x=\"262.796277\" xlink:href=\"#mecf193aa42\" y=\"115.268995\"/>\n     <use style=\"fill:#1f77b4;fill-opacity:0.3;stroke:#1f77b4;stroke-opacity:0.3;\" x=\"249.052681\" xlink:href=\"#mecf193aa42\" y=\"69.9852\"/>\n     <use style=\"fill:#1f77b4;fill-opacity:0.3;stroke:#1f77b4;stroke-opacity:0.3;\" x=\"267.479366\" xlink:href=\"#mecf193aa42\" y=\"106.923722\"/>\n     <use style=\"fill:#1f77b4;fill-opacity:0.3;stroke:#1f77b4;stroke-opacity:0.3;\" x=\"308.094315\" xlink:href=\"#mecf193aa42\" y=\"71.304856\"/>\n     <use style=\"fill:#1f77b4;fill-opacity:0.3;stroke:#1f77b4;stroke-opacity:0.3;\" x=\"234.074764\" xlink:href=\"#mecf193aa42\" y=\"107.980643\"/>\n     <use style=\"fill:#1f77b4;fill-opacity:0.3;stroke:#1f77b4;stroke-opacity:0.3;\" x=\"264.628311\" xlink:href=\"#mecf193aa42\" y=\"82.372338\"/>\n     <use style=\"fill:#1f77b4;fill-opacity:0.3;stroke:#1f77b4;stroke-opacity:0.3;\" x=\"210.540015\" xlink:href=\"#mecf193aa42\" y=\"119.711848\"/>\n     <use style=\"fill:#1f77b4;fill-opacity:0.3;stroke:#1f77b4;stroke-opacity:0.3;\" x=\"269.455584\" xlink:href=\"#mecf193aa42\" y=\"86.078676\"/>\n     <use style=\"fill:#1f77b4;fill-opacity:0.3;stroke:#1f77b4;stroke-opacity:0.3;\" x=\"212.31296\" xlink:href=\"#mecf193aa42\" y=\"114.677221\"/>\n     <use style=\"fill:#1f77b4;fill-opacity:0.3;stroke:#1f77b4;stroke-opacity:0.3;\" x=\"214.718852\" xlink:href=\"#mecf193aa42\" y=\"131.112735\"/>\n     <use style=\"fill:#1f77b4;fill-opacity:0.3;stroke:#1f77b4;stroke-opacity:0.3;\" x=\"253.975952\" xlink:href=\"#mecf193aa42\" y=\"76.852975\"/>\n     <use style=\"fill:#1f77b4;fill-opacity:0.3;stroke:#1f77b4;stroke-opacity:0.3;\" x=\"242.056628\" xlink:href=\"#mecf193aa42\" y=\"74.594258\"/>\n     <use style=\"fill:#1f77b4;fill-opacity:0.3;stroke:#1f77b4;stroke-opacity:0.3;\" x=\"125.753705\" xlink:href=\"#mecf193aa42\" y=\"145.886847\"/>\n     <use style=\"fill:#1f77b4;fill-opacity:0.3;stroke:#1f77b4;stroke-opacity:0.3;\" x=\"274.690216\" xlink:href=\"#mecf193aa42\" y=\"75.049239\"/>\n     <use style=\"fill:#1f77b4;fill-opacity:0.3;stroke:#1f77b4;stroke-opacity:0.3;\" x=\"235.874234\" xlink:href=\"#mecf193aa42\" y=\"85.617099\"/>\n     <use style=\"fill:#1f77b4;fill-opacity:0.3;stroke:#1f77b4;stroke-opacity:0.3;\" x=\"121.200871\" xlink:href=\"#mecf193aa42\" y=\"156.816565\"/>\n     <use style=\"fill:#1f77b4;fill-opacity:0.3;stroke:#1f77b4;stroke-opacity:0.3;\" x=\"237.516908\" xlink:href=\"#mecf193aa42\" y=\"104.815129\"/>\n     <use style=\"fill:#1f77b4;fill-opacity:0.3;stroke:#1f77b4;stroke-opacity:0.3;\" x=\"222.531109\" xlink:href=\"#mecf193aa42\" y=\"127.461051\"/>\n     <use style=\"fill:#1f77b4;fill-opacity:0.3;stroke:#1f77b4;stroke-opacity:0.3;\" x=\"221.747011\" xlink:href=\"#mecf193aa42\" y=\"123.110278\"/>\n     <use style=\"fill:#1f77b4;fill-opacity:0.3;stroke:#1f77b4;stroke-opacity:0.3;\" x=\"200.889219\" xlink:href=\"#mecf193aa42\" y=\"124.100438\"/>\n     <use style=\"fill:#1f77b4;fill-opacity:0.3;stroke:#1f77b4;stroke-opacity:0.3;\" x=\"269.758441\" xlink:href=\"#mecf193aa42\" y=\"93.168419\"/>\n     <use style=\"fill:#1f77b4;fill-opacity:0.3;stroke:#1f77b4;stroke-opacity:0.3;\" x=\"236.681646\" xlink:href=\"#mecf193aa42\" y=\"90.87645\"/>\n     <use style=\"fill:#1f77b4;fill-opacity:0.3;stroke:#1f77b4;stroke-opacity:0.3;\" x=\"163.636257\" xlink:href=\"#mecf193aa42\" y=\"136.199699\"/>\n     <use style=\"fill:#1f77b4;fill-opacity:0.3;stroke:#1f77b4;stroke-opacity:0.3;\" x=\"102.933946\" xlink:href=\"#mecf193aa42\" y=\"141.918333\"/>\n     <use style=\"fill:#1f77b4;fill-opacity:0.3;stroke:#1f77b4;stroke-opacity:0.3;\" x=\"251.591101\" xlink:href=\"#mecf193aa42\" y=\"93.668352\"/>\n     <use style=\"fill:#1f77b4;fill-opacity:0.3;stroke:#1f77b4;stroke-opacity:0.3;\" x=\"279.848335\" xlink:href=\"#mecf193aa42\" y=\"54.416718\"/>\n     <use style=\"fill:#1f77b4;fill-opacity:0.3;stroke:#1f77b4;stroke-opacity:0.3;\" x=\"180.562821\" xlink:href=\"#mecf193aa42\" y=\"147.656436\"/>\n     <use style=\"fill:#1f77b4;fill-opacity:0.3;stroke:#1f77b4;stroke-opacity:0.3;\" x=\"171.010408\" xlink:href=\"#mecf193aa42\" y=\"120.842206\"/>\n     <use style=\"fill:#1f77b4;fill-opacity:0.3;stroke:#1f77b4;stroke-opacity:0.3;\" x=\"199.657638\" xlink:href=\"#mecf193aa42\" y=\"109.046038\"/>\n     <use style=\"fill:#1f77b4;fill-opacity:0.3;stroke:#1f77b4;stroke-opacity:0.3;\" x=\"247.352536\" xlink:href=\"#mecf193aa42\" y=\"112.123571\"/>\n     <use style=\"fill:#1f77b4;fill-opacity:0.3;stroke:#1f77b4;stroke-opacity:0.3;\" x=\"145.941939\" xlink:href=\"#mecf193aa42\" y=\"134.543042\"/>\n     <use style=\"fill:#1f77b4;fill-opacity:0.3;stroke:#1f77b4;stroke-opacity:0.3;\" x=\"212.188192\" xlink:href=\"#mecf193aa42\" y=\"129.604615\"/>\n     <use style=\"fill:#1f77b4;fill-opacity:0.3;stroke:#1f77b4;stroke-opacity:0.3;\" x=\"294.19061\" xlink:href=\"#mecf193aa42\" y=\"82.004629\"/>\n     <use style=\"fill:#1f77b4;fill-opacity:0.3;stroke:#1f77b4;stroke-opacity:0.3;\" x=\"161.876887\" xlink:href=\"#mecf193aa42\" y=\"125.646525\"/>\n     <use style=\"fill:#1f77b4;fill-opacity:0.3;stroke:#1f77b4;stroke-opacity:0.3;\" x=\"187.199832\" xlink:href=\"#mecf193aa42\" y=\"115.236171\"/>\n     <use style=\"fill:#1f77b4;fill-opacity:0.3;stroke:#1f77b4;stroke-opacity:0.3;\" x=\"272.503204\" xlink:href=\"#mecf193aa42\" y=\"75.310907\"/>\n     <use style=\"fill:#1f77b4;fill-opacity:0.3;stroke:#1f77b4;stroke-opacity:0.3;\" x=\"318.926504\" xlink:href=\"#mecf193aa42\" y=\"61.190467\"/>\n     <use style=\"fill:#1f77b4;fill-opacity:0.3;stroke:#1f77b4;stroke-opacity:0.3;\" x=\"189.022322\" xlink:href=\"#mecf193aa42\" y=\"132.621371\"/>\n     <use style=\"fill:#1f77b4;fill-opacity:0.3;stroke:#1f77b4;stroke-opacity:0.3;\" x=\"154.676559\" xlink:href=\"#mecf193aa42\" y=\"141.521441\"/>\n     <use style=\"fill:#1f77b4;fill-opacity:0.3;stroke:#1f77b4;stroke-opacity:0.3;\" x=\"84.118026\" xlink:href=\"#mecf193aa42\" y=\"191.817164\"/>\n     <use style=\"fill:#1f77b4;fill-opacity:0.3;stroke:#1f77b4;stroke-opacity:0.3;\" x=\"304.781364\" xlink:href=\"#mecf193aa42\" y=\"58.317072\"/>\n     <use style=\"fill:#1f77b4;fill-opacity:0.3;stroke:#1f77b4;stroke-opacity:0.3;\" x=\"259.403854\" xlink:href=\"#mecf193aa42\" y=\"70.320312\"/>\n     <use style=\"fill:#1f77b4;fill-opacity:0.3;stroke:#1f77b4;stroke-opacity:0.3;\" x=\"230.814501\" xlink:href=\"#mecf193aa42\" y=\"105.351922\"/>\n     <use style=\"fill:#1f77b4;fill-opacity:0.3;stroke:#1f77b4;stroke-opacity:0.3;\" x=\"220.428063\" xlink:href=\"#mecf193aa42\" y=\"97.969402\"/>\n     <use style=\"fill:#1f77b4;fill-opacity:0.3;stroke:#1f77b4;stroke-opacity:0.3;\" x=\"236.902933\" xlink:href=\"#mecf193aa42\" y=\"87.276409\"/>\n     <use style=\"fill:#1f77b4;fill-opacity:0.3;stroke:#1f77b4;stroke-opacity:0.3;\" x=\"182.475971\" xlink:href=\"#mecf193aa42\" y=\"138.249493\"/>\n     <use style=\"fill:#1f77b4;fill-opacity:0.3;stroke:#1f77b4;stroke-opacity:0.3;\" x=\"289.934405\" xlink:href=\"#mecf193aa42\" y=\"74.936611\"/>\n     <use style=\"fill:#1f77b4;fill-opacity:0.3;stroke:#1f77b4;stroke-opacity:0.3;\" x=\"190.654159\" xlink:href=\"#mecf193aa42\" y=\"126.412339\"/>\n     <use style=\"fill:#1f77b4;fill-opacity:0.3;stroke:#1f77b4;stroke-opacity:0.3;\" x=\"158.459787\" xlink:href=\"#mecf193aa42\" y=\"119.990503\"/>\n     <use style=\"fill:#1f77b4;fill-opacity:0.3;stroke:#1f77b4;stroke-opacity:0.3;\" x=\"235.509768\" xlink:href=\"#mecf193aa42\" y=\"113.000199\"/>\n     <use style=\"fill:#1f77b4;fill-opacity:0.3;stroke:#1f77b4;stroke-opacity:0.3;\" x=\"173.276523\" xlink:href=\"#mecf193aa42\" y=\"137.728864\"/>\n     <use style=\"fill:#1f77b4;fill-opacity:0.3;stroke:#1f77b4;stroke-opacity:0.3;\" x=\"160.891968\" xlink:href=\"#mecf193aa42\" y=\"129.421724\"/>\n    </g>\n   </g>\n   <g id=\"PathCollection_2\">\n    <defs>\n     <path d=\"M 0 8.660254 \nC 2.296726 8.660254 4.499694 7.747755 6.123724 6.123724 \nC 7.747755 4.499694 8.660254 2.296726 8.660254 -0 \nC 8.660254 -2.296726 7.747755 -4.499694 6.123724 -6.123724 \nC 4.499694 -7.747755 2.296726 -8.660254 0 -8.660254 \nC -2.296726 -8.660254 -4.499694 -7.747755 -6.123724 -6.123724 \nC -7.747755 -4.499694 -8.660254 -2.296726 -8.660254 0 \nC -8.660254 2.296726 -7.747755 4.499694 -6.123724 6.123724 \nC -4.499694 7.747755 -2.296726 8.660254 0 8.660254 \nz\n\" id=\"C0_0_db90d4409b\"/>\n    </defs>\n    <g clip-path=\"url(#pe79ae97f77)\">\n     <use style=\"fill:none;stroke:#000000;\" x=\"362.202131\" xlink:href=\"#C0_0_db90d4409b\" y=\"17.095218\"/>\n    </g>\n    <g clip-path=\"url(#pe79ae97f77)\">\n     <use style=\"fill:none;stroke:#000000;\" x=\"289.934405\" xlink:href=\"#C0_0_db90d4409b\" y=\"74.936611\"/>\n    </g>\n    <g clip-path=\"url(#pe79ae97f77)\">\n     <use style=\"fill:none;stroke:#000000;\" x=\"236.902933\" xlink:href=\"#C0_0_db90d4409b\" y=\"87.276409\"/>\n    </g>\n    <g clip-path=\"url(#pe79ae97f77)\">\n     <use style=\"fill:none;stroke:#000000;\" x=\"272.039537\" xlink:href=\"#C0_0_db90d4409b\" y=\"86.11741\"/>\n    </g>\n    <g clip-path=\"url(#pe79ae97f77)\">\n     <use style=\"fill:none;stroke:#000000;\" x=\"279.848335\" xlink:href=\"#C0_0_db90d4409b\" y=\"54.416718\"/>\n    </g>\n    <g clip-path=\"url(#pe79ae97f77)\">\n     <use style=\"fill:none;stroke:#000000;\" x=\"251.550316\" xlink:href=\"#C0_0_db90d4409b\" y=\"96.232912\"/>\n    </g>\n    <g clip-path=\"url(#pe79ae97f77)\">\n     <use style=\"fill:none;stroke:#000000;\" x=\"259.403854\" xlink:href=\"#C0_0_db90d4409b\" y=\"70.320312\"/>\n    </g>\n    <g clip-path=\"url(#pe79ae97f77)\">\n     <use style=\"fill:none;stroke:#000000;\" x=\"290.732262\" xlink:href=\"#C0_0_db90d4409b\" y=\"89.845762\"/>\n    </g>\n    <g clip-path=\"url(#pe79ae97f77)\">\n     <use style=\"fill:none;stroke:#000000;\" x=\"249.052681\" xlink:href=\"#C0_0_db90d4409b\" y=\"69.9852\"/>\n    </g>\n    <g clip-path=\"url(#pe79ae97f77)\">\n     <use style=\"fill:none;stroke:#000000;\" x=\"220.285575\" xlink:href=\"#C0_0_db90d4409b\" y=\"133.559769\"/>\n    </g>\n    <g clip-path=\"url(#pe79ae97f77)\">\n     <use style=\"fill:none;stroke:#000000;\" x=\"84.118026\" xlink:href=\"#C0_0_db90d4409b\" y=\"191.817164\"/>\n    </g>\n    <g clip-path=\"url(#pe79ae97f77)\">\n     <use style=\"fill:none;stroke:#000000;\" x=\"187.536691\" xlink:href=\"#C0_0_db90d4409b\" y=\"143.860755\"/>\n    </g>\n    <g clip-path=\"url(#pe79ae97f77)\">\n     <use style=\"fill:none;stroke:#000000;\" x=\"287.305243\" xlink:href=\"#C0_0_db90d4409b\" y=\"71.044245\"/>\n    </g>\n    <g clip-path=\"url(#pe79ae97f77)\">\n     <use style=\"fill:none;stroke:#000000;\" x=\"294.19061\" xlink:href=\"#C0_0_db90d4409b\" y=\"82.004629\"/>\n    </g>\n    <g clip-path=\"url(#pe79ae97f77)\">\n     <use style=\"fill:none;stroke:#000000;\" x=\"250.497379\" xlink:href=\"#C0_0_db90d4409b\" y=\"97.805326\"/>\n    </g>\n    <g clip-path=\"url(#pe79ae97f77)\">\n     <use style=\"fill:none;stroke:#000000;\" x=\"182.078666\" xlink:href=\"#C0_0_db90d4409b\" y=\"132.830784\"/>\n    </g>\n    <g clip-path=\"url(#pe79ae97f77)\">\n     <use style=\"fill:none;stroke:#000000;\" x=\"193.327226\" xlink:href=\"#C0_0_db90d4409b\" y=\"110.375991\"/>\n    </g>\n    <g clip-path=\"url(#pe79ae97f77)\">\n     <use style=\"fill:none;stroke:#000000;\" x=\"247.352536\" xlink:href=\"#C0_0_db90d4409b\" y=\"112.123571\"/>\n    </g>\n    <g clip-path=\"url(#pe79ae97f77)\">\n     <use style=\"fill:none;stroke:#000000;\" x=\"121.200871\" xlink:href=\"#C0_0_db90d4409b\" y=\"156.816565\"/>\n    </g>\n    <g clip-path=\"url(#pe79ae97f77)\">\n     <use style=\"fill:none;stroke:#000000;\" x=\"180.562821\" xlink:href=\"#C0_0_db90d4409b\" y=\"147.656436\"/>\n    </g>\n   </g>\n   <g id=\"matplotlib.axis_1\">\n    <g id=\"xtick_1\">\n     <g id=\"line2d_1\">\n      <path clip-path=\"url(#pe79ae97f77)\" d=\"M 59.183225 224.64 \nL 59.183225 7.2 \n\" style=\"fill:none;stroke:#b0b0b0;stroke-linecap:square;stroke-width:0.8;\"/>\n     </g>\n     <g id=\"line2d_2\">\n      <defs>\n       <path d=\"M 0 0 \nL 0 3.5 \n\" id=\"m9bdf66ca17\" style=\"stroke:#000000;stroke-width:0.8;\"/>\n      </defs>\n      <g>\n       <use style=\"stroke:#000000;stroke-width:0.8;\" x=\"59.183225\" xlink:href=\"#m9bdf66ca17\" y=\"224.64\"/>\n      </g>\n     </g>\n     <g id=\"text_1\">\n      <!-- −3 -->\n      <g transform=\"translate(51.812131 239.238437)scale(0.1 -0.1)\">\n       <defs>\n        <path d=\"M 10.59375 35.5 \nL 73.1875 35.5 \nL 73.1875 27.203125 \nL 10.59375 27.203125 \nz\n\" id=\"DejaVuSans-8722\"/>\n        <path d=\"M 40.578125 39.3125 \nQ 47.65625 37.796875 51.625 33 \nQ 55.609375 28.21875 55.609375 21.1875 \nQ 55.609375 10.40625 48.1875 4.484375 \nQ 40.765625 -1.421875 27.09375 -1.421875 \nQ 22.515625 -1.421875 17.65625 -0.515625 \nQ 12.796875 0.390625 7.625 2.203125 \nL 7.625 11.71875 \nQ 11.71875 9.328125 16.59375 8.109375 \nQ 21.484375 6.890625 26.8125 6.890625 \nQ 36.078125 6.890625 40.9375 10.546875 \nQ 45.796875 14.203125 45.796875 21.1875 \nQ 45.796875 27.640625 41.28125 31.265625 \nQ 36.765625 34.90625 28.71875 34.90625 \nL 20.21875 34.90625 \nL 20.21875 43.015625 \nL 29.109375 43.015625 \nQ 36.375 43.015625 40.234375 45.921875 \nQ 44.09375 48.828125 44.09375 54.296875 \nQ 44.09375 59.90625 40.109375 62.90625 \nQ 36.140625 65.921875 28.71875 65.921875 \nQ 24.65625 65.921875 20.015625 65.03125 \nQ 15.375 64.15625 9.8125 62.3125 \nL 9.8125 71.09375 \nQ 15.4375 72.65625 20.34375 73.4375 \nQ 25.25 74.21875 29.59375 74.21875 \nQ 40.828125 74.21875 47.359375 69.109375 \nQ 53.90625 64.015625 53.90625 55.328125 \nQ 53.90625 49.265625 50.4375 45.09375 \nQ 46.96875 40.921875 40.578125 39.3125 \nz\n\" id=\"DejaVuSans-51\"/>\n       </defs>\n       <use xlink:href=\"#DejaVuSans-8722\"/>\n       <use x=\"83.789062\" xlink:href=\"#DejaVuSans-51\"/>\n      </g>\n     </g>\n    </g>\n    <g id=\"xtick_2\">\n     <g id=\"line2d_3\">\n      <path clip-path=\"url(#pe79ae97f77)\" d=\"M 116.132687 224.64 \nL 116.132687 7.2 \n\" style=\"fill:none;stroke:#b0b0b0;stroke-linecap:square;stroke-width:0.8;\"/>\n     </g>\n     <g id=\"line2d_4\">\n      <g>\n       <use style=\"stroke:#000000;stroke-width:0.8;\" x=\"116.132687\" xlink:href=\"#m9bdf66ca17\" y=\"224.64\"/>\n      </g>\n     </g>\n     <g id=\"text_2\">\n      <!-- −2 -->\n      <g transform=\"translate(108.761593 239.238437)scale(0.1 -0.1)\">\n       <defs>\n        <path d=\"M 19.1875 8.296875 \nL 53.609375 8.296875 \nL 53.609375 0 \nL 7.328125 0 \nL 7.328125 8.296875 \nQ 12.9375 14.109375 22.625 23.890625 \nQ 32.328125 33.6875 34.8125 36.53125 \nQ 39.546875 41.84375 41.421875 45.53125 \nQ 43.3125 49.21875 43.3125 52.78125 \nQ 43.3125 58.59375 39.234375 62.25 \nQ 35.15625 65.921875 28.609375 65.921875 \nQ 23.96875 65.921875 18.8125 64.3125 \nQ 13.671875 62.703125 7.8125 59.421875 \nL 7.8125 69.390625 \nQ 13.765625 71.78125 18.9375 73 \nQ 24.125 74.21875 28.421875 74.21875 \nQ 39.75 74.21875 46.484375 68.546875 \nQ 53.21875 62.890625 53.21875 53.421875 \nQ 53.21875 48.921875 51.53125 44.890625 \nQ 49.859375 40.875 45.40625 35.40625 \nQ 44.1875 33.984375 37.640625 27.21875 \nQ 31.109375 20.453125 19.1875 8.296875 \nz\n\" id=\"DejaVuSans-50\"/>\n       </defs>\n       <use xlink:href=\"#DejaVuSans-8722\"/>\n       <use x=\"83.789062\" xlink:href=\"#DejaVuSans-50\"/>\n      </g>\n     </g>\n    </g>\n    <g id=\"xtick_3\">\n     <g id=\"line2d_5\">\n      <path clip-path=\"url(#pe79ae97f77)\" d=\"M 173.082148 224.64 \nL 173.082148 7.2 \n\" style=\"fill:none;stroke:#b0b0b0;stroke-linecap:square;stroke-width:0.8;\"/>\n     </g>\n     <g id=\"line2d_6\">\n      <g>\n       <use style=\"stroke:#000000;stroke-width:0.8;\" x=\"173.082148\" xlink:href=\"#m9bdf66ca17\" y=\"224.64\"/>\n      </g>\n     </g>\n     <g id=\"text_3\">\n      <!-- −1 -->\n      <g transform=\"translate(165.711054 239.238437)scale(0.1 -0.1)\">\n       <defs>\n        <path d=\"M 12.40625 8.296875 \nL 28.515625 8.296875 \nL 28.515625 63.921875 \nL 10.984375 60.40625 \nL 10.984375 69.390625 \nL 28.421875 72.90625 \nL 38.28125 72.90625 \nL 38.28125 8.296875 \nL 54.390625 8.296875 \nL 54.390625 0 \nL 12.40625 0 \nz\n\" id=\"DejaVuSans-49\"/>\n       </defs>\n       <use xlink:href=\"#DejaVuSans-8722\"/>\n       <use x=\"83.789062\" xlink:href=\"#DejaVuSans-49\"/>\n      </g>\n     </g>\n    </g>\n    <g id=\"xtick_4\">\n     <g id=\"line2d_7\">\n      <path clip-path=\"url(#pe79ae97f77)\" d=\"M 230.03161 224.64 \nL 230.03161 7.2 \n\" style=\"fill:none;stroke:#b0b0b0;stroke-linecap:square;stroke-width:0.8;\"/>\n     </g>\n     <g id=\"line2d_8\">\n      <g>\n       <use style=\"stroke:#000000;stroke-width:0.8;\" x=\"230.03161\" xlink:href=\"#m9bdf66ca17\" y=\"224.64\"/>\n      </g>\n     </g>\n     <g id=\"text_4\">\n      <!-- 0 -->\n      <g transform=\"translate(226.85036 239.238437)scale(0.1 -0.1)\">\n       <defs>\n        <path d=\"M 31.78125 66.40625 \nQ 24.171875 66.40625 20.328125 58.90625 \nQ 16.5 51.421875 16.5 36.375 \nQ 16.5 21.390625 20.328125 13.890625 \nQ 24.171875 6.390625 31.78125 6.390625 \nQ 39.453125 6.390625 43.28125 13.890625 \nQ 47.125 21.390625 47.125 36.375 \nQ 47.125 51.421875 43.28125 58.90625 \nQ 39.453125 66.40625 31.78125 66.40625 \nz\nM 31.78125 74.21875 \nQ 44.046875 74.21875 50.515625 64.515625 \nQ 56.984375 54.828125 56.984375 36.375 \nQ 56.984375 17.96875 50.515625 8.265625 \nQ 44.046875 -1.421875 31.78125 -1.421875 \nQ 19.53125 -1.421875 13.0625 8.265625 \nQ 6.59375 17.96875 6.59375 36.375 \nQ 6.59375 54.828125 13.0625 64.515625 \nQ 19.53125 74.21875 31.78125 74.21875 \nz\n\" id=\"DejaVuSans-48\"/>\n       </defs>\n       <use xlink:href=\"#DejaVuSans-48\"/>\n      </g>\n     </g>\n    </g>\n    <g id=\"xtick_5\">\n     <g id=\"line2d_9\">\n      <path clip-path=\"url(#pe79ae97f77)\" d=\"M 286.981071 224.64 \nL 286.981071 7.2 \n\" style=\"fill:none;stroke:#b0b0b0;stroke-linecap:square;stroke-width:0.8;\"/>\n     </g>\n     <g id=\"line2d_10\">\n      <g>\n       <use style=\"stroke:#000000;stroke-width:0.8;\" x=\"286.981071\" xlink:href=\"#m9bdf66ca17\" y=\"224.64\"/>\n      </g>\n     </g>\n     <g id=\"text_5\">\n      <!-- 1 -->\n      <g transform=\"translate(283.799821 239.238437)scale(0.1 -0.1)\">\n       <use xlink:href=\"#DejaVuSans-49\"/>\n      </g>\n     </g>\n    </g>\n    <g id=\"xtick_6\">\n     <g id=\"line2d_11\">\n      <path clip-path=\"url(#pe79ae97f77)\" d=\"M 343.930533 224.64 \nL 343.930533 7.2 \n\" style=\"fill:none;stroke:#b0b0b0;stroke-linecap:square;stroke-width:0.8;\"/>\n     </g>\n     <g id=\"line2d_12\">\n      <g>\n       <use style=\"stroke:#000000;stroke-width:0.8;\" x=\"343.930533\" xlink:href=\"#m9bdf66ca17\" y=\"224.64\"/>\n      </g>\n     </g>\n     <g id=\"text_6\">\n      <!-- 2 -->\n      <g transform=\"translate(340.749283 239.238437)scale(0.1 -0.1)\">\n       <use xlink:href=\"#DejaVuSans-50\"/>\n      </g>\n     </g>\n    </g>\n    <g id=\"text_7\">\n     <!-- $X_1$ -->\n     <g transform=\"translate(204.220313 252.916562)scale(0.1 -0.1)\">\n      <defs>\n       <path d=\"M 13.71875 72.90625 \nL 23.6875 72.90625 \nL 36.1875 46.578125 \nL 58.796875 72.90625 \nL 70.3125 72.90625 \nL 40.28125 38.09375 \nL 58.40625 0 \nL 48.484375 0 \nL 33.796875 30.71875 \nL 7.171875 0 \nL -4.296875 0 \nL 29.78125 39.203125 \nz\n\" id=\"DejaVuSans-Oblique-88\"/>\n      </defs>\n      <use transform=\"translate(0 0.09375)\" xlink:href=\"#DejaVuSans-Oblique-88\"/>\n      <use transform=\"translate(68.505859 -16.3125)scale(0.7)\" xlink:href=\"#DejaVuSans-49\"/>\n     </g>\n    </g>\n   </g>\n   <g id=\"matplotlib.axis_2\">\n    <g id=\"ytick_1\">\n     <g id=\"line2d_13\">\n      <path clip-path=\"url(#pe79ae97f77)\" d=\"M 42.620313 219.571552 \nL 377.420313 219.571552 \n\" style=\"fill:none;stroke:#b0b0b0;stroke-linecap:square;stroke-width:0.8;\"/>\n     </g>\n     <g id=\"line2d_14\">\n      <defs>\n       <path d=\"M 0 0 \nL -3.5 0 \n\" id=\"mc7f43299d8\" style=\"stroke:#000000;stroke-width:0.8;\"/>\n      </defs>\n      <g>\n       <use style=\"stroke:#000000;stroke-width:0.8;\" x=\"42.620313\" xlink:href=\"#mc7f43299d8\" y=\"219.571552\"/>\n      </g>\n     </g>\n     <g id=\"text_8\">\n      <!-- −8 -->\n      <g transform=\"translate(20.878125 223.370771)scale(0.1 -0.1)\">\n       <defs>\n        <path d=\"M 31.78125 34.625 \nQ 24.75 34.625 20.71875 30.859375 \nQ 16.703125 27.09375 16.703125 20.515625 \nQ 16.703125 13.921875 20.71875 10.15625 \nQ 24.75 6.390625 31.78125 6.390625 \nQ 38.8125 6.390625 42.859375 10.171875 \nQ 46.921875 13.96875 46.921875 20.515625 \nQ 46.921875 27.09375 42.890625 30.859375 \nQ 38.875 34.625 31.78125 34.625 \nz\nM 21.921875 38.8125 \nQ 15.578125 40.375 12.03125 44.71875 \nQ 8.5 49.078125 8.5 55.328125 \nQ 8.5 64.0625 14.71875 69.140625 \nQ 20.953125 74.21875 31.78125 74.21875 \nQ 42.671875 74.21875 48.875 69.140625 \nQ 55.078125 64.0625 55.078125 55.328125 \nQ 55.078125 49.078125 51.53125 44.71875 \nQ 48 40.375 41.703125 38.8125 \nQ 48.828125 37.15625 52.796875 32.3125 \nQ 56.78125 27.484375 56.78125 20.515625 \nQ 56.78125 9.90625 50.3125 4.234375 \nQ 43.84375 -1.421875 31.78125 -1.421875 \nQ 19.734375 -1.421875 13.25 4.234375 \nQ 6.78125 9.90625 6.78125 20.515625 \nQ 6.78125 27.484375 10.78125 32.3125 \nQ 14.796875 37.15625 21.921875 38.8125 \nz\nM 18.3125 54.390625 \nQ 18.3125 48.734375 21.84375 45.5625 \nQ 25.390625 42.390625 31.78125 42.390625 \nQ 38.140625 42.390625 41.71875 45.5625 \nQ 45.3125 48.734375 45.3125 54.390625 \nQ 45.3125 60.0625 41.71875 63.234375 \nQ 38.140625 66.40625 31.78125 66.40625 \nQ 25.390625 66.40625 21.84375 63.234375 \nQ 18.3125 60.0625 18.3125 54.390625 \nz\n\" id=\"DejaVuSans-56\"/>\n       </defs>\n       <use xlink:href=\"#DejaVuSans-8722\"/>\n       <use x=\"83.789062\" xlink:href=\"#DejaVuSans-56\"/>\n      </g>\n     </g>\n    </g>\n    <g id=\"ytick_2\">\n     <g id=\"line2d_15\">\n      <path clip-path=\"url(#pe79ae97f77)\" d=\"M 42.620313 190.598735 \nL 377.420313 190.598735 \n\" style=\"fill:none;stroke:#b0b0b0;stroke-linecap:square;stroke-width:0.8;\"/>\n     </g>\n     <g id=\"line2d_16\">\n      <g>\n       <use style=\"stroke:#000000;stroke-width:0.8;\" x=\"42.620313\" xlink:href=\"#mc7f43299d8\" y=\"190.598735\"/>\n      </g>\n     </g>\n     <g id=\"text_9\">\n      <!-- −6 -->\n      <g transform=\"translate(20.878125 194.397954)scale(0.1 -0.1)\">\n       <defs>\n        <path d=\"M 33.015625 40.375 \nQ 26.375 40.375 22.484375 35.828125 \nQ 18.609375 31.296875 18.609375 23.390625 \nQ 18.609375 15.53125 22.484375 10.953125 \nQ 26.375 6.390625 33.015625 6.390625 \nQ 39.65625 6.390625 43.53125 10.953125 \nQ 47.40625 15.53125 47.40625 23.390625 \nQ 47.40625 31.296875 43.53125 35.828125 \nQ 39.65625 40.375 33.015625 40.375 \nz\nM 52.59375 71.296875 \nL 52.59375 62.3125 \nQ 48.875 64.0625 45.09375 64.984375 \nQ 41.3125 65.921875 37.59375 65.921875 \nQ 27.828125 65.921875 22.671875 59.328125 \nQ 17.53125 52.734375 16.796875 39.40625 \nQ 19.671875 43.65625 24.015625 45.921875 \nQ 28.375 48.1875 33.59375 48.1875 \nQ 44.578125 48.1875 50.953125 41.515625 \nQ 57.328125 34.859375 57.328125 23.390625 \nQ 57.328125 12.15625 50.6875 5.359375 \nQ 44.046875 -1.421875 33.015625 -1.421875 \nQ 20.359375 -1.421875 13.671875 8.265625 \nQ 6.984375 17.96875 6.984375 36.375 \nQ 6.984375 53.65625 15.1875 63.9375 \nQ 23.390625 74.21875 37.203125 74.21875 \nQ 40.921875 74.21875 44.703125 73.484375 \nQ 48.484375 72.75 52.59375 71.296875 \nz\n\" id=\"DejaVuSans-54\"/>\n       </defs>\n       <use xlink:href=\"#DejaVuSans-8722\"/>\n       <use x=\"83.789062\" xlink:href=\"#DejaVuSans-54\"/>\n      </g>\n     </g>\n    </g>\n    <g id=\"ytick_3\">\n     <g id=\"line2d_17\">\n      <path clip-path=\"url(#pe79ae97f77)\" d=\"M 42.620313 161.625918 \nL 377.420313 161.625918 \n\" style=\"fill:none;stroke:#b0b0b0;stroke-linecap:square;stroke-width:0.8;\"/>\n     </g>\n     <g id=\"line2d_18\">\n      <g>\n       <use style=\"stroke:#000000;stroke-width:0.8;\" x=\"42.620313\" xlink:href=\"#mc7f43299d8\" y=\"161.625918\"/>\n      </g>\n     </g>\n     <g id=\"text_10\">\n      <!-- −4 -->\n      <g transform=\"translate(20.878125 165.425137)scale(0.1 -0.1)\">\n       <defs>\n        <path d=\"M 37.796875 64.3125 \nL 12.890625 25.390625 \nL 37.796875 25.390625 \nz\nM 35.203125 72.90625 \nL 47.609375 72.90625 \nL 47.609375 25.390625 \nL 58.015625 25.390625 \nL 58.015625 17.1875 \nL 47.609375 17.1875 \nL 47.609375 0 \nL 37.796875 0 \nL 37.796875 17.1875 \nL 4.890625 17.1875 \nL 4.890625 26.703125 \nz\n\" id=\"DejaVuSans-52\"/>\n       </defs>\n       <use xlink:href=\"#DejaVuSans-8722\"/>\n       <use x=\"83.789062\" xlink:href=\"#DejaVuSans-52\"/>\n      </g>\n     </g>\n    </g>\n    <g id=\"ytick_4\">\n     <g id=\"line2d_19\">\n      <path clip-path=\"url(#pe79ae97f77)\" d=\"M 42.620313 132.653102 \nL 377.420313 132.653102 \n\" style=\"fill:none;stroke:#b0b0b0;stroke-linecap:square;stroke-width:0.8;\"/>\n     </g>\n     <g id=\"line2d_20\">\n      <g>\n       <use style=\"stroke:#000000;stroke-width:0.8;\" x=\"42.620313\" xlink:href=\"#mc7f43299d8\" y=\"132.653102\"/>\n      </g>\n     </g>\n     <g id=\"text_11\">\n      <!-- −2 -->\n      <g transform=\"translate(20.878125 136.452321)scale(0.1 -0.1)\">\n       <use xlink:href=\"#DejaVuSans-8722\"/>\n       <use x=\"83.789062\" xlink:href=\"#DejaVuSans-50\"/>\n      </g>\n     </g>\n    </g>\n    <g id=\"ytick_5\">\n     <g id=\"line2d_21\">\n      <path clip-path=\"url(#pe79ae97f77)\" d=\"M 42.620313 103.680285 \nL 377.420313 103.680285 \n\" style=\"fill:none;stroke:#b0b0b0;stroke-linecap:square;stroke-width:0.8;\"/>\n     </g>\n     <g id=\"line2d_22\">\n      <g>\n       <use style=\"stroke:#000000;stroke-width:0.8;\" x=\"42.620313\" xlink:href=\"#mc7f43299d8\" y=\"103.680285\"/>\n      </g>\n     </g>\n     <g id=\"text_12\">\n      <!-- 0 -->\n      <g transform=\"translate(29.257813 107.479504)scale(0.1 -0.1)\">\n       <use xlink:href=\"#DejaVuSans-48\"/>\n      </g>\n     </g>\n    </g>\n    <g id=\"ytick_6\">\n     <g id=\"line2d_23\">\n      <path clip-path=\"url(#pe79ae97f77)\" d=\"M 42.620313 74.707468 \nL 377.420313 74.707468 \n\" style=\"fill:none;stroke:#b0b0b0;stroke-linecap:square;stroke-width:0.8;\"/>\n     </g>\n     <g id=\"line2d_24\">\n      <g>\n       <use style=\"stroke:#000000;stroke-width:0.8;\" x=\"42.620313\" xlink:href=\"#mc7f43299d8\" y=\"74.707468\"/>\n      </g>\n     </g>\n     <g id=\"text_13\">\n      <!-- 2 -->\n      <g transform=\"translate(29.257813 78.506687)scale(0.1 -0.1)\">\n       <use xlink:href=\"#DejaVuSans-50\"/>\n      </g>\n     </g>\n    </g>\n    <g id=\"ytick_7\">\n     <g id=\"line2d_25\">\n      <path clip-path=\"url(#pe79ae97f77)\" d=\"M 42.620313 45.734652 \nL 377.420313 45.734652 \n\" style=\"fill:none;stroke:#b0b0b0;stroke-linecap:square;stroke-width:0.8;\"/>\n     </g>\n     <g id=\"line2d_26\">\n      <g>\n       <use style=\"stroke:#000000;stroke-width:0.8;\" x=\"42.620313\" xlink:href=\"#mc7f43299d8\" y=\"45.734652\"/>\n      </g>\n     </g>\n     <g id=\"text_14\">\n      <!-- 4 -->\n      <g transform=\"translate(29.257813 49.53387)scale(0.1 -0.1)\">\n       <use xlink:href=\"#DejaVuSans-52\"/>\n      </g>\n     </g>\n    </g>\n    <g id=\"ytick_8\">\n     <g id=\"line2d_27\">\n      <path clip-path=\"url(#pe79ae97f77)\" d=\"M 42.620313 16.761835 \nL 377.420313 16.761835 \n\" style=\"fill:none;stroke:#b0b0b0;stroke-linecap:square;stroke-width:0.8;\"/>\n     </g>\n     <g id=\"line2d_28\">\n      <g>\n       <use style=\"stroke:#000000;stroke-width:0.8;\" x=\"42.620313\" xlink:href=\"#mc7f43299d8\" y=\"16.761835\"/>\n      </g>\n     </g>\n     <g id=\"text_15\">\n      <!-- 6 -->\n      <g transform=\"translate(29.257813 20.561054)scale(0.1 -0.1)\">\n       <use xlink:href=\"#DejaVuSans-54\"/>\n      </g>\n     </g>\n    </g>\n    <g id=\"text_16\">\n     <!-- $X_2$ -->\n     <g transform=\"translate(14.798438 121.72)rotate(-90)scale(0.1 -0.1)\">\n      <use transform=\"translate(0 0.09375)\" xlink:href=\"#DejaVuSans-Oblique-88\"/>\n      <use transform=\"translate(68.505859 -16.3125)scale(0.7)\" xlink:href=\"#DejaVuSans-50\"/>\n     </g>\n    </g>\n   </g>\n   <g id=\"patch_3\">\n    <path d=\"M 42.620313 224.64 \nL 42.620313 7.2 \n\" style=\"fill:none;stroke:#000000;stroke-linecap:square;stroke-linejoin:miter;stroke-width:0.8;\"/>\n   </g>\n   <g id=\"patch_4\">\n    <path d=\"M 377.420313 224.64 \nL 377.420313 7.2 \n\" style=\"fill:none;stroke:#000000;stroke-linecap:square;stroke-linejoin:miter;stroke-width:0.8;\"/>\n   </g>\n   <g id=\"patch_5\">\n    <path d=\"M 42.620312 224.64 \nL 377.420313 224.64 \n\" style=\"fill:none;stroke:#000000;stroke-linecap:square;stroke-linejoin:miter;stroke-width:0.8;\"/>\n   </g>\n   <g id=\"patch_6\">\n    <path d=\"M 42.620312 7.2 \nL 377.420313 7.2 \n\" style=\"fill:none;stroke:#000000;stroke-linecap:square;stroke-linejoin:miter;stroke-width:0.8;\"/>\n   </g>\n  </g>\n </g>\n <defs>\n  <clipPath id=\"pe79ae97f77\">\n   <rect height=\"217.44\" width=\"334.8\" x=\"42.620313\" y=\"7.2\"/>\n  </clipPath>\n </defs>\n</svg>\n",
      "image/png": "[encoded data removed]"
     },
     "metadata": {
      "needs_background": "light"
     }
    }
   ],
   "source": [
    "plt.scatter(x[:, 0], x[:, 1], alpha=0.3)\n",
    "plt.scatter(selection[:, 0], selection[:, 1],\n",
    "facecolor='none', s=300,color = 'black');\n",
    "plt.grid()\n",
    "plt.xlabel('$X_1$')\n",
    "plt.ylabel('$X_2$')"
   ]
  },
  {
   "cell_type": "code",
   "execution_count": null,
   "metadata": {},
   "outputs": [],
   "source": []
  }
 ],
 "metadata": {
  "kernelspec": {
   "name": "python3",
   "display_name": "Python 3.8.5 64-bit ('base': conda)"
  },
  "language_info": {
   "codemirror_mode": {
    "name": "ipython",
    "version": 3
   },
   "file_extension": ".py",
   "mimetype": "text/x-python",
   "name": "python",
   "nbconvert_exporter": "python",
   "pygments_lexer": "ipython3",
   "version": "3.8.5"
  },
  "interpreter": {
   "hash": "899a33b20680b0783545e083e7871766e208dc1cce3c06a8413a7b8179cbaf55"
  }
 },
 "nbformat": 4,
 "nbformat_minor": 4
}